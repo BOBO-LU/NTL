{
 "cells": [
  {
   "cell_type": "code",
   "execution_count": 23,
   "id": "alternative-progressive",
   "metadata": {},
   "outputs": [],
   "source": [
    "import pandas as pd\n",
    "import numpy as np\n",
    "import os\n",
    "from sklearn.model_selection import RepeatedStratifiedKFold, cross_val_score, GridSearchCV\n",
    "from matplotlib import pyplot as plt\n",
    "from numpy import mean\n",
    "from sklearn.datasets import make_classification\n",
    "from xgboost import XGBClassifier\n",
    "from sklearn.ensemble import AdaBoostClassifier\n",
    "from sklearn.inspection import permutation_importance\n",
    "from sklearn.metrics import (accuracy_score, auc, f1_score, precision_score,\n",
    "                             recall_score, roc_auc_score, silhouette_score)\n",
    "from sklearn.model_selection import (GridSearchCV, RepeatedStratifiedKFold,\n",
    "                                     ShuffleSplit, StratifiedShuffleSplit,\n",
    "                                     cross_val_score)"
   ]
  },
  {
   "cell_type": "code",
   "execution_count": 2,
   "id": "pressed-nelson",
   "metadata": {},
   "outputs": [],
   "source": [
    "IMAGES_PATH = \"Image\""
   ]
  },
  {
   "cell_type": "code",
   "execution_count": 4,
   "id": "intense-tissue",
   "metadata": {},
   "outputs": [],
   "source": [
    "def concat_two_df_and_drop_same_column_in_df2(DF1, DF2):\n",
    "    display(DF1.head(1))\n",
    "    display(DF2.head(1))\n",
    "    DF2.drop(DF2.columns[DF2.columns.isin(DF1.columns)],axis=1,inplace=True)\n",
    "#     DF1.drop(DF1.columns[DF1.columns.isin(DF2.columns)],axis=1,inplace=True)\n",
    "    result = pd.concat([DF1, DF2], axis=1)\n",
    "    display(result.head(1))\n",
    "    return result\n",
    "def count_list_val(arr):\n",
    "    values, counts = np.unique(arr, return_counts=True)\n",
    "    print(values, counts)"
   ]
  },
  {
   "cell_type": "code",
   "execution_count": 25,
   "id": "atlantic-booking",
   "metadata": {},
   "outputs": [],
   "source": [
    "four_time = pd.read_csv(\"CSV/four_time.csv\")\n",
    "v_value = pd.read_csv(\"CSV/v_value.csv\")\n",
    "mic = pd.read_csv(\"CSV/mic.csv\")\n",
    "dwt_distance = pd.read_csv(\"CSV/sdtw_day_score_df.csv\")\n",
    "smart_meter = pd.read_csv(\"smart_meter.csv\")"
   ]
  },
  {
   "cell_type": "code",
   "execution_count": 30,
   "id": "realistic-spank",
   "metadata": {},
   "outputs": [],
   "source": [
    "fdi = pd.read_csv(\"CSV/FDI.csv\")\n",
    "fdi_4225 = pd.read_csv(\"CSV/FDI_4225.csv\")"
   ]
  },
  {
   "cell_type": "code",
   "execution_count": 7,
   "id": "final-portsmouth",
   "metadata": {},
   "outputs": [
    {
     "data": {
      "text/html": [
       "<div>\n",
       "<style scoped>\n",
       "    .dataframe tbody tr th:only-of-type {\n",
       "        vertical-align: middle;\n",
       "    }\n",
       "\n",
       "    .dataframe tbody tr th {\n",
       "        vertical-align: top;\n",
       "    }\n",
       "\n",
       "    .dataframe thead th {\n",
       "        text-align: right;\n",
       "    }\n",
       "</style>\n",
       "<table border=\"1\" class=\"dataframe\">\n",
       "  <thead>\n",
       "    <tr style=\"text-align: right;\">\n",
       "      <th></th>\n",
       "      <th>MeterID</th>\n",
       "      <th>Day</th>\n",
       "      <th>FDI</th>\n",
       "    </tr>\n",
       "  </thead>\n",
       "  <tbody>\n",
       "    <tr>\n",
       "      <th>0</th>\n",
       "      <td>1236</td>\n",
       "      <td>2009-07-15</td>\n",
       "      <td>1.0</td>\n",
       "    </tr>\n",
       "  </tbody>\n",
       "</table>\n",
       "</div>"
      ],
      "text/plain": [
       "   MeterID         Day  FDI\n",
       "0     1236  2009-07-15  1.0"
      ]
     },
     "metadata": {},
     "output_type": "display_data"
    },
    {
     "data": {
      "text/html": [
       "<div>\n",
       "<style scoped>\n",
       "    .dataframe tbody tr th:only-of-type {\n",
       "        vertical-align: middle;\n",
       "    }\n",
       "\n",
       "    .dataframe tbody tr th {\n",
       "        vertical-align: top;\n",
       "    }\n",
       "\n",
       "    .dataframe thead th {\n",
       "        text-align: right;\n",
       "    }\n",
       "</style>\n",
       "<table border=\"1\" class=\"dataframe\">\n",
       "  <thead>\n",
       "    <tr style=\"text-align: right;\">\n",
       "      <th></th>\n",
       "      <th>MeterID</th>\n",
       "      <th>Day</th>\n",
       "      <th>FDI</th>\n",
       "      <th>Tmax1</th>\n",
       "      <th>Tmax2</th>\n",
       "      <th>Tmin1</th>\n",
       "      <th>Cmax1</th>\n",
       "      <th>Cmax2</th>\n",
       "      <th>Cmin1</th>\n",
       "    </tr>\n",
       "  </thead>\n",
       "  <tbody>\n",
       "    <tr>\n",
       "      <th>0</th>\n",
       "      <td>5212</td>\n",
       "      <td>2010-12-31</td>\n",
       "      <td>True</td>\n",
       "      <td>12</td>\n",
       "      <td>30</td>\n",
       "      <td>15</td>\n",
       "      <td>0.046464</td>\n",
       "      <td>0.047532</td>\n",
       "      <td>0.013561</td>\n",
       "    </tr>\n",
       "  </tbody>\n",
       "</table>\n",
       "</div>"
      ],
      "text/plain": [
       "   MeterID         Day   FDI  Tmax1  Tmax2  Tmin1     Cmax1     Cmax2  \\\n",
       "0     5212  2010-12-31  True     12     30     15  0.046464  0.047532   \n",
       "\n",
       "      Cmin1  \n",
       "0  0.013561  "
      ]
     },
     "metadata": {},
     "output_type": "display_data"
    },
    {
     "data": {
      "text/html": [
       "<div>\n",
       "<style scoped>\n",
       "    .dataframe tbody tr th:only-of-type {\n",
       "        vertical-align: middle;\n",
       "    }\n",
       "\n",
       "    .dataframe tbody tr th {\n",
       "        vertical-align: top;\n",
       "    }\n",
       "\n",
       "    .dataframe thead th {\n",
       "        text-align: right;\n",
       "    }\n",
       "</style>\n",
       "<table border=\"1\" class=\"dataframe\">\n",
       "  <thead>\n",
       "    <tr style=\"text-align: right;\">\n",
       "      <th></th>\n",
       "      <th>MeterID</th>\n",
       "      <th>Day</th>\n",
       "      <th>FDI</th>\n",
       "      <th>Tmax1</th>\n",
       "      <th>Tmax2</th>\n",
       "      <th>Tmin1</th>\n",
       "      <th>Cmax1</th>\n",
       "      <th>Cmax2</th>\n",
       "      <th>Cmin1</th>\n",
       "    </tr>\n",
       "  </thead>\n",
       "  <tbody>\n",
       "    <tr>\n",
       "      <th>0</th>\n",
       "      <td>1236</td>\n",
       "      <td>2009-07-15</td>\n",
       "      <td>1.0</td>\n",
       "      <td>12</td>\n",
       "      <td>30</td>\n",
       "      <td>15</td>\n",
       "      <td>0.046464</td>\n",
       "      <td>0.047532</td>\n",
       "      <td>0.013561</td>\n",
       "    </tr>\n",
       "  </tbody>\n",
       "</table>\n",
       "</div>"
      ],
      "text/plain": [
       "   MeterID         Day  FDI  Tmax1  Tmax2  Tmin1     Cmax1     Cmax2     Cmin1\n",
       "0     1236  2009-07-15  1.0     12     30     15  0.046464  0.047532  0.013561"
      ]
     },
     "metadata": {},
     "output_type": "display_data"
    },
    {
     "data": {
      "text/html": [
       "<div>\n",
       "<style scoped>\n",
       "    .dataframe tbody tr th:only-of-type {\n",
       "        vertical-align: middle;\n",
       "    }\n",
       "\n",
       "    .dataframe tbody tr th {\n",
       "        vertical-align: top;\n",
       "    }\n",
       "\n",
       "    .dataframe thead th {\n",
       "        text-align: right;\n",
       "    }\n",
       "</style>\n",
       "<table border=\"1\" class=\"dataframe\">\n",
       "  <thead>\n",
       "    <tr style=\"text-align: right;\">\n",
       "      <th></th>\n",
       "      <th>MeterID</th>\n",
       "      <th>Day</th>\n",
       "      <th>FDI</th>\n",
       "      <th>Tmax1</th>\n",
       "      <th>Tmax2</th>\n",
       "      <th>Tmin1</th>\n",
       "      <th>Cmax1</th>\n",
       "      <th>Cmax2</th>\n",
       "      <th>Cmin1</th>\n",
       "    </tr>\n",
       "  </thead>\n",
       "  <tbody>\n",
       "    <tr>\n",
       "      <th>0</th>\n",
       "      <td>1236</td>\n",
       "      <td>2009-07-15</td>\n",
       "      <td>1.0</td>\n",
       "      <td>12</td>\n",
       "      <td>30</td>\n",
       "      <td>15</td>\n",
       "      <td>0.046464</td>\n",
       "      <td>0.047532</td>\n",
       "      <td>0.013561</td>\n",
       "    </tr>\n",
       "  </tbody>\n",
       "</table>\n",
       "</div>"
      ],
      "text/plain": [
       "   MeterID         Day  FDI  Tmax1  Tmax2  Tmin1     Cmax1     Cmax2     Cmin1\n",
       "0     1236  2009-07-15  1.0     12     30     15  0.046464  0.047532  0.013561"
      ]
     },
     "metadata": {},
     "output_type": "display_data"
    },
    {
     "data": {
      "text/html": [
       "<div>\n",
       "<style scoped>\n",
       "    .dataframe tbody tr th:only-of-type {\n",
       "        vertical-align: middle;\n",
       "    }\n",
       "\n",
       "    .dataframe tbody tr th {\n",
       "        vertical-align: top;\n",
       "    }\n",
       "\n",
       "    .dataframe thead th {\n",
       "        text-align: right;\n",
       "    }\n",
       "</style>\n",
       "<table border=\"1\" class=\"dataframe\">\n",
       "  <thead>\n",
       "    <tr style=\"text-align: right;\">\n",
       "      <th></th>\n",
       "      <th>MeterID</th>\n",
       "      <th>Day</th>\n",
       "      <th>FDI</th>\n",
       "      <th>overnight</th>\n",
       "      <th>breakfast</th>\n",
       "      <th>daytime</th>\n",
       "      <th>evening</th>\n",
       "    </tr>\n",
       "  </thead>\n",
       "  <tbody>\n",
       "    <tr>\n",
       "      <th>0</th>\n",
       "      <td>1236</td>\n",
       "      <td>2009-07-15</td>\n",
       "      <td>True</td>\n",
       "      <td>5.380015</td>\n",
       "      <td>15.5</td>\n",
       "      <td>24.5</td>\n",
       "      <td>38.0</td>\n",
       "    </tr>\n",
       "  </tbody>\n",
       "</table>\n",
       "</div>"
      ],
      "text/plain": [
       "   MeterID         Day   FDI  overnight  breakfast  daytime  evening\n",
       "0     1236  2009-07-15  True   5.380015       15.5     24.5     38.0"
      ]
     },
     "metadata": {},
     "output_type": "display_data"
    },
    {
     "data": {
      "text/html": [
       "<div>\n",
       "<style scoped>\n",
       "    .dataframe tbody tr th:only-of-type {\n",
       "        vertical-align: middle;\n",
       "    }\n",
       "\n",
       "    .dataframe tbody tr th {\n",
       "        vertical-align: top;\n",
       "    }\n",
       "\n",
       "    .dataframe thead th {\n",
       "        text-align: right;\n",
       "    }\n",
       "</style>\n",
       "<table border=\"1\" class=\"dataframe\">\n",
       "  <thead>\n",
       "    <tr style=\"text-align: right;\">\n",
       "      <th></th>\n",
       "      <th>MeterID</th>\n",
       "      <th>Day</th>\n",
       "      <th>FDI</th>\n",
       "      <th>Tmax1</th>\n",
       "      <th>Tmax2</th>\n",
       "      <th>Tmin1</th>\n",
       "      <th>Cmax1</th>\n",
       "      <th>Cmax2</th>\n",
       "      <th>Cmin1</th>\n",
       "      <th>overnight</th>\n",
       "      <th>breakfast</th>\n",
       "      <th>daytime</th>\n",
       "      <th>evening</th>\n",
       "    </tr>\n",
       "  </thead>\n",
       "  <tbody>\n",
       "    <tr>\n",
       "      <th>0</th>\n",
       "      <td>1236</td>\n",
       "      <td>2009-07-15</td>\n",
       "      <td>1.0</td>\n",
       "      <td>12</td>\n",
       "      <td>30</td>\n",
       "      <td>15</td>\n",
       "      <td>0.046464</td>\n",
       "      <td>0.047532</td>\n",
       "      <td>0.013561</td>\n",
       "      <td>5.380015</td>\n",
       "      <td>15.5</td>\n",
       "      <td>24.5</td>\n",
       "      <td>38.0</td>\n",
       "    </tr>\n",
       "  </tbody>\n",
       "</table>\n",
       "</div>"
      ],
      "text/plain": [
       "   MeterID         Day  FDI  Tmax1  Tmax2  Tmin1     Cmax1     Cmax2  \\\n",
       "0     1236  2009-07-15  1.0     12     30     15  0.046464  0.047532   \n",
       "\n",
       "      Cmin1  overnight  breakfast  daytime  evening  \n",
       "0  0.013561   5.380015       15.5     24.5     38.0  "
      ]
     },
     "metadata": {},
     "output_type": "display_data"
    },
    {
     "data": {
      "text/html": [
       "<div>\n",
       "<style scoped>\n",
       "    .dataframe tbody tr th:only-of-type {\n",
       "        vertical-align: middle;\n",
       "    }\n",
       "\n",
       "    .dataframe tbody tr th {\n",
       "        vertical-align: top;\n",
       "    }\n",
       "\n",
       "    .dataframe thead th {\n",
       "        text-align: right;\n",
       "    }\n",
       "</style>\n",
       "<table border=\"1\" class=\"dataframe\">\n",
       "  <thead>\n",
       "    <tr style=\"text-align: right;\">\n",
       "      <th></th>\n",
       "      <th>MeterID</th>\n",
       "      <th>Day</th>\n",
       "      <th>FDI</th>\n",
       "      <th>Tmax1</th>\n",
       "      <th>Tmax2</th>\n",
       "      <th>Tmin1</th>\n",
       "      <th>Cmax1</th>\n",
       "      <th>Cmax2</th>\n",
       "      <th>Cmin1</th>\n",
       "      <th>overnight</th>\n",
       "      <th>breakfast</th>\n",
       "      <th>daytime</th>\n",
       "      <th>evening</th>\n",
       "    </tr>\n",
       "  </thead>\n",
       "  <tbody>\n",
       "    <tr>\n",
       "      <th>0</th>\n",
       "      <td>1236</td>\n",
       "      <td>2009-07-15</td>\n",
       "      <td>1.0</td>\n",
       "      <td>12</td>\n",
       "      <td>30</td>\n",
       "      <td>15</td>\n",
       "      <td>0.046464</td>\n",
       "      <td>0.047532</td>\n",
       "      <td>0.013561</td>\n",
       "      <td>5.380015</td>\n",
       "      <td>15.5</td>\n",
       "      <td>24.5</td>\n",
       "      <td>38.0</td>\n",
       "    </tr>\n",
       "  </tbody>\n",
       "</table>\n",
       "</div>"
      ],
      "text/plain": [
       "   MeterID         Day  FDI  Tmax1  Tmax2  Tmin1     Cmax1     Cmax2  \\\n",
       "0     1236  2009-07-15  1.0     12     30     15  0.046464  0.047532   \n",
       "\n",
       "      Cmin1  overnight  breakfast  daytime  evening  \n",
       "0  0.013561   5.380015       15.5     24.5     38.0  "
      ]
     },
     "metadata": {},
     "output_type": "display_data"
    },
    {
     "data": {
      "text/html": [
       "<div>\n",
       "<style scoped>\n",
       "    .dataframe tbody tr th:only-of-type {\n",
       "        vertical-align: middle;\n",
       "    }\n",
       "\n",
       "    .dataframe tbody tr th {\n",
       "        vertical-align: top;\n",
       "    }\n",
       "\n",
       "    .dataframe thead th {\n",
       "        text-align: right;\n",
       "    }\n",
       "</style>\n",
       "<table border=\"1\" class=\"dataframe\">\n",
       "  <thead>\n",
       "    <tr style=\"text-align: right;\">\n",
       "      <th></th>\n",
       "      <th>MeterID</th>\n",
       "      <th>Day</th>\n",
       "      <th>FDI</th>\n",
       "      <th>mic</th>\n",
       "    </tr>\n",
       "  </thead>\n",
       "  <tbody>\n",
       "    <tr>\n",
       "      <th>0</th>\n",
       "      <td>1236</td>\n",
       "      <td>2009-07-15</td>\n",
       "      <td>True</td>\n",
       "      <td>0.624128</td>\n",
       "    </tr>\n",
       "  </tbody>\n",
       "</table>\n",
       "</div>"
      ],
      "text/plain": [
       "   MeterID         Day   FDI       mic\n",
       "0     1236  2009-07-15  True  0.624128"
      ]
     },
     "metadata": {},
     "output_type": "display_data"
    },
    {
     "data": {
      "text/html": [
       "<div>\n",
       "<style scoped>\n",
       "    .dataframe tbody tr th:only-of-type {\n",
       "        vertical-align: middle;\n",
       "    }\n",
       "\n",
       "    .dataframe tbody tr th {\n",
       "        vertical-align: top;\n",
       "    }\n",
       "\n",
       "    .dataframe thead th {\n",
       "        text-align: right;\n",
       "    }\n",
       "</style>\n",
       "<table border=\"1\" class=\"dataframe\">\n",
       "  <thead>\n",
       "    <tr style=\"text-align: right;\">\n",
       "      <th></th>\n",
       "      <th>MeterID</th>\n",
       "      <th>Day</th>\n",
       "      <th>FDI</th>\n",
       "      <th>Tmax1</th>\n",
       "      <th>Tmax2</th>\n",
       "      <th>Tmin1</th>\n",
       "      <th>Cmax1</th>\n",
       "      <th>Cmax2</th>\n",
       "      <th>Cmin1</th>\n",
       "      <th>overnight</th>\n",
       "      <th>breakfast</th>\n",
       "      <th>daytime</th>\n",
       "      <th>evening</th>\n",
       "      <th>mic</th>\n",
       "    </tr>\n",
       "  </thead>\n",
       "  <tbody>\n",
       "    <tr>\n",
       "      <th>0</th>\n",
       "      <td>1236</td>\n",
       "      <td>2009-07-15</td>\n",
       "      <td>1.0</td>\n",
       "      <td>12</td>\n",
       "      <td>30</td>\n",
       "      <td>15</td>\n",
       "      <td>0.046464</td>\n",
       "      <td>0.047532</td>\n",
       "      <td>0.013561</td>\n",
       "      <td>5.380015</td>\n",
       "      <td>15.5</td>\n",
       "      <td>24.5</td>\n",
       "      <td>38.0</td>\n",
       "      <td>0.624128</td>\n",
       "    </tr>\n",
       "  </tbody>\n",
       "</table>\n",
       "</div>"
      ],
      "text/plain": [
       "   MeterID         Day  FDI  Tmax1  Tmax2  Tmin1     Cmax1     Cmax2  \\\n",
       "0     1236  2009-07-15  1.0     12     30     15  0.046464  0.047532   \n",
       "\n",
       "      Cmin1  overnight  breakfast  daytime  evening       mic  \n",
       "0  0.013561   5.380015       15.5     24.5     38.0  0.624128  "
      ]
     },
     "metadata": {},
     "output_type": "display_data"
    },
    {
     "data": {
      "text/html": [
       "<div>\n",
       "<style scoped>\n",
       "    .dataframe tbody tr th:only-of-type {\n",
       "        vertical-align: middle;\n",
       "    }\n",
       "\n",
       "    .dataframe tbody tr th {\n",
       "        vertical-align: top;\n",
       "    }\n",
       "\n",
       "    .dataframe thead th {\n",
       "        text-align: right;\n",
       "    }\n",
       "</style>\n",
       "<table border=\"1\" class=\"dataframe\">\n",
       "  <thead>\n",
       "    <tr style=\"text-align: right;\">\n",
       "      <th></th>\n",
       "      <th>MeterID</th>\n",
       "      <th>Day</th>\n",
       "      <th>FDI</th>\n",
       "      <th>Tmax1</th>\n",
       "      <th>Tmax2</th>\n",
       "      <th>Tmin1</th>\n",
       "      <th>Cmax1</th>\n",
       "      <th>Cmax2</th>\n",
       "      <th>Cmin1</th>\n",
       "      <th>overnight</th>\n",
       "      <th>breakfast</th>\n",
       "      <th>daytime</th>\n",
       "      <th>evening</th>\n",
       "      <th>mic</th>\n",
       "    </tr>\n",
       "  </thead>\n",
       "  <tbody>\n",
       "    <tr>\n",
       "      <th>0</th>\n",
       "      <td>1236</td>\n",
       "      <td>2009-07-15</td>\n",
       "      <td>1.0</td>\n",
       "      <td>12</td>\n",
       "      <td>30</td>\n",
       "      <td>15</td>\n",
       "      <td>0.046464</td>\n",
       "      <td>0.047532</td>\n",
       "      <td>0.013561</td>\n",
       "      <td>5.380015</td>\n",
       "      <td>15.5</td>\n",
       "      <td>24.5</td>\n",
       "      <td>38.0</td>\n",
       "      <td>0.624128</td>\n",
       "    </tr>\n",
       "  </tbody>\n",
       "</table>\n",
       "</div>"
      ],
      "text/plain": [
       "   MeterID         Day  FDI  Tmax1  Tmax2  Tmin1     Cmax1     Cmax2  \\\n",
       "0     1236  2009-07-15  1.0     12     30     15  0.046464  0.047532   \n",
       "\n",
       "      Cmin1  overnight  breakfast  daytime  evening       mic  \n",
       "0  0.013561   5.380015       15.5     24.5     38.0  0.624128  "
      ]
     },
     "metadata": {},
     "output_type": "display_data"
    },
    {
     "data": {
      "text/html": [
       "<div>\n",
       "<style scoped>\n",
       "    .dataframe tbody tr th:only-of-type {\n",
       "        vertical-align: middle;\n",
       "    }\n",
       "\n",
       "    .dataframe tbody tr th {\n",
       "        vertical-align: top;\n",
       "    }\n",
       "\n",
       "    .dataframe thead th {\n",
       "        text-align: right;\n",
       "    }\n",
       "</style>\n",
       "<table border=\"1\" class=\"dataframe\">\n",
       "  <thead>\n",
       "    <tr style=\"text-align: right;\">\n",
       "      <th></th>\n",
       "      <th>MeterID</th>\n",
       "      <th>Day</th>\n",
       "      <th>FDI</th>\n",
       "      <th>meter_dtw</th>\n",
       "      <th>meter_sdtw</th>\n",
       "    </tr>\n",
       "  </thead>\n",
       "  <tbody>\n",
       "    <tr>\n",
       "      <th>0</th>\n",
       "      <td>1236</td>\n",
       "      <td>2009-07-15</td>\n",
       "      <td>True</td>\n",
       "      <td>2.283294</td>\n",
       "      <td>-68.276715</td>\n",
       "    </tr>\n",
       "  </tbody>\n",
       "</table>\n",
       "</div>"
      ],
      "text/plain": [
       "   MeterID         Day   FDI  meter_dtw  meter_sdtw\n",
       "0     1236  2009-07-15  True   2.283294  -68.276715"
      ]
     },
     "metadata": {},
     "output_type": "display_data"
    },
    {
     "data": {
      "text/html": [
       "<div>\n",
       "<style scoped>\n",
       "    .dataframe tbody tr th:only-of-type {\n",
       "        vertical-align: middle;\n",
       "    }\n",
       "\n",
       "    .dataframe tbody tr th {\n",
       "        vertical-align: top;\n",
       "    }\n",
       "\n",
       "    .dataframe thead th {\n",
       "        text-align: right;\n",
       "    }\n",
       "</style>\n",
       "<table border=\"1\" class=\"dataframe\">\n",
       "  <thead>\n",
       "    <tr style=\"text-align: right;\">\n",
       "      <th></th>\n",
       "      <th>MeterID</th>\n",
       "      <th>Day</th>\n",
       "      <th>FDI</th>\n",
       "      <th>Tmax1</th>\n",
       "      <th>Tmax2</th>\n",
       "      <th>Tmin1</th>\n",
       "      <th>Cmax1</th>\n",
       "      <th>Cmax2</th>\n",
       "      <th>Cmin1</th>\n",
       "      <th>overnight</th>\n",
       "      <th>breakfast</th>\n",
       "      <th>daytime</th>\n",
       "      <th>evening</th>\n",
       "      <th>mic</th>\n",
       "      <th>meter_dtw</th>\n",
       "      <th>meter_sdtw</th>\n",
       "    </tr>\n",
       "  </thead>\n",
       "  <tbody>\n",
       "    <tr>\n",
       "      <th>0</th>\n",
       "      <td>1236</td>\n",
       "      <td>2009-07-15</td>\n",
       "      <td>1.0</td>\n",
       "      <td>12</td>\n",
       "      <td>30</td>\n",
       "      <td>15</td>\n",
       "      <td>0.046464</td>\n",
       "      <td>0.047532</td>\n",
       "      <td>0.013561</td>\n",
       "      <td>5.380015</td>\n",
       "      <td>15.5</td>\n",
       "      <td>24.5</td>\n",
       "      <td>38.0</td>\n",
       "      <td>0.624128</td>\n",
       "      <td>2.283294</td>\n",
       "      <td>-68.276715</td>\n",
       "    </tr>\n",
       "  </tbody>\n",
       "</table>\n",
       "</div>"
      ],
      "text/plain": [
       "   MeterID         Day  FDI  Tmax1  Tmax2  Tmin1     Cmax1     Cmax2  \\\n",
       "0     1236  2009-07-15  1.0     12     30     15  0.046464  0.047532   \n",
       "\n",
       "      Cmin1  overnight  breakfast  daytime  evening       mic  meter_dtw  \\\n",
       "0  0.013561   5.380015       15.5     24.5     38.0  0.624128   2.283294   \n",
       "\n",
       "   meter_sdtw  \n",
       "0  -68.276715  "
      ]
     },
     "metadata": {},
     "output_type": "display_data"
    },
    {
     "data": {
      "text/plain": [
       "Index(['MeterID', 'Day', 'FDI', 'Tmax1', 'Tmax2', 'Tmin1', 'Cmax1', 'Cmax2',\n",
       "       'Cmin1', 'overnight', 'breakfast', 'daytime', 'evening', 'mic',\n",
       "       'meter_dtw', 'meter_sdtw'],\n",
       "      dtype='object')"
      ]
     },
     "execution_count": 7,
     "metadata": {},
     "output_type": "execute_result"
    }
   ],
   "source": [
    "result = concat_two_df_and_drop_same_column_in_df2(fdi, v_value)\n",
    "result = concat_two_df_and_drop_same_column_in_df2(result, four_time)\n",
    "result = concat_two_df_and_drop_same_column_in_df2(result, mic)\n",
    "result = concat_two_df_and_drop_same_column_in_df2(result, dwt_distance)\n",
    "result.columns"
   ]
  },
  {
   "cell_type": "code",
   "execution_count": 18,
   "id": "addressed-forty",
   "metadata": {},
   "outputs": [],
   "source": [
    "result = result.drop(['Day', 'MeterID', 'FDI'], axis=1)\n",
    "t = np.array(result).reshape(4225, -1)\n",
    "len(t[0])"
   ]
  },
  {
   "cell_type": "code",
   "execution_count": 64,
   "id": "successful-spine",
   "metadata": {},
   "outputs": [
    {
     "data": {
      "text/plain": [
       "Index(['Tmax1', 'Tmax2', 'Tmin1', 'Cmax1', 'Cmax2', 'Cmin1', 'overnight',\n",
       "       'breakfast', 'daytime', 'evening', 'mic', 'meter_dtw', 'meter_sdtw'],\n",
       "      dtype='object')"
      ]
     },
     "execution_count": 64,
     "metadata": {},
     "output_type": "execute_result"
    }
   ],
   "source": [
    "result.columns"
   ]
  },
  {
   "cell_type": "code",
   "execution_count": 31,
   "id": "alive-channel",
   "metadata": {},
   "outputs": [
    {
     "name": "stdout",
     "output_type": "stream",
     "text": [
      "[0 1] [3805  420]\n"
     ]
    }
   ],
   "source": [
    "count_list_val(fdi_4225)"
   ]
  },
  {
   "cell_type": "code",
   "execution_count": 20,
   "id": "ordered-mexico",
   "metadata": {},
   "outputs": [],
   "source": [
    "df = pd.DataFrame(t)"
   ]
  },
  {
   "cell_type": "code",
   "execution_count": 39,
   "id": "comprehensive-compatibility",
   "metadata": {},
   "outputs": [],
   "source": [
    "partition = 422*6\n",
    "evaluation = 422*2\n",
    "total = 4225"
   ]
  },
  {
   "cell_type": "code",
   "execution_count": 103,
   "id": "retained-collins",
   "metadata": {},
   "outputs": [],
   "source": [
    "def train_model(X, Y, score = False, split_num = 3, return_model=False ):\n",
    "    \n",
    "\n",
    "    partition = 422*8*530\n",
    "    evaluation = 422*1*530\n",
    "    total = 4225\n",
    "\n",
    "    round = 1\n",
    "    average_score = {}\n",
    "    average_score[\"precision_score\"] = 0\n",
    "    average_score[\"recall_score\"] = 0\n",
    "    average_score[\"accuracy_score\"] = 0\n",
    "    average_score[\"roc_auc_score\"] = 0\n",
    "    average_score[\"f1_score\"] = 0\n",
    "\n",
    "    X_train = X[:total]\n",
    "    y_train = Y[:total]\n",
    "\n",
    "    sss = StratifiedShuffleSplit(n_splits=split_num, test_size=0.4, random_state=1)\n",
    "    for train_index, test_index in sss.split(X_train, y_train):\n",
    "#         test_index = np.concatenate((np.array(test_index), np.array(X[total-(partition+evaluation): total].index)))\n",
    "        X_train, X_test = X.iloc[train_index], X.iloc[test_index]\n",
    "        Y_train, Y_test = np.array(Y.iloc[train_index]).reshape(-1) , np.array(Y.iloc[test_index]).reshape(-1)\n",
    "\n",
    "        model = XGBClassifier(scale_pos_weight=10, use_label_encoder=False)\n",
    "        model.fit(X_train, Y_train)\n",
    "        y_hat = model.predict(X_test)\n",
    "        average_score[\"precision_score\"] += precision_score(Y_test, y_hat)\n",
    "        average_score[\"recall_score\"] += recall_score(Y_test, y_hat)\n",
    "        average_score[\"accuracy_score\"] += accuracy_score(Y_test, y_hat)\n",
    "        average_score[\"roc_auc_score\"] += roc_auc_score(Y_test, y_hat)\n",
    "        average_score[\"f1_score\"] += f1_score(Y_test, y_hat)\n",
    "\n",
    "        if score:\n",
    "            print(\"round: \" + str(round))\n",
    "            print(\"precision score: \" + str(precision_score(Y_test, y_hat)))\n",
    "            print(\"recall_score: \" + str(recall_score(Y_test, y_hat)))\n",
    "            print(\"accuracy_score: \" + str(accuracy_score(Y_test, y_hat)))\n",
    "            print(\"roc_auc_score: \" + str(roc_auc_score(Y_test, y_hat)))\n",
    "            print(\"f1_score: \" + str(f1_score(Y_test, y_hat)))\n",
    "            print()\n",
    "\n",
    "        round += 1\n",
    "    for key, score in average_score.items():\n",
    "        average_score[key] = score / split_num\n",
    "        print(\"average_\" + key + \": \" + str(average_score[key]))\n",
    "    if return_model==True:\n",
    "        return model, average_score\n",
    "    return average_score\n",
    "\n",
    "def get_permutation_importance(model, X_val, y_val, title=None, origin=False, save=False):\n",
    "    \n",
    "    if save_fig == True and title == None:\n",
    "        raise NameError('Please type the title for the chart to save')\n",
    "        \n",
    "    r = permutation_importance(model, X_val, y_val, n_repeats=1, random_state=0)\n",
    "    four_time_importance = sum(r.importances_mean[:3])\n",
    "    mic_importance = r.importances_mean[10]\n",
    "    v_value_importance = sum(r.importances_mean[4:10])\n",
    "    dtw_importance = r.importances_mean[11]\n",
    "    sdtw_importance = r.importances_mean[12]\n",
    "    if origin == True:\n",
    "        print('include origin data')\n",
    "        origin_importance = sum(r.importances_mean[13:])\n",
    "        importance = { \"four_time\": four_time_importance, \"mic\": mic_importance, \"v_value\": v_value_importance,\n",
    "                  \"dtw\": dtw_importance, \"sdtw\": sdtw_importance, 'origin':origin_importance}\n",
    "    else:\n",
    "        print('no origin data')\n",
    "        importance = { \"four_time\": four_time_importance, \"mic\": mic_importance, \"v_value\": v_value_importance, \"dtw\": dtw_importance, \"sdtw\": sdtw_importance}\n",
    "    \n",
    "    importance = dict(sorted(importance.items(), key=lambda item: item[1], reverse=True))\n",
    "    \n",
    "    y_label = list(importance.keys())\n",
    "    y_pos = np.arange(len(importance))\n",
    "\n",
    "    plt.rcdefaults()\n",
    "    fig, ax = plt.subplots()\n",
    "\n",
    "    ax.barh(y_pos, list(importance.values()), align='center')\n",
    "\n",
    "    ax.set_yticks(y_pos)\n",
    "    ax.set_yticklabels(y_label)\n",
    "\n",
    "    ax.set_xlabel('Importance Mean')\n",
    "    ax.set_title('Permutation importance')\n",
    "    \n",
    "    if save == True:\n",
    "        save_fig('Permutation importance: '+ title)\n",
    "        \n",
    "    return r\n",
    "\n",
    "def save_fig(fig_id, tight_layout=True, fig_extension=\"png\", resolution=300, image_path = IMAGES_PATH):\n",
    "    path = os.path.join(image_path, fig_id + \".\" + fig_extension)\n",
    "    print(\"Saving figure\", fig_id)\n",
    "    if tight_layout:\n",
    "        plt.tight_layout()\n",
    "    plt.savefig(path, format=fig_extension, dpi=resolution)\n",
    "\n",
    "def plot_importance(importance):\n",
    "    importance = dict(sorted(importance.items(), key=lambda item: item[1], reverse=True))\n",
    "    \n",
    "    y_label = list(importance.keys())\n",
    "    y_pos = np.arange(len(importance))\n",
    "\n",
    "    plt.rcdefaults()\n",
    "    fig, ax = plt.subplots()\n",
    "\n",
    "    ax.barh(y_pos, list(importance.values()), align='center')\n",
    "\n",
    "    ax.set_yticks(y_pos)\n",
    "    ax.set_yticklabels(y_label)\n",
    "\n",
    "    ax.set_xlabel('Importance Mean')\n",
    "    ax.set_title('Permutation importance')"
   ]
  },
  {
   "cell_type": "code",
   "execution_count": 93,
   "id": "fallen-gardening",
   "metadata": {},
   "outputs": [
    {
     "name": "stdout",
     "output_type": "stream",
     "text": [
      "[07:29:05] WARNING: ../src/learner.cc:1061: Starting in XGBoost 1.3.0, the default evaluation metric used with the objective 'binary:logistic' was changed from 'error' to 'logloss'. Explicitly set eval_metric if you'd like to restore the old behavior.\n",
      "[07:29:20] WARNING: ../src/learner.cc:1061: Starting in XGBoost 1.3.0, the default evaluation metric used with the objective 'binary:logistic' was changed from 'error' to 'logloss'. Explicitly set eval_metric if you'd like to restore the old behavior.\n",
      "[07:29:35] WARNING: ../src/learner.cc:1061: Starting in XGBoost 1.3.0, the default evaluation metric used with the objective 'binary:logistic' was changed from 'error' to 'logloss'. Explicitly set eval_metric if you'd like to restore the old behavior.\n",
      "average_precision_score: 0.9951864595280298\n",
      "average_recall_score: 0.8333333333333334\n",
      "average_accuracy_score: 0.9830374753451677\n",
      "average_roc_auc_score: 0.9164476565922032\n",
      "average_f1_score: 0.9069884032630743\n"
     ]
    }
   ],
   "source": [
    "# 6:4 and seperate train and test dataset\n",
    "# 13 features\n",
    "model, score = train_model(df, fdi_4225 , return_model=True)\n",
    "# get_permutation_importance(model, result[col][partition:], result['FDI'][partition:], title= TITLE, origin=True, save=True)"
   ]
  },
  {
   "cell_type": "code",
   "execution_count": 95,
   "id": "useful-occasions",
   "metadata": {},
   "outputs": [],
   "source": [
    "r = permutation_importance(model, df[:evaluation], fdi_4225[:evaluation], n_repeats=5, random_state=0, n_jobs=-1)"
   ]
  },
  {
   "cell_type": "code",
   "execution_count": 104,
   "id": "loaded-annex",
   "metadata": {},
   "outputs": [
    {
     "name": "stdout",
     "output_type": "stream",
     "text": [
      "Tmax1:  [0. 0. 0. 0. 0.] 0.0\n",
      "Tmax2:  [0. 0. 0. 0. 0.] 0.0\n",
      "Tmin1:  [0. 0. 0. 0. 0.] 0.0\n",
      "Cmax1:  [0.01895735 0.01184834 0.01303318 0.00829384 0.01421801] 0.01279620853080545\n",
      "Cmax2:  [0.007109   0.00829384 0.00592417 0.00592417 0.01184834] 0.007819905213270006\n",
      "Cmin1:  [0.01421801 0.01658768 0.01303318 0.01658768 0.01540284] 0.015165876777251253\n",
      "overnight:  [0.00118483 0.         0.         0.         0.00118483] 0.00047393364928907113\n",
      "breakfast:  [0.007109   0.00473934 0.00473934 0.00473934 0.007109  ] 0.005687203791468942\n",
      "daytime:  [0.00236967 0.0035545  0.0035545  0.00592417 0.00592417] 0.004265402843601773\n",
      "evening:  [0.02014218 0.02488152 0.01777251 0.02369668 0.02251185] 0.021327014218009355\n",
      "mic:  [0.00118483 0.         0.         0.         0.        ] 0.00023696682464453557\n",
      "meter_dtw:  [0.         0.         0.         0.00118483 0.00118483] 0.00047393364928907113\n",
      "meter_sdtw:  [0. 0. 0. 0. 0.] 0.0\n"
     ]
    },
    {
     "data": {
      "image/png": "[encoded data removed]",
      "text/plain": [
       "<Figure size 640x480 with 1 Axes>"
      ]
     },
     "metadata": {},
     "output_type": "display_data"
    }
   ],
   "source": [
    "importance_dict = {}\n",
    "ab = lambda x: abs(x)\n",
    "for index, key in zip(range(13), result.columns):\n",
    "    print(f'{key}: ', sum(list(map(abs, r.importances[index::13]))), sum(list(map(abs, r.importances_mean[index::13]))))\n",
    "    importance_dict[key] = sum(list(map(abs, r.importances_mean[index::13])))\n",
    "plot_importance(importance_dict)"
   ]
  },
  {
   "cell_type": "markdown",
   "id": "reliable-republican",
   "metadata": {},
   "source": [
    "## only use sdtw and dtw"
   ]
  },
  {
   "cell_type": "code",
   "execution_count": 77,
   "id": "needed-community",
   "metadata": {},
   "outputs": [],
   "source": [
    "temp = result[['meter_sdtw','meter_dtw']]\n",
    "df_2 = pd.DataFrame(np.array(temp).reshape(4225, -1))"
   ]
  },
  {
   "cell_type": "code",
   "execution_count": 78,
   "id": "dental-aluminum",
   "metadata": {},
   "outputs": [
    {
     "name": "stdout",
     "output_type": "stream",
     "text": [
      "[06:24:19] WARNING: ../src/learner.cc:1061: Starting in XGBoost 1.3.0, the default evaluation metric used with the objective 'binary:logistic' was changed from 'error' to 'logloss'. Explicitly set eval_metric if you'd like to restore the old behavior.\n",
      "[06:24:23] WARNING: ../src/learner.cc:1061: Starting in XGBoost 1.3.0, the default evaluation metric used with the objective 'binary:logistic' was changed from 'error' to 'logloss'. Explicitly set eval_metric if you'd like to restore the old behavior.\n",
      "[06:24:26] WARNING: ../src/learner.cc:1061: Starting in XGBoost 1.3.0, the default evaluation metric used with the objective 'binary:logistic' was changed from 'error' to 'logloss'. Explicitly set eval_metric if you'd like to restore the old behavior.\n",
      "average_precision_score: 0.9601794340924776\n",
      "average_recall_score: 0.4246031746031746\n",
      "average_accuracy_score: 0.9410256410256409\n",
      "average_roc_auc_score: 0.7113160419665019\n",
      "average_f1_score: 0.5877822296288417\n"
     ]
    }
   ],
   "source": [
    "# 6:4 and seperate train and test dataset\n",
    "# only sdtw and dtw 2 features\n",
    "model, score = train_model(df_2, fdi_4225 , return_model=True)"
   ]
  },
  {
   "cell_type": "code",
   "execution_count": 86,
   "id": "front-sailing",
   "metadata": {},
   "outputs": [
    {
     "name": "stdout",
     "output_type": "stream",
     "text": [
      "meter_sdtw:  [0.04383886 0.04146919] 0.007701421800948072\n",
      "meter_dtw:  [0.07227488 0.08175355] 0.007109004739336733\n"
     ]
    }
   ],
   "source": [
    "r = permutation_importance(model, df_2[:evaluation], fdi_4225[:evaluation], n_repeats=2, random_state=0)\n",
    "for index, key in zip(range(2), temp.columns):\n",
    "    print(f'{key}: ', sum(list(map(abs, r.importances[index::2]))), sum(list(map(abs, r.importances_mean[index::13]))))"
   ]
  },
  {
   "cell_type": "markdown",
   "id": "eastern-valve",
   "metadata": {},
   "source": [
    "## only use mic"
   ]
  },
  {
   "cell_type": "code",
   "execution_count": 87,
   "id": "victorian-talent",
   "metadata": {},
   "outputs": [],
   "source": [
    "temp = result[['mic']]\n",
    "df_mic = pd.DataFrame(np.array(temp).reshape(4225, -1))"
   ]
  },
  {
   "cell_type": "code",
   "execution_count": 89,
   "id": "persistent-audio",
   "metadata": {},
   "outputs": [
    {
     "name": "stdout",
     "output_type": "stream",
     "text": [
      "[06:31:00] WARNING: ../src/learner.cc:1061: Starting in XGBoost 1.3.0, the default evaluation metric used with the objective 'binary:logistic' was changed from 'error' to 'logloss'. Explicitly set eval_metric if you'd like to restore the old behavior.\n",
      "[06:31:01] WARNING: ../src/learner.cc:1061: Starting in XGBoost 1.3.0, the default evaluation metric used with the objective 'binary:logistic' was changed from 'error' to 'logloss'. Explicitly set eval_metric if you'd like to restore the old behavior.\n",
      "[06:31:02] WARNING: ../src/learner.cc:1061: Starting in XGBoost 1.3.0, the default evaluation metric used with the objective 'binary:logistic' was changed from 'error' to 'logloss'. Explicitly set eval_metric if you'd like to restore the old behavior.\n",
      "average_precision_score: 0.9600892328855171\n",
      "average_recall_score: 0.998015873015873\n",
      "average_accuracy_score: 0.9956607495069033\n",
      "average_roc_auc_score: 0.9967083307260706\n",
      "average_f1_score: 0.9786357824744338\n",
      "mic:  [0.0035545  0.00473934] 0.004146919431279761\n"
     ]
    }
   ],
   "source": [
    "model, score = train_model(df_mic, fdi_4225 , return_model=True)\n",
    "r = permutation_importance(model, df_mic[:evaluation], fdi_4225[:evaluation], n_repeats=2, random_state=0, n_jobs=-1)\n",
    "for index, key in zip(range(1), temp.columns):\n",
    "    print(f'{key}: ', sum(list(map(abs, r.importances[index::1]))), sum(list(map(abs, r.importances_mean[index::1]))))"
   ]
  },
  {
   "cell_type": "markdown",
   "id": "binary-circular",
   "metadata": {},
   "source": [
    "## only use v_value"
   ]
  },
  {
   "cell_type": "code",
   "execution_count": 90,
   "id": "mounted-appliance",
   "metadata": {},
   "outputs": [
    {
     "name": "stdout",
     "output_type": "stream",
     "text": [
      "[06:34:52] WARNING: ../src/learner.cc:1061: Starting in XGBoost 1.3.0, the default evaluation metric used with the objective 'binary:logistic' was changed from 'error' to 'logloss'. Explicitly set eval_metric if you'd like to restore the old behavior.\n",
      "[06:34:58] WARNING: ../src/learner.cc:1061: Starting in XGBoost 1.3.0, the default evaluation metric used with the objective 'binary:logistic' was changed from 'error' to 'logloss'. Explicitly set eval_metric if you'd like to restore the old behavior.\n",
      "[06:35:05] WARNING: ../src/learner.cc:1061: Starting in XGBoost 1.3.0, the default evaluation metric used with the objective 'binary:logistic' was changed from 'error' to 'logloss'. Explicitly set eval_metric if you'd like to restore the old behavior.\n",
      "average_precision_score: 0.9904640272456363\n",
      "average_recall_score: 0.8154761904761904\n",
      "average_accuracy_score: 0.9808678500986193\n",
      "average_roc_auc_score: 0.9073000750891684\n",
      "average_f1_score: 0.8942383056196993\n",
      "Tmax1:  [0.16232227 0.16587678] 0.16291469194313218\n",
      "Tmax2:  [0.16113744 0.16587678] 0.1623222748815208\n",
      "Tmin1:  [0.16113744 0.16587678] 0.1623222748815208\n",
      "Cmax1:  [0.16113744 0.16587678] 0.1623222748815208\n",
      "Cmax2:  [0.16113744 0.16587678] 0.1623222748815208\n",
      "Cmin1:  [0.16113744 0.16587678] 0.1623222748815208\n"
     ]
    }
   ],
   "source": [
    "temp = result[['Tmax1', 'Tmax2', 'Tmin1', 'Cmax1', 'Cmax2', 'Cmin1']]\n",
    "df_v_value = pd.DataFrame(np.array(temp).reshape(4225, -1))\n",
    "model, score = train_model(df_v_value, fdi_4225 , return_model=True)\n",
    "r = permutation_importance(model, df_v_value[:evaluation], fdi_4225[:evaluation], n_repeats=2, random_state=0, n_jobs=-1)\n",
    "for index, key in zip(range(len(temp.columns)), temp.columns):\n",
    "    print(f'{key}: ', sum(list(map(abs, r.importances[index::1]))), sum(list(map(abs, r.importances_mean[index::1]))))"
   ]
  },
  {
   "cell_type": "markdown",
   "id": "instant-university",
   "metadata": {},
   "source": [
    "## only use four time"
   ]
  },
  {
   "cell_type": "code",
   "execution_count": 91,
   "id": "literary-driving",
   "metadata": {},
   "outputs": [
    {
     "name": "stdout",
     "output_type": "stream",
     "text": [
      "[06:45:08] WARNING: ../src/learner.cc:1061: Starting in XGBoost 1.3.0, the default evaluation metric used with the objective 'binary:logistic' was changed from 'error' to 'logloss'. Explicitly set eval_metric if you'd like to restore the old behavior.\n",
      "[06:45:14] WARNING: ../src/learner.cc:1061: Starting in XGBoost 1.3.0, the default evaluation metric used with the objective 'binary:logistic' was changed from 'error' to 'logloss'. Explicitly set eval_metric if you'd like to restore the old behavior.\n",
      "[06:45:20] WARNING: ../src/learner.cc:1061: Starting in XGBoost 1.3.0, the default evaluation metric used with the objective 'binary:logistic' was changed from 'error' to 'logloss'. Explicitly set eval_metric if you'd like to restore the old behavior.\n",
      "average_precision_score: 0.9977628635346756\n",
      "average_recall_score: 0.8412698412698413\n",
      "average_accuracy_score: 0.9840236686390532\n",
      "average_roc_auc_score: 0.9205254155976889\n",
      "average_f1_score: 0.9125585039483722\n",
      "overnight:  [0.04265403 0.04383886] 0.04206161137440828\n",
      "breakfast:  [0.04265403 0.04383886] 0.04206161137440828\n",
      "daytime:  [0.04265403 0.04383886] 0.04206161137440828\n",
      "evening:  [0.04265403 0.04383886] 0.04206161137440828\n"
     ]
    }
   ],
   "source": [
    "temp = result[['overnight', 'breakfast', 'daytime', 'evening']]\n",
    "df_four_time = pd.DataFrame(np.array(temp).reshape(4225, -1))\n",
    "model, score = train_model(df_four_time, fdi_4225 , return_model=True)\n",
    "r = permutation_importance(model, df_four_time[:evaluation], fdi_4225[:evaluation], n_repeats=2, random_state=0, n_jobs=-1)\n",
    "for index, key in zip(range(len(temp.columns)), temp.columns):\n",
    "    print(f'{key}: ', sum(list(map(abs, r.importances[index::1]))), sum(list(map(abs, r.importances_mean[index::1]))))"
   ]
  },
  {
   "cell_type": "code",
   "execution_count": null,
   "id": "ultimate-tumor",
   "metadata": {},
   "outputs": [],
   "source": []
  },
  {
   "cell_type": "code",
   "execution_count": null,
   "id": "assigned-logging",
   "metadata": {},
   "outputs": [],
   "source": []
  },
  {
   "cell_type": "code",
   "execution_count": null,
   "id": "interracial-brooklyn",
   "metadata": {},
   "outputs": [],
   "source": []
  },
  {
   "cell_type": "code",
   "execution_count": null,
   "id": "chief-faculty",
   "metadata": {},
   "outputs": [],
   "source": []
  },
  {
   "cell_type": "code",
   "execution_count": null,
   "id": "selected-kansas",
   "metadata": {},
   "outputs": [],
   "source": []
  },
  {
   "cell_type": "code",
   "execution_count": null,
   "id": "strong-zealand",
   "metadata": {},
   "outputs": [],
   "source": []
  },
  {
   "cell_type": "code",
   "execution_count": null,
   "id": "unauthorized-eagle",
   "metadata": {},
   "outputs": [],
   "source": []
  },
  {
   "cell_type": "code",
   "execution_count": 46,
   "id": "virgin-blood",
   "metadata": {},
   "outputs": [
    {
     "name": "stdout",
     "output_type": "stream",
     "text": [
      "no origin data\n",
      "Saving figure Permutation importance: XGBoost: permutation importance\n"
     ]
    },
    {
     "data": {
      "image/png": "[encoded data removed]",
      "text/plain": [
       "<Figure size 640x480 with 1 Axes>"
      ]
     },
     "metadata": {},
     "output_type": "display_data"
    }
   ],
   "source": [
    "TITLE = \"XGBoost: permutation importance\"\n",
    "get_permutation_importance(model, df[:evaluation], fdi_4225[:evaluation], title= TITLE, origin=False, save=True)"
   ]
  },
  {
   "cell_type": "code",
   "execution_count": 44,
   "id": "tender-theme",
   "metadata": {},
   "outputs": [
    {
     "data": {
      "text/plain": [
       "1"
      ]
     },
     "execution_count": 44,
     "metadata": {},
     "output_type": "execute_result"
    }
   ],
   "source": [
    "1"
   ]
  },
  {
   "cell_type": "code",
   "execution_count": null,
   "id": "swedish-province",
   "metadata": {},
   "outputs": [],
   "source": []
  },
  {
   "cell_type": "code",
   "execution_count": null,
   "id": "mysterious-first",
   "metadata": {},
   "outputs": [],
   "source": []
  },
  {
   "cell_type": "code",
   "execution_count": null,
   "id": "lyric-occasion",
   "metadata": {},
   "outputs": [],
   "source": []
  }
 ],
 "metadata": {
  "environment": {
   "name": "common-cpu.mnightly-2021-02-12-debian-10-test",
   "type": "gcloud",
   "uri": "gcr.io/deeplearning-platform-release/base-cpu:mnightly-2021-02-12-debian-10-test"
  },
  "kernelspec": {
   "display_name": "Python 3",
   "language": "python",
   "name": "python3"
  },
  "language_info": {
   "codemirror_mode": {
    "name": "ipython",
    "version": 3
   },
   "file_extension": ".py",
   "mimetype": "text/x-python",
   "name": "python",
   "nbconvert_exporter": "python",
   "pygments_lexer": "ipython3",
   "version": "3.7.9"
  }
 },
 "nbformat": 4,
 "nbformat_minor": 5
}
