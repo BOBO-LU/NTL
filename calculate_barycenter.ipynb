{
 "cells": [
  {
   "cell_type": "code",
   "execution_count": 1,
   "id": "actual-characterization",
   "metadata": {},
   "outputs": [],
   "source": [
    "import copy\n",
    "import datetime\n",
    "import gc\n",
    "import logging\n",
    "import os\n",
    "from math import exp, floor, sqrt\n",
    "from time import time, sleep\n",
    "from concurrent.futures import ProcessPoolExecutor, ThreadPoolExecutor\n",
    "\n",
    "import matplotlib.patches as mpatches\n",
    "import matplotlib.pyplot as plt\n",
    "import numpy as np\n",
    "import pandas as pd\n",
    "import psutil\n",
    "import seaborn as sns\n",
    "import tensorflow as tf\n",
    "import tqdm.notebook as tq\n",
    "from minepy import MINE\n",
    "from numpy import mean\n",
    "from sklearn.cluster import KMeans\n",
    "from sklearn.datasets import make_classification\n",
    "from sklearn.ensemble import AdaBoostClassifier\n",
    "from sklearn.inspection import permutation_importance\n",
    "from sklearn.metrics import (accuracy_score, auc, f1_score, precision_score,\n",
    "                             recall_score, roc_auc_score, silhouette_score)\n",
    "from sklearn.model_selection import (GridSearchCV, RepeatedStratifiedKFold,\n",
    "                                     ShuffleSplit, StratifiedShuffleSplit,\n",
    "                                     cross_val_score)\n",
    "from tqdm.notebook import tqdm\n",
    "from tslearn.barycenters import (dtw_barycenter_averaging,\n",
    "                                 dtw_barycenter_averaging_subgradient,\n",
    "                                 euclidean_barycenter, softdtw_barycenter)\n",
    "from tslearn.clustering import TimeSeriesKMeans\n",
    "from tslearn.datasets import CachedDatasets\n",
    "from tslearn.metrics import dtw, soft_dtw\n",
    "from tslearn.preprocessing import (TimeSeriesResampler,\n",
    "                                   TimeSeriesScalerMeanVariance)\n",
    "from xgboost import XGBClassifier\n",
    "\n",
    "sns.set()  # for plot styling\n",
    "\n",
    "tf.get_logger().setLevel(logging.ERROR)\n",
    "\n",
    "psutil.virtual_memory()\n",
    "pd.set_option('display.max_rows', 500)\n",
    "pd.set_option('display.max_columns', 500)\n",
    "pd.set_option('display.width', 1000)"
   ]
  },
  {
   "cell_type": "code",
   "execution_count": 2,
   "id": "defined-walter",
   "metadata": {},
   "outputs": [],
   "source": [
    "smart_meter = pd.read_csv(\"smart_meter.csv\")"
   ]
  },
  {
   "cell_type": "code",
   "execution_count": 3,
   "id": "stuck-england",
   "metadata": {},
   "outputs": [
    {
     "data": {
      "text/plain": [
       "(107484000, 5)"
      ]
     },
     "execution_count": 3,
     "metadata": {},
     "output_type": "execute_result"
    }
   ],
   "source": [
    "smart_meter.shape"
   ]
  },
  {
   "cell_type": "code",
   "execution_count": 7,
   "id": "amazing-faith",
   "metadata": {},
   "outputs": [
    {
     "data": {
      "text/html": [
       "<div>\n",
       "<style scoped>\n",
       "    .dataframe tbody tr th:only-of-type {\n",
       "        vertical-align: middle;\n",
       "    }\n",
       "\n",
       "    .dataframe tbody tr th {\n",
       "        vertical-align: top;\n",
       "    }\n",
       "\n",
       "    .dataframe thead th {\n",
       "        text-align: right;\n",
       "    }\n",
       "</style>\n",
       "<table border=\"1\" class=\"dataframe\">\n",
       "  <thead>\n",
       "    <tr style=\"text-align: right;\">\n",
       "      <th></th>\n",
       "      <th>MeterID</th>\n",
       "      <th>Day</th>\n",
       "      <th>Time</th>\n",
       "      <th>Electricity</th>\n",
       "      <th>FDI</th>\n",
       "    </tr>\n",
       "  </thead>\n",
       "  <tbody>\n",
       "    <tr>\n",
       "      <th>0</th>\n",
       "      <td>1236</td>\n",
       "      <td>2009-07-15</td>\n",
       "      <td>1</td>\n",
       "      <td>0.134070</td>\n",
       "      <td>True</td>\n",
       "    </tr>\n",
       "    <tr>\n",
       "      <th>1</th>\n",
       "      <td>1236</td>\n",
       "      <td>2009-07-15</td>\n",
       "      <td>2</td>\n",
       "      <td>0.129562</td>\n",
       "      <td>True</td>\n",
       "    </tr>\n",
       "    <tr>\n",
       "      <th>2</th>\n",
       "      <td>1236</td>\n",
       "      <td>2009-07-15</td>\n",
       "      <td>3</td>\n",
       "      <td>0.113616</td>\n",
       "      <td>True</td>\n",
       "    </tr>\n",
       "    <tr>\n",
       "      <th>3</th>\n",
       "      <td>1236</td>\n",
       "      <td>2009-07-15</td>\n",
       "      <td>4</td>\n",
       "      <td>0.186020</td>\n",
       "      <td>True</td>\n",
       "    </tr>\n",
       "    <tr>\n",
       "      <th>4</th>\n",
       "      <td>1236</td>\n",
       "      <td>2009-07-15</td>\n",
       "      <td>5</td>\n",
       "      <td>0.075942</td>\n",
       "      <td>True</td>\n",
       "    </tr>\n",
       "    <tr>\n",
       "      <th>...</th>\n",
       "      <td>...</td>\n",
       "      <td>...</td>\n",
       "      <td>...</td>\n",
       "      <td>...</td>\n",
       "      <td>...</td>\n",
       "    </tr>\n",
       "    <tr>\n",
       "      <th>107483995</th>\n",
       "      <td>6954</td>\n",
       "      <td>2010-12-31</td>\n",
       "      <td>44</td>\n",
       "      <td>0.618000</td>\n",
       "      <td>False</td>\n",
       "    </tr>\n",
       "    <tr>\n",
       "      <th>107483996</th>\n",
       "      <td>6954</td>\n",
       "      <td>2010-12-31</td>\n",
       "      <td>45</td>\n",
       "      <td>0.371000</td>\n",
       "      <td>False</td>\n",
       "    </tr>\n",
       "    <tr>\n",
       "      <th>107483997</th>\n",
       "      <td>6954</td>\n",
       "      <td>2010-12-31</td>\n",
       "      <td>46</td>\n",
       "      <td>0.344000</td>\n",
       "      <td>False</td>\n",
       "    </tr>\n",
       "    <tr>\n",
       "      <th>107483998</th>\n",
       "      <td>6954</td>\n",
       "      <td>2010-12-31</td>\n",
       "      <td>47</td>\n",
       "      <td>0.319000</td>\n",
       "      <td>False</td>\n",
       "    </tr>\n",
       "    <tr>\n",
       "      <th>107483999</th>\n",
       "      <td>6954</td>\n",
       "      <td>2010-12-31</td>\n",
       "      <td>48</td>\n",
       "      <td>0.362000</td>\n",
       "      <td>False</td>\n",
       "    </tr>\n",
       "  </tbody>\n",
       "</table>\n",
       "<p>107484000 rows × 5 columns</p>\n",
       "</div>"
      ],
      "text/plain": [
       "           MeterID         Day  Time  Electricity    FDI\n",
       "0             1236  2009-07-15     1     0.134070   True\n",
       "1             1236  2009-07-15     2     0.129562   True\n",
       "2             1236  2009-07-15     3     0.113616   True\n",
       "3             1236  2009-07-15     4     0.186020   True\n",
       "4             1236  2009-07-15     5     0.075942   True\n",
       "...            ...         ...   ...          ...    ...\n",
       "107483995     6954  2010-12-31    44     0.618000  False\n",
       "107483996     6954  2010-12-31    45     0.371000  False\n",
       "107483997     6954  2010-12-31    46     0.344000  False\n",
       "107483998     6954  2010-12-31    47     0.319000  False\n",
       "107483999     6954  2010-12-31    48     0.362000  False\n",
       "\n",
       "[107484000 rows x 5 columns]"
      ]
     },
     "execution_count": 7,
     "metadata": {},
     "output_type": "execute_result"
    }
   ],
   "source": [
    "smart_meter"
   ]
  },
  {
   "cell_type": "code",
   "execution_count": 14,
   "id": "green-function",
   "metadata": {},
   "outputs": [],
   "source": [
    "electricity = smart_meter['Electricity']"
   ]
  },
  {
   "cell_type": "code",
   "execution_count": 15,
   "id": "willing-techno",
   "metadata": {},
   "outputs": [
    {
     "data": {
      "text/plain": [
       "0            0.134070\n",
       "1            0.129562\n",
       "2            0.113616\n",
       "3            0.186020\n",
       "4            0.075942\n",
       "               ...   \n",
       "107483995    0.618000\n",
       "107483996    0.371000\n",
       "107483997    0.344000\n",
       "107483998    0.319000\n",
       "107483999    0.362000\n",
       "Name: Electricity, Length: 107484000, dtype: float64"
      ]
     },
     "execution_count": 15,
     "metadata": {},
     "output_type": "execute_result"
    }
   ],
   "source": [
    "electricity"
   ]
  },
  {
   "cell_type": "code",
   "execution_count": 17,
   "id": "steady-russia",
   "metadata": {},
   "outputs": [],
   "source": [
    "electricity = electricity.to_numpy().reshape(-1,48)"
   ]
  },
  {
   "cell_type": "code",
   "execution_count": 117,
   "id": "terminal-verification",
   "metadata": {},
   "outputs": [
    {
     "data": {
      "text/plain": [
       "(530, 48, 1)"
      ]
     },
     "execution_count": 117,
     "metadata": {},
     "output_type": "execute_result"
    }
   ],
   "source": [
    "np.array(dba_barycenter_result).shape"
   ]
  },
  {
   "cell_type": "code",
   "execution_count": 124,
   "id": "still-kidney",
   "metadata": {},
   "outputs": [],
   "source": [
    "def calc_stuff(x):   # these are examples.\n",
    "    result = dtw_barycenter_averaging_subgradient(x, max_iter=20, tol=1e-3)\n",
    "    return result\n",
    "\n",
    "def procedure(i):                 # just factoring out the\n",
    "    x = []\n",
    "    for j in range(4225):\n",
    "        x.append(electricity[ j * 530 + i ])\n",
    "    return calc_stuff(np.array(x).reshape(4225, 48, 1))\n",
    "\n",
    "def main(PoolExecutor): # take ProcessPoolExecutor or ThreadPoolExecutor\n",
    "    \n",
    "    inputs = range(530) # \n",
    "    output1 = list()\n",
    "\n",
    "    start = time()           # let's see how long this takes\n",
    "    \n",
    "    with PoolExecutor() as executor:\n",
    "        for out1 in executor.map(procedure, inputs):\n",
    "            output1.append(out1)\n",
    "            \n",
    "    finish = time()\n",
    "    print(f'PoolExecutor: {PoolExecutor}')\n",
    "    print(f'time : {(finish-start)}')\n",
    "    return output1"
   ]
  },
  {
   "cell_type": "code",
   "execution_count": 125,
   "id": "burning-manor",
   "metadata": {},
   "outputs": [
    {
     "name": "stderr",
     "output_type": "stream",
     "text": [
      "/opt/conda/lib/python3.7/site-packages/tslearn/barycenters/dba.py:736: ConvergenceWarning: DBA loss is increasing while it should not be. Stopping optimization.\n",
      "  \"Stopping optimization.\", ConvergenceWarning)\n",
      "/opt/conda/lib/python3.7/site-packages/tslearn/barycenters/dba.py:736: ConvergenceWarning: DBA loss is increasing while it should not be. Stopping optimization.\n",
      "  \"Stopping optimization.\", ConvergenceWarning)\n",
      "/opt/conda/lib/python3.7/site-packages/tslearn/barycenters/dba.py:736: ConvergenceWarning: DBA loss is increasing while it should not be. Stopping optimization.\n",
      "  \"Stopping optimization.\", ConvergenceWarning)\n",
      "/opt/conda/lib/python3.7/site-packages/tslearn/barycenters/dba.py:736: ConvergenceWarning: DBA loss is increasing while it should not be. Stopping optimization.\n",
      "  \"Stopping optimization.\", ConvergenceWarning)\n",
      "/opt/conda/lib/python3.7/site-packages/tslearn/barycenters/dba.py:736: ConvergenceWarning: DBA loss is increasing while it should not be. Stopping optimization.\n",
      "  \"Stopping optimization.\", ConvergenceWarning)\n",
      "/opt/conda/lib/python3.7/site-packages/tslearn/barycenters/dba.py:736: ConvergenceWarning: DBA loss is increasing while it should not be. Stopping optimization.\n",
      "  \"Stopping optimization.\", ConvergenceWarning)\n",
      "/opt/conda/lib/python3.7/site-packages/tslearn/barycenters/dba.py:736: ConvergenceWarning: DBA loss is increasing while it should not be. Stopping optimization.\n",
      "  \"Stopping optimization.\", ConvergenceWarning)\n",
      "/opt/conda/lib/python3.7/site-packages/tslearn/barycenters/dba.py:736: ConvergenceWarning: DBA loss is increasing while it should not be. Stopping optimization.\n",
      "  \"Stopping optimization.\", ConvergenceWarning)\n",
      "/opt/conda/lib/python3.7/site-packages/tslearn/barycenters/dba.py:736: ConvergenceWarning: DBA loss is increasing while it should not be. Stopping optimization.\n",
      "  \"Stopping optimization.\", ConvergenceWarning)\n",
      "/opt/conda/lib/python3.7/site-packages/tslearn/barycenters/dba.py:736: ConvergenceWarning: DBA loss is increasing while it should not be. Stopping optimization.\n",
      "  \"Stopping optimization.\", ConvergenceWarning)\n",
      "/opt/conda/lib/python3.7/site-packages/tslearn/barycenters/dba.py:736: ConvergenceWarning: DBA loss is increasing while it should not be. Stopping optimization.\n",
      "  \"Stopping optimization.\", ConvergenceWarning)\n",
      "/opt/conda/lib/python3.7/site-packages/tslearn/barycenters/dba.py:736: ConvergenceWarning: DBA loss is increasing while it should not be. Stopping optimization.\n",
      "  \"Stopping optimization.\", ConvergenceWarning)\n",
      "/opt/conda/lib/python3.7/site-packages/tslearn/barycenters/dba.py:736: ConvergenceWarning: DBA loss is increasing while it should not be. Stopping optimization.\n",
      "  \"Stopping optimization.\", ConvergenceWarning)\n",
      "/opt/conda/lib/python3.7/site-packages/tslearn/barycenters/dba.py:736: ConvergenceWarning: DBA loss is increasing while it should not be. Stopping optimization.\n",
      "  \"Stopping optimization.\", ConvergenceWarning)\n",
      "/opt/conda/lib/python3.7/site-packages/tslearn/barycenters/dba.py:736: ConvergenceWarning: DBA loss is increasing while it should not be. Stopping optimization.\n",
      "  \"Stopping optimization.\", ConvergenceWarning)\n",
      "/opt/conda/lib/python3.7/site-packages/tslearn/barycenters/dba.py:736: ConvergenceWarning: DBA loss is increasing while it should not be. Stopping optimization.\n",
      "  \"Stopping optimization.\", ConvergenceWarning)\n"
     ]
    },
    {
     "name": "stdout",
     "output_type": "stream",
     "text": [
      "PoolExecutor: <class 'concurrent.futures.process.ProcessPoolExecutor'>\n",
      "time : 92.36177825927734\n"
     ]
    }
   ],
   "source": [
    "dba_barycenter_result = main(ProcessPoolExecutor)"
   ]
  },
  {
   "cell_type": "code",
   "execution_count": 126,
   "id": "collectible-private",
   "metadata": {},
   "outputs": [],
   "source": [
    "def calc_stuff(x):   # these are examples.\n",
    "    result = softdtw_barycenter(x, max_iter=10, gamma=1.)\n",
    "    return result\n",
    "\n",
    "def procedure(i):                 # just factoring out the\n",
    "    x = []\n",
    "    for j in range(4225):\n",
    "        x.append(electricity[ j * 530 + i ])\n",
    "    return calc_stuff(np.array(x).reshape(4225, 48, 1))\n",
    "\n",
    "def main(PoolExecutor): # take ProcessPoolExecutor or ThreadPoolExecutor\n",
    "    \n",
    "    inputs = range(530) # \n",
    "    output1 = list()\n",
    "\n",
    "    start = time()           # let's see how long this takes\n",
    "    \n",
    "    with PoolExecutor() as executor:\n",
    "        for out1 in executor.map(procedure, inputs):\n",
    "            output1.append(out1)\n",
    "            \n",
    "    finish = time()\n",
    "    print(f'PoolExecutor: {PoolExecutor}')\n",
    "    print(f'time : {(finish-start)}')\n",
    "    return output1"
   ]
  },
  {
   "cell_type": "code",
   "execution_count": 127,
   "id": "expired-handbook",
   "metadata": {},
   "outputs": [
    {
     "name": "stdout",
     "output_type": "stream",
     "text": [
      "PoolExecutor: <class 'concurrent.futures.process.ProcessPoolExecutor'>\n",
      "time : 1035.4732313156128\n"
     ]
    }
   ],
   "source": [
    "sdtw_barycenter_result = main(ProcessPoolExecutor)"
   ]
  },
  {
   "cell_type": "code",
   "execution_count": 145,
   "id": "unique-citizen",
   "metadata": {},
   "outputs": [],
   "source": [
    "dba = []\n",
    "sdtw = []\n",
    "for i in range(len(dba_barycenter_result)):\n",
    "    dba.append([t[0] for t in dba_barycenter_result[i] ])\n",
    "    \n",
    "for i in range(len(sdtw_barycenter_result)):\n",
    "    sdtw.append([t[0] for t in sdtw_barycenter_result[i] ])\n",
    "    \n",
    "dba = pd.DataFrame.from_dict(dba)\n",
    "sdtw = pd.DataFrame.from_dict(sdtw)"
   ]
  },
  {
   "cell_type": "code",
   "execution_count": 178,
   "id": "amazing-validation",
   "metadata": {},
   "outputs": [
    {
     "data": {
      "text/plain": [
       "((530, 48), (530, 48))"
      ]
     },
     "execution_count": 178,
     "metadata": {},
     "output_type": "execute_result"
    }
   ],
   "source": [
    "dba.shape, sdtw.shape"
   ]
  },
  {
   "cell_type": "code",
   "execution_count": 180,
   "id": "massive-franchise",
   "metadata": {},
   "outputs": [
    {
     "data": {
      "text/plain": [
       "0     0.475216\n",
       "1     0.219563\n",
       "2     0.146000\n",
       "3     0.069826\n",
       "4     0.296343\n",
       "5     0.160963\n",
       "6     0.198342\n",
       "7     0.190085\n",
       "8     0.191796\n",
       "9     0.191633\n",
       "10    0.191628\n",
       "11    0.191610\n",
       "12    0.191617\n",
       "13    0.191619\n",
       "14    0.191620\n",
       "15    0.191620\n",
       "16    0.191619\n",
       "17    0.191619\n",
       "18    0.191616\n",
       "19    0.191619\n",
       "20    0.191617\n",
       "21    0.191620\n",
       "22    0.191606\n",
       "23    0.191629\n",
       "24    0.191599\n",
       "25    0.191636\n",
       "26    0.191289\n",
       "27    0.191943\n",
       "28    0.191906\n",
       "29    0.190445\n",
       "30    0.190879\n",
       "31    0.196124\n",
       "32    0.177819\n",
       "33    0.209692\n",
       "34    0.099041\n",
       "35    0.337689\n",
       "36    0.993191\n",
       "37    0.311075\n",
       "38    0.138546\n",
       "39    0.475397\n",
       "40    2.173675\n",
       "41    0.788471\n",
       "42    0.344014\n",
       "43    0.397127\n",
       "44    0.134173\n",
       "45    0.502345\n",
       "46    1.338514\n",
       "47    0.412997\n",
       "Name: 9, dtype: float64"
      ]
     },
     "execution_count": 180,
     "metadata": {},
     "output_type": "execute_result"
    }
   ],
   "source": [
    "dba.iloc[9]"
   ]
  },
  {
   "cell_type": "code",
   "execution_count": 162,
   "id": "mature-clearance",
   "metadata": {},
   "outputs": [],
   "source": [
    "all_meter = np.array(smart_meter).reshape(-1, 530, 48, 5) # (4225, 530, 48, 5)"
   ]
  },
  {
   "cell_type": "code",
   "execution_count": 183,
   "id": "alpha-happening",
   "metadata": {},
   "outputs": [],
   "source": [
    "def calc_stuff(x,y):   # these are examples.\n",
    "    meter_euclid = np.linalg.norm(x-y)\n",
    "    meter_dtw = dtw(x,y)\n",
    "    meter_sdtw = soft_dtw(x,y)\n",
    "    return meter_euclid, meter_dtw, meter_sdtw\n",
    "\n",
    "def procedure(j):                 # just factoring out the\n",
    "#     print('start procedure')\n",
    "    df_list = []\n",
    "    d = j.reshape(-1, 5)\n",
    "    meter = pd.DataFrame(d, columns=[\"MeterID\",\"Day\",\"Time\",\"Electricity\",\"FDI\"])\n",
    "    day_list = meter['Day'].reset_index()\n",
    "    \n",
    "#     print('start for loop')\n",
    "    for i in range(530): # \n",
    "        meter_id = meter[\"MeterID\"].loc[0]\n",
    "        meter_day = day_list['Day'][i*48]\n",
    "        meter_fdi = meter[\"FDI\"].loc[0]\n",
    "        x = meter[\"Electricity\"].to_numpy()[i*48:(i+1)*48]\n",
    "        y = dba.iloc[i]\n",
    "        \n",
    "        meter_euclid, meter_dtw, meter_sdtw = calc_stuff(x,y)\n",
    "        se = {'MeterID': meter_id, 'Day': meter_day,'FDI': meter_fdi, \"meter_euclid\": meter_euclid, \"meter_dtw\":meter_dtw, \"meter_sdtw\":meter_sdtw}\n",
    "        df_list.append(se)\n",
    "    return df_list\n",
    "\n",
    "def main(PoolExecutor): # take ProcessPoolExecutor or ThreadPoolExecutor\n",
    "    print('start')\n",
    "    inputs = all_meter # data_group[0] 有422個\n",
    "    output1 = list()\n",
    "\n",
    "    start = time()           # let's see how long this takes\n",
    "    \n",
    "    with PoolExecutor() as executor:\n",
    "        for out1 in executor.map(procedure, inputs):\n",
    "            # put results into correct output list:\n",
    "            output1.append(out1)\n",
    "            \n",
    "    finish = time()\n",
    "    print(f'PoolExecutor: {PoolExecutor}')\n",
    "    print(f'time : {(finish-start)}')\n",
    "    return output1"
   ]
  },
  {
   "cell_type": "code",
   "execution_count": 184,
   "id": "sweet-wilson",
   "metadata": {},
   "outputs": [
    {
     "name": "stdout",
     "output_type": "stream",
     "text": [
      "PoolExecutor: <class 'concurrent.futures.process.ProcessPoolExecutor'>\n",
      "time : 249.44612503051758\n"
     ]
    }
   ],
   "source": [
    "dba_distance = main(ProcessPoolExecutor)"
   ]
  },
  {
   "cell_type": "code",
   "execution_count": 189,
   "id": "incorrect-drive",
   "metadata": {},
   "outputs": [],
   "source": [
    "dba_np = np.array(dba_distance)"
   ]
  },
  {
   "cell_type": "code",
   "execution_count": 202,
   "id": "downtown-balloon",
   "metadata": {},
   "outputs": [
    {
     "data": {
      "text/plain": [
       "(4225, 530)"
      ]
     },
     "execution_count": 202,
     "metadata": {},
     "output_type": "execute_result"
    }
   ],
   "source": [
    "dba_np.shape"
   ]
  },
  {
   "cell_type": "code",
   "execution_count": 205,
   "id": "advisory-colorado",
   "metadata": {},
   "outputs": [],
   "source": [
    "dba_list = []\n",
    "for meter in dba_distance:\n",
    "    for day in meter:\n",
    "        dba_list.append(day)"
   ]
  },
  {
   "cell_type": "code",
   "execution_count": 206,
   "id": "surprising-bronze",
   "metadata": {},
   "outputs": [],
   "source": [
    "dba_df = pd.DataFrame(dba_list)"
   ]
  },
  {
   "cell_type": "code",
   "execution_count": 207,
   "id": "outside-athletics",
   "metadata": {},
   "outputs": [
    {
     "data": {
      "text/html": [
       "<div>\n",
       "<style scoped>\n",
       "    .dataframe tbody tr th:only-of-type {\n",
       "        vertical-align: middle;\n",
       "    }\n",
       "\n",
       "    .dataframe tbody tr th {\n",
       "        vertical-align: top;\n",
       "    }\n",
       "\n",
       "    .dataframe thead th {\n",
       "        text-align: right;\n",
       "    }\n",
       "</style>\n",
       "<table border=\"1\" class=\"dataframe\">\n",
       "  <thead>\n",
       "    <tr style=\"text-align: right;\">\n",
       "      <th></th>\n",
       "      <th>MeterID</th>\n",
       "      <th>Day</th>\n",
       "      <th>FDI</th>\n",
       "      <th>meter_euclid</th>\n",
       "      <th>meter_dtw</th>\n",
       "      <th>meter_sdtw</th>\n",
       "    </tr>\n",
       "  </thead>\n",
       "  <tbody>\n",
       "    <tr>\n",
       "      <th>0</th>\n",
       "      <td>1236</td>\n",
       "      <td>2009-07-15</td>\n",
       "      <td>True</td>\n",
       "      <td>2.931790</td>\n",
       "      <td>2.697003</td>\n",
       "      <td>-69.102430</td>\n",
       "    </tr>\n",
       "    <tr>\n",
       "      <th>1</th>\n",
       "      <td>1236</td>\n",
       "      <td>2009-07-16</td>\n",
       "      <td>True</td>\n",
       "      <td>2.899283</td>\n",
       "      <td>1.964247</td>\n",
       "      <td>-70.214551</td>\n",
       "    </tr>\n",
       "    <tr>\n",
       "      <th>2</th>\n",
       "      <td>1236</td>\n",
       "      <td>2009-07-17</td>\n",
       "      <td>True</td>\n",
       "      <td>3.123288</td>\n",
       "      <td>1.724819</td>\n",
       "      <td>-67.936155</td>\n",
       "    </tr>\n",
       "    <tr>\n",
       "      <th>3</th>\n",
       "      <td>1236</td>\n",
       "      <td>2009-07-18</td>\n",
       "      <td>True</td>\n",
       "      <td>3.423259</td>\n",
       "      <td>2.645615</td>\n",
       "      <td>-64.757519</td>\n",
       "    </tr>\n",
       "    <tr>\n",
       "      <th>4</th>\n",
       "      <td>1236</td>\n",
       "      <td>2009-07-19</td>\n",
       "      <td>True</td>\n",
       "      <td>3.230180</td>\n",
       "      <td>1.772408</td>\n",
       "      <td>-66.748386</td>\n",
       "    </tr>\n",
       "    <tr>\n",
       "      <th>...</th>\n",
       "      <td>...</td>\n",
       "      <td>...</td>\n",
       "      <td>...</td>\n",
       "      <td>...</td>\n",
       "      <td>...</td>\n",
       "      <td>...</td>\n",
       "    </tr>\n",
       "    <tr>\n",
       "      <th>2239245</th>\n",
       "      <td>6954</td>\n",
       "      <td>2010-12-27</td>\n",
       "      <td>False</td>\n",
       "      <td>4.860049</td>\n",
       "      <td>2.071172</td>\n",
       "      <td>-60.018025</td>\n",
       "    </tr>\n",
       "    <tr>\n",
       "      <th>2239246</th>\n",
       "      <td>6954</td>\n",
       "      <td>2010-12-28</td>\n",
       "      <td>False</td>\n",
       "      <td>5.312420</td>\n",
       "      <td>2.635191</td>\n",
       "      <td>-50.409350</td>\n",
       "    </tr>\n",
       "    <tr>\n",
       "      <th>2239247</th>\n",
       "      <td>6954</td>\n",
       "      <td>2010-12-29</td>\n",
       "      <td>False</td>\n",
       "      <td>5.099870</td>\n",
       "      <td>2.176597</td>\n",
       "      <td>-58.832767</td>\n",
       "    </tr>\n",
       "    <tr>\n",
       "      <th>2239248</th>\n",
       "      <td>6954</td>\n",
       "      <td>2010-12-30</td>\n",
       "      <td>False</td>\n",
       "      <td>3.532870</td>\n",
       "      <td>1.933502</td>\n",
       "      <td>-67.212282</td>\n",
       "    </tr>\n",
       "    <tr>\n",
       "      <th>2239249</th>\n",
       "      <td>6954</td>\n",
       "      <td>2010-12-31</td>\n",
       "      <td>False</td>\n",
       "      <td>4.069081</td>\n",
       "      <td>1.687354</td>\n",
       "      <td>-61.457488</td>\n",
       "    </tr>\n",
       "  </tbody>\n",
       "</table>\n",
       "<p>2239250 rows × 6 columns</p>\n",
       "</div>"
      ],
      "text/plain": [
       "         MeterID         Day    FDI  meter_euclid  meter_dtw  meter_sdtw\n",
       "0           1236  2009-07-15   True      2.931790   2.697003  -69.102430\n",
       "1           1236  2009-07-16   True      2.899283   1.964247  -70.214551\n",
       "2           1236  2009-07-17   True      3.123288   1.724819  -67.936155\n",
       "3           1236  2009-07-18   True      3.423259   2.645615  -64.757519\n",
       "4           1236  2009-07-19   True      3.230180   1.772408  -66.748386\n",
       "...          ...         ...    ...           ...        ...         ...\n",
       "2239245     6954  2010-12-27  False      4.860049   2.071172  -60.018025\n",
       "2239246     6954  2010-12-28  False      5.312420   2.635191  -50.409350\n",
       "2239247     6954  2010-12-29  False      5.099870   2.176597  -58.832767\n",
       "2239248     6954  2010-12-30  False      3.532870   1.933502  -67.212282\n",
       "2239249     6954  2010-12-31  False      4.069081   1.687354  -61.457488\n",
       "\n",
       "[2239250 rows x 6 columns]"
      ]
     },
     "execution_count": 207,
     "metadata": {},
     "output_type": "execute_result"
    }
   ],
   "source": [
    "dba_df"
   ]
  },
  {
   "cell_type": "code",
   "execution_count": 208,
   "id": "strategic-nirvana",
   "metadata": {},
   "outputs": [],
   "source": [
    "e = dba_df.to_csv(index=False)\n",
    "f = open('all_area_dba_barycenter.csv','w')\n",
    "f.write(e) #Give your csv text here.\n",
    "f.close()"
   ]
  },
  {
   "cell_type": "code",
   "execution_count": 209,
   "id": "advanced-guitar",
   "metadata": {},
   "outputs": [],
   "source": [
    "def calc_stuff(x,y):   # these are examples.\n",
    "    meter_euclid = np.linalg.norm(x-y)\n",
    "    meter_dtw = dtw(x,y)\n",
    "    meter_sdtw = soft_dtw(x,y)\n",
    "    return meter_euclid, meter_dtw, meter_sdtw\n",
    "\n",
    "def procedure(j):                 # just factoring out the\n",
    "#     print('start procedure')\n",
    "    df_list = []\n",
    "    d = j.reshape(-1, 5)\n",
    "    meter = pd.DataFrame(d, columns=[\"MeterID\",\"Day\",\"Time\",\"Electricity\",\"FDI\"])\n",
    "    day_list = meter['Day'].reset_index()\n",
    "    \n",
    "#     print('start for loop')\n",
    "    for i in range(530): # \n",
    "        meter_id = meter[\"MeterID\"].loc[0]\n",
    "        meter_day = day_list['Day'][i*48]\n",
    "        meter_fdi = meter[\"FDI\"].loc[0]\n",
    "        x = meter[\"Electricity\"].to_numpy()[i*48:(i+1)*48]\n",
    "        y = sdtw.iloc[i]\n",
    "        \n",
    "        meter_euclid, meter_dtw, meter_sdtw = calc_stuff(x,y)\n",
    "        se = {'MeterID': meter_id, 'Day': meter_day,'FDI': meter_fdi, \"meter_euclid\": meter_euclid, \"meter_dtw\":meter_dtw, \"meter_sdtw\":meter_sdtw}\n",
    "        df_list.append(se)\n",
    "    return df_list\n",
    "\n",
    "def main(PoolExecutor): # take ProcessPoolExecutor or ThreadPoolExecutor\n",
    "    \n",
    "    inputs = all_meter # data_group[0] 有422個\n",
    "    output1 = list()\n",
    "\n",
    "    start = time()           # let's see how long this takes\n",
    "    \n",
    "    with PoolExecutor() as executor:\n",
    "        for out1 in executor.map(procedure, inputs):\n",
    "            # put results into correct output list:\n",
    "            output1.append(out1)\n",
    "            \n",
    "    finish = time()\n",
    "    print(f'PoolExecutor: {PoolExecutor}')\n",
    "    print(f'time : {(finish-start)}')\n",
    "    return output1"
   ]
  },
  {
   "cell_type": "code",
   "execution_count": 210,
   "id": "comprehensive-associate",
   "metadata": {},
   "outputs": [
    {
     "name": "stdout",
     "output_type": "stream",
     "text": [
      "PoolExecutor: <class 'concurrent.futures.process.ProcessPoolExecutor'>\n",
      "time : 269.32499289512634\n"
     ]
    }
   ],
   "source": [
    "sdtw_distance = main(ProcessPoolExecutor)"
   ]
  },
  {
   "cell_type": "code",
   "execution_count": 211,
   "id": "clinical-gibson",
   "metadata": {},
   "outputs": [],
   "source": [
    "sdtw_list = []\n",
    "for meter in sdtw_distance:\n",
    "    for day in meter:\n",
    "        sdtw_list.append(day)"
   ]
  },
  {
   "cell_type": "code",
   "execution_count": 212,
   "id": "damaged-thesaurus",
   "metadata": {},
   "outputs": [],
   "source": [
    "sdtw_df = pd.DataFrame(sdtw_list)"
   ]
  },
  {
   "cell_type": "code",
   "execution_count": 213,
   "id": "musical-wrong",
   "metadata": {},
   "outputs": [],
   "source": [
    "e = sdtw_df.to_csv(index=False)\n",
    "f = open('all_area_sdtw_barycenter.csv','w')\n",
    "f.write(e) #Give your csv text here.\n",
    "f.close()"
   ]
  },
  {
   "cell_type": "code",
   "execution_count": 214,
   "id": "differential-label",
   "metadata": {},
   "outputs": [
    {
     "data": {
      "text/html": [
       "<div>\n",
       "<style scoped>\n",
       "    .dataframe tbody tr th:only-of-type {\n",
       "        vertical-align: middle;\n",
       "    }\n",
       "\n",
       "    .dataframe tbody tr th {\n",
       "        vertical-align: top;\n",
       "    }\n",
       "\n",
       "    .dataframe thead th {\n",
       "        text-align: right;\n",
       "    }\n",
       "</style>\n",
       "<table border=\"1\" class=\"dataframe\">\n",
       "  <thead>\n",
       "    <tr style=\"text-align: right;\">\n",
       "      <th></th>\n",
       "      <th>MeterID</th>\n",
       "      <th>Day</th>\n",
       "      <th>FDI</th>\n",
       "      <th>meter_euclid</th>\n",
       "      <th>meter_dtw</th>\n",
       "      <th>meter_sdtw</th>\n",
       "    </tr>\n",
       "  </thead>\n",
       "  <tbody>\n",
       "    <tr>\n",
       "      <th>0</th>\n",
       "      <td>1236</td>\n",
       "      <td>2009-07-15</td>\n",
       "      <td>True</td>\n",
       "      <td>2.290820</td>\n",
       "      <td>1.979150</td>\n",
       "      <td>-72.931267</td>\n",
       "    </tr>\n",
       "    <tr>\n",
       "      <th>1</th>\n",
       "      <td>1236</td>\n",
       "      <td>2009-07-16</td>\n",
       "      <td>True</td>\n",
       "      <td>2.187721</td>\n",
       "      <td>1.673913</td>\n",
       "      <td>-73.963475</td>\n",
       "    </tr>\n",
       "    <tr>\n",
       "      <th>2</th>\n",
       "      <td>1236</td>\n",
       "      <td>2009-07-17</td>\n",
       "      <td>True</td>\n",
       "      <td>2.468129</td>\n",
       "      <td>1.544353</td>\n",
       "      <td>-73.150540</td>\n",
       "    </tr>\n",
       "    <tr>\n",
       "      <th>3</th>\n",
       "      <td>1236</td>\n",
       "      <td>2009-07-18</td>\n",
       "      <td>True</td>\n",
       "      <td>2.768943</td>\n",
       "      <td>2.252936</td>\n",
       "      <td>-69.324980</td>\n",
       "    </tr>\n",
       "    <tr>\n",
       "      <th>4</th>\n",
       "      <td>1236</td>\n",
       "      <td>2009-07-19</td>\n",
       "      <td>True</td>\n",
       "      <td>2.310693</td>\n",
       "      <td>1.676262</td>\n",
       "      <td>-71.154314</td>\n",
       "    </tr>\n",
       "    <tr>\n",
       "      <th>...</th>\n",
       "      <td>...</td>\n",
       "      <td>...</td>\n",
       "      <td>...</td>\n",
       "      <td>...</td>\n",
       "      <td>...</td>\n",
       "      <td>...</td>\n",
       "    </tr>\n",
       "    <tr>\n",
       "      <th>2239245</th>\n",
       "      <td>6954</td>\n",
       "      <td>2010-12-27</td>\n",
       "      <td>False</td>\n",
       "      <td>3.616652</td>\n",
       "      <td>1.991596</td>\n",
       "      <td>-67.444601</td>\n",
       "    </tr>\n",
       "    <tr>\n",
       "      <th>2239246</th>\n",
       "      <td>6954</td>\n",
       "      <td>2010-12-28</td>\n",
       "      <td>False</td>\n",
       "      <td>4.751490</td>\n",
       "      <td>2.526374</td>\n",
       "      <td>-60.961150</td>\n",
       "    </tr>\n",
       "    <tr>\n",
       "      <th>2239247</th>\n",
       "      <td>6954</td>\n",
       "      <td>2010-12-29</td>\n",
       "      <td>False</td>\n",
       "      <td>4.350194</td>\n",
       "      <td>2.217898</td>\n",
       "      <td>-63.964463</td>\n",
       "    </tr>\n",
       "    <tr>\n",
       "      <th>2239248</th>\n",
       "      <td>6954</td>\n",
       "      <td>2010-12-30</td>\n",
       "      <td>False</td>\n",
       "      <td>2.242897</td>\n",
       "      <td>1.203493</td>\n",
       "      <td>-73.982068</td>\n",
       "    </tr>\n",
       "    <tr>\n",
       "      <th>2239249</th>\n",
       "      <td>6954</td>\n",
       "      <td>2010-12-31</td>\n",
       "      <td>False</td>\n",
       "      <td>2.659937</td>\n",
       "      <td>1.717721</td>\n",
       "      <td>-71.969033</td>\n",
       "    </tr>\n",
       "  </tbody>\n",
       "</table>\n",
       "<p>2239250 rows × 6 columns</p>\n",
       "</div>"
      ],
      "text/plain": [
       "         MeterID         Day    FDI  meter_euclid  meter_dtw  meter_sdtw\n",
       "0           1236  2009-07-15   True      2.290820   1.979150  -72.931267\n",
       "1           1236  2009-07-16   True      2.187721   1.673913  -73.963475\n",
       "2           1236  2009-07-17   True      2.468129   1.544353  -73.150540\n",
       "3           1236  2009-07-18   True      2.768943   2.252936  -69.324980\n",
       "4           1236  2009-07-19   True      2.310693   1.676262  -71.154314\n",
       "...          ...         ...    ...           ...        ...         ...\n",
       "2239245     6954  2010-12-27  False      3.616652   1.991596  -67.444601\n",
       "2239246     6954  2010-12-28  False      4.751490   2.526374  -60.961150\n",
       "2239247     6954  2010-12-29  False      4.350194   2.217898  -63.964463\n",
       "2239248     6954  2010-12-30  False      2.242897   1.203493  -73.982068\n",
       "2239249     6954  2010-12-31  False      2.659937   1.717721  -71.969033\n",
       "\n",
       "[2239250 rows x 6 columns]"
      ]
     },
     "execution_count": 214,
     "metadata": {},
     "output_type": "execute_result"
    }
   ],
   "source": [
    "sdtw_df[\"\"]"
   ]
  },
  {
   "cell_type": "code",
   "execution_count": null,
   "id": "alone-picnic",
   "metadata": {},
   "outputs": [],
   "source": []
  },
  {
   "cell_type": "code",
   "execution_count": null,
   "id": "occupational-finish",
   "metadata": {},
   "outputs": [],
   "source": []
  },
  {
   "cell_type": "code",
   "execution_count": null,
   "id": "medium-river",
   "metadata": {},
   "outputs": [],
   "source": []
  },
  {
   "cell_type": "code",
   "execution_count": 173,
   "id": "guilty-submission",
   "metadata": {},
   "outputs": [],
   "source": [
    "a = pd.DataFrame(all_meter[0].reshape(-1, 5), columns=[\"MeterID\",\"Day\",\"Time\",\"Electricity\",\"FDI\"])"
   ]
  },
  {
   "cell_type": "code",
   "execution_count": 176,
   "id": "worthy-tourism",
   "metadata": {},
   "outputs": [
    {
     "data": {
      "text/plain": [
       "(25440,)"
      ]
     },
     "execution_count": 176,
     "metadata": {},
     "output_type": "execute_result"
    }
   ],
   "source": [
    "a[\"Electricity\"].to_numpy().shape"
   ]
  },
  {
   "cell_type": "code",
   "execution_count": null,
   "id": "precious-retention",
   "metadata": {},
   "outputs": [],
   "source": [
    "def calc_stuff(x,y):   # these are examples.\n",
    "    meter_euclid = np.linalg.norm(x-y)\n",
    "    meter_dtw = dtw(x,y)\n",
    "    meter_sdtw = soft_dtw(x,y)\n",
    "    return meter_euclid, meter_dtw, meter_sdtw\n",
    "\n",
    "def procedure(j):                 # just factoring out the\n",
    "    df_list = []\n",
    "    d = j.reshape(-1, 5)\n",
    "    meter = pd.DataFrame(d, columns=[\"MeterID\",\"Day\",\"Time\",\"Electricity\",\"FDI\"])\n",
    "    day_list = meter['Day'].reset_index()\n",
    "    for i in range(530): # \n",
    "        \n",
    "        meter_id = meter[\"MeterID\"].loc[0]\n",
    "        meter_day = day_list['Day'][i*48]\n",
    "        meter_fdi = meter[\"FDI\"].loc[0]\n",
    "        x = meter[\"Electricity\"].to_numpy()[i*48:(i+1)*48]\n",
    "        y = center[i*48:(i+1)*48]\n",
    "#         if i == 529:\n",
    "#             print(f'meter_id : {meter_id} , x.shape :{ x.shape}, y.shape: {y.shape},{i*48,(i+1)*48}')\n",
    "        meter_euclid, meter_dtw, meter_sdtw = calc_stuff(x,y)\n",
    "        se = {'MeterID': meter_id, 'Day': meter_day,'FDI': meter_fdi, \"meter_euclid\": meter_euclid, \"meter_dtw\":meter_dtw, \"meter_sdtw\":meter_sdtw}\n",
    "        df_list.append(se)\n",
    "    return df_list\n",
    "\n",
    "def main(PoolExecutor, area_num): # take ProcessPoolExecutor or ThreadPoolExecutor\n",
    "    \n",
    "    inputs = data_group[area_num] # data_group[0] 有422個\n",
    "    output1 = list()\n",
    "\n",
    "    start = time()           # let's see how long this takes\n",
    "    \n",
    "    with PoolExecutor() as executor:\n",
    "        for out1 in executor.map(procedure, inputs):\n",
    "            # put results into correct output list:\n",
    "            output1.append(out1)\n",
    "            \n",
    "    finish = time()\n",
    "    print(f'PoolExecutor: {PoolExecutor}')\n",
    "    print(f'time : {(finish-start)}')\n",
    "    return output1"
   ]
  },
  {
   "cell_type": "code",
   "execution_count": null,
   "id": "floral-cookie",
   "metadata": {},
   "outputs": [],
   "source": []
  }
 ],
 "metadata": {
  "environment": {
   "name": "common-cpu.mnightly-2021-02-12-debian-10-test",
   "type": "gcloud",
   "uri": "gcr.io/deeplearning-platform-release/base-cpu:mnightly-2021-02-12-debian-10-test"
  },
  "kernelspec": {
   "display_name": "Python [conda env:root] *",
   "language": "python",
   "name": "conda-root-py"
  },
  "language_info": {
   "codemirror_mode": {
    "name": "ipython",
    "version": 3
   },
   "file_extension": ".py",
   "mimetype": "text/x-python",
   "name": "python",
   "nbconvert_exporter": "python",
   "pygments_lexer": "ipython3",
   "version": "3.7.9"
  }
 },
 "nbformat": 4,
 "nbformat_minor": 5
}
