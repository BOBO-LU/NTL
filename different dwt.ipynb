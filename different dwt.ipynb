{
 "cells": [
  {
   "cell_type": "code",
   "execution_count": 1,
   "id": "hazardous-excitement",
   "metadata": {},
   "outputs": [],
   "source": [
    "import copy\n",
    "import datetime\n",
    "import gc\n",
    "import logging\n",
    "import os\n",
    "from math import exp, floor, sqrt\n",
    "\n",
    "import matplotlib.patches as mpatches\n",
    "import matplotlib.pyplot as plt\n",
    "import numpy as np\n",
    "import pandas as pd\n",
    "import psutil\n",
    "import seaborn as sns\n",
    "import tensorflow as tf\n",
    "import tqdm.notebook as tq\n",
    "from minepy import MINE\n",
    "from numpy import mean\n",
    "from sklearn.cluster import KMeans\n",
    "from sklearn.datasets import make_classification\n",
    "from sklearn.ensemble import AdaBoostClassifier\n",
    "from sklearn.inspection import permutation_importance\n",
    "from sklearn.metrics import (accuracy_score, auc, f1_score, precision_score,\n",
    "                             recall_score, roc_auc_score, silhouette_score)\n",
    "from sklearn.model_selection import (GridSearchCV, RepeatedStratifiedKFold,\n",
    "                                     ShuffleSplit, StratifiedShuffleSplit,\n",
    "                                     cross_val_score)\n",
    "from tqdm.notebook import tqdm\n",
    "from tslearn.barycenters import (dtw_barycenter_averaging,\n",
    "                                 dtw_barycenter_averaging_subgradient,\n",
    "                                 euclidean_barycenter, softdtw_barycenter)\n",
    "from tslearn.clustering import TimeSeriesKMeans\n",
    "from tslearn.datasets import CachedDatasets\n",
    "from tslearn.metrics import dtw, soft_dtw\n",
    "from tslearn.preprocessing import (TimeSeriesResampler,\n",
    "                                   TimeSeriesScalerMeanVariance)\n",
    "from xgboost import XGBClassifier"
   ]
  },
  {
   "cell_type": "markdown",
   "id": "beginning-sphere",
   "metadata": {},
   "source": [
    "# data acquisition and pre-processing"
   ]
  },
  {
   "cell_type": "markdown",
   "id": "public-building",
   "metadata": {},
   "source": [
    "## data acquisition"
   ]
  },
  {
   "cell_type": "code",
   "execution_count": 2,
   "id": "governmental-proportion",
   "metadata": {},
   "outputs": [],
   "source": [
    "def get_file_from_folder(path):\n",
    "    data = {}\n",
    "    data_path = path\n",
    "    headers = [\"MeterID\", \"Datetime\", \"Electricity\"]\n",
    "\n",
    "    for file_name in os.listdir(data_path):\n",
    "        file_path = os.path.join(data_path, file_name)\n",
    "\n",
    "        df = pd.read_csv(file_path, sep=\" \", names=headers)\n",
    "        data[file_name] = df\n",
    "\n",
    "    return data\n",
    "\n",
    "def transform_daycode_to_date(days_int):\n",
    "    days = int(str(days_int)[:3])\n",
    "    add_date = datetime.timedelta(days=days)\n",
    "    current_date = START_DATE + add_date\n",
    "    return str(current_date)\n",
    "\n",
    "def transform_dataframe(df):\n",
    "    df = df.sort_values(by = ['MeterID', 'Datetime'])\n",
    "\n",
    "    df[\"Day\"] = df[\"Datetime\"].map(lambda x: transform_daycode_to_date(x))\n",
    "    df[\"Time\"] = df[\"Datetime\"].map(lambda x: str(x)[3:])\n",
    "    df[\"Time\"] = pd.to_numeric(df[\"Time\"], downcast='integer')\n",
    "\n",
    "    df = df[['MeterID','Day', 'Time', 'Electricity', 'Datetime']]\n",
    "    return df\n",
    "\n",
    "def print_df_summary(df, all=False):\n",
    "    print(f\"MeterID count : {df.value_counts('MeterID').unique()}\")\n",
    "    print(f\"Datetime count : {df.value_counts('Datetime').unique()}\")\n",
    "    if all == True:\n",
    "        print(f\"Day count : {df.value_counts('Day').unique()}\")\n",
    "        print(f\"Time count : {df.value_counts('Time').unique()}\")\n",
    "        print(f\"Electricity count : {df.value_counts('Electricity').unique()}\")"
   ]
  },
  {
   "cell_type": "code",
   "execution_count": 3,
   "id": "minus-facial",
   "metadata": {},
   "outputs": [],
   "source": [
    "# data preprocessing CONST\n",
    "DATA_FOLDER_PATH = \"Data\"\n",
    "IMAGES_PATH = \"Image\"\n",
    "ALLOCATION_PATH = \"SME and Residential allocations.xlsx\"\n",
    "START_DATE = datetime.date(2009, 1, 1)\n",
    "MAX_NUMBER_OF_HOURS = 530 * 24 * 2\n",
    "HOURS_LIST = np.arange(MAX_NUMBER_OF_HOURS)"
   ]
  },
  {
   "cell_type": "code",
   "execution_count": null,
   "id": "lesbian-regression",
   "metadata": {},
   "outputs": [],
   "source": [
    "# read data from folder\n",
    "data = get_file_from_folder(DATA_FOLDER_PATH)"
   ]
  },
  {
   "cell_type": "code",
   "execution_count": null,
   "id": "advisory-values",
   "metadata": {},
   "outputs": [],
   "source": [
    "# get residential list\n",
    "res_list = []\n",
    "df_sme = pd.read_excel(ALLOCATION_PATH, usecols=\"A:B\")\n",
    "df_sme = df_sme.loc[df_sme['Code'] == 1]\n",
    "res_list = df_sme['ID'].tolist()"
   ]
  },
  {
   "cell_type": "code",
   "execution_count": null,
   "id": "written-parade",
   "metadata": {},
   "outputs": [],
   "source": [
    "# filter res data and specific date\n",
    "res_data_list = []\n",
    "for index, name in enumerate(data):\n",
    "    d = data[name]['MeterID'].isin(res_list)\n",
    "    d_is_res = data[name].loc[d]\n",
    "    \n",
    "    d_is_res_and_date = transform_dataframe(d_is_res)\n",
    "    \n",
    "    res_data_list.append(d_is_res_and_date)"
   ]
  },
  {
   "cell_type": "code",
   "execution_count": null,
   "id": "valuable-department",
   "metadata": {},
   "outputs": [],
   "source": [
    "load_data = pd.concat(res_data_list, copy=False)\n",
    "load_data.head(10)"
   ]
  },
  {
   "cell_type": "code",
   "execution_count": null,
   "id": "clinical-course",
   "metadata": {},
   "outputs": [],
   "source": [
    "load_data.shape"
   ]
  },
  {
   "cell_type": "markdown",
   "id": "searching-credit",
   "metadata": {},
   "source": [
    "## Data cleaning"
   ]
  },
  {
   "cell_type": "code",
   "execution_count": 43,
   "id": "associate-party",
   "metadata": {},
   "outputs": [],
   "source": [
    "def save_fig(fig_id, tight_layout=True, fig_extension=\"png\", resolution=300, image_path = IMAGES_PATH):\n",
    "    path = os.path.join(image_path, fig_id + \".\" + fig_extension)\n",
    "    print(\"Saving figure\", fig_id)\n",
    "    if tight_layout:\n",
    "        plt.tight_layout()\n",
    "    plt.savefig(path, format=fig_extension, dpi=resolution)"
   ]
  },
  {
   "cell_type": "code",
   "execution_count": null,
   "id": "south-secretary",
   "metadata": {},
   "outputs": [],
   "source": [
    "def plot_day_data(data, x=\"Day\", rotation=45, y=\"Data quantity\", title=\"data quantity for each day in residential meter\",save=False):\n",
    "    plt.figure(dpi=150, figsize=(10,4))\n",
    "    plt.plot(data)\n",
    "\n",
    "    # naming the x axis \n",
    "    plt.xlabel(x) \n",
    "    plt.xticks(np.arange(0, len(data), 20), rotation=45)\n",
    "    # naming the y axis \n",
    "    plt.ylabel(y) \n",
    "\n",
    "    # giving a title to my graph \n",
    "    plt.title(title)\n",
    "    if save == True:\n",
    "        save_fig(title)"
   ]
  },
  {
   "cell_type": "code",
   "execution_count": null,
   "id": "touched-equilibrium",
   "metadata": {},
   "outputs": [],
   "source": [
    "# data cleaning functions\n",
    "# drop data has eletricity comsuption with 0\n",
    "def data_cleaning_drop_zero(pretty_data):\n",
    "    print(f'before drop zero: {pretty_data.shape}')\n",
    "    pretty_data = pretty_data.groupby(\"MeterID\")\n",
    "    pretty_data = pretty_data.filter(lambda x: ( round(x['Electricity'].eq(0).sum() / x['Electricity'].count(), 2) < 0.01) )\n",
    "    print(f'after drop zero:  {pretty_data.shape}')\n",
    "    return pretty_data\n",
    "\n",
    "# drop data has more than T hours\n",
    "def data_cleaning_drop_48(pretty_data, time=48):\n",
    "    print(f'before drop Time: {pretty_data.shape}')\n",
    "    pretty_data = pretty_data[ pd.to_numeric(pretty_data[\"Time\"], downcast='integer') <= time ]\n",
    "    print(f'after drop Time:  {pretty_data.shape}')\n",
    "    return pretty_data\n",
    "\n",
    "# select data between min and max Datetime \n",
    "def data_cleaning_select_time(pretty_data, min_date, max_date):\n",
    "    print(f'before drop Datetime between {min_date} and {max_date}:  {pretty_data.shape}')\n",
    "    pretty_data = pretty_data[ ((pretty_data['Datetime'] >= min_date) & (pretty_data['Datetime'] <= max_date)) ]\n",
    "    print(f'after drop Datetime between {min_date} and {max_date}:  {pretty_data.shape}')\n",
    "    return pretty_data\n",
    "\n",
    "# drop data from specific column and specific value\n",
    "def drop_meter_from_df(pretty_data, column, value):\n",
    "    return pretty_data[~pretty_data[column].isin(value)]\n",
    "\n",
    "def plot_df_valuecounts_with_groupby(pretty_data, byColumn, column=False):\n",
    "    print(pretty_data.groupby(byColumn).count()[\"Time\"].value_counts())\n",
    "    if column:\n",
    "        pretty_data.groupby(byColumn).count()[column].value_counts().plot.bar()\n",
    "    else:\n",
    "        pretty_data.groupby(byColumn).count().value_counts().plot.bar()\n",
    "        \n",
    "def replace_missing_value(df, meter_id, meter_day, replace_day, day_interval=1): \n",
    "    #day_interval is used to change the datetime\n",
    "    #meter_day is the day with data\n",
    "    #replace_day is the missing day\n",
    "    display(df[ (df[\"MeterID\"]==meter_id) & (df[\"Day\"]==replace_day)].head(2))\n",
    "    df_temp = df[ (df[\"MeterID\"]==meter_id) & (df[\"Day\"]==meter_day)]\n",
    "    df_temp = df_temp.replace(to_replace=r\"\"+meter_day, value=replace_day)\n",
    "    df_temp[\"Datetime\"] = df_temp[\"Datetime\"].add(day_interval*100)\n",
    "    df = df.append(df_temp)\n",
    "    display(df[ (df[\"MeterID\"]==meter_id) & (df[\"Day\"]==replace_day)].head(2))\n",
    "    return df"
   ]
  },
  {
   "cell_type": "code",
   "execution_count": null,
   "id": "automotive-insulation",
   "metadata": {},
   "outputs": [],
   "source": [
    "plot_day_data(load_data[\"Day\"].value_counts().sort_index(), title=\"data quantity for each day in residential meter\", save=True)"
   ]
  },
  {
   "cell_type": "markdown",
   "id": "allied-access",
   "metadata": {},
   "source": [
    "### select time interval"
   ]
  },
  {
   "cell_type": "code",
   "execution_count": null,
   "id": "transsexual-fighter",
   "metadata": {},
   "outputs": [],
   "source": [
    "load_data = data_cleaning_select_time(load_data,19501,72948)\n",
    "plot_day_data(load_data[\"Day\"].value_counts().sort_index(), title=\"data quantity in select time 2009.7.15-2010.12.31\", save=True)\n",
    "print(load_data.shape)\n",
    "data_20110101 = data_cleaning_select_time(load_data,73001,73048)"
   ]
  },
  {
   "cell_type": "markdown",
   "id": "atlantic-strength",
   "metadata": {},
   "source": [
    "### drop more than 48 hours"
   ]
  },
  {
   "cell_type": "code",
   "execution_count": null,
   "id": "macro-queensland",
   "metadata": {},
   "outputs": [],
   "source": [
    "load_data = data_cleaning_drop_48(load_data)\n",
    "plot_day_data(load_data[\"Day\"].value_counts().sort_index(), title=\"drop data more than 48 hours a day\", save=True)\n",
    "print(load_data.shape)"
   ]
  },
  {
   "cell_type": "markdown",
   "id": "happy-recycling",
   "metadata": {},
   "source": [
    "### drop missing value"
   ]
  },
  {
   "cell_type": "markdown",
   "id": "professional-wallet",
   "metadata": {},
   "source": [
    " 2010-12-24    202416\n",
    " 2010-12-05    200736\n",
    " 2010-12-06    195936\n",
    " 2010-03-29    194350\n",
    " 2010-07-21    182016"
   ]
  },
  {
   "cell_type": "code",
   "execution_count": null,
   "id": "terminal-jersey",
   "metadata": {},
   "outputs": [],
   "source": [
    "# drop data with day missing\n",
    "drop_Day_missing = [\"2010-03-29\", \"2010-12-24\", \"2010-12-05\", \"2010-12-06\", \"2010-07-21\"]\n",
    "load_data = drop_meter_from_df(load_data, \"Day\", drop_Day_missing)\n",
    "plot_day_data(load_data[\"Day\"].value_counts().sort_index(), title=\"drop data with day missing\", save=True)\n",
    "print(load_data.shape)"
   ]
  },
  {
   "cell_type": "markdown",
   "id": "executed-underwear",
   "metadata": {},
   "source": [
    "### replace missing value"
   ]
  },
  {
   "cell_type": "markdown",
   "id": "straight-scope",
   "metadata": {},
   "source": [
    " 2010-11-17    202752\n",
    " 2010-11-16    202752\n",
    " 2009-09-04    202704\n",
    " 2010-07-20    202704\n",
    " 2010-12-04    202704"
   ]
  },
  {
   "cell_type": "code",
   "execution_count": null,
   "id": "common-chain",
   "metadata": {},
   "outputs": [],
   "source": [
    "print(set(load_data[\"MeterID\"].unique()) - set(load_data[ load_data[\"Day\"]==\"2010-11-16\"][\"MeterID\"].unique()))\n",
    "print(set(load_data[\"MeterID\"].unique()) - set(load_data[ load_data[\"Day\"]==\"2010-11-17\"][\"MeterID\"].unique()))\n",
    "print(set(load_data[\"MeterID\"].unique()) - set(load_data[ load_data[\"Day\"]==\"2009-09-04\"][\"MeterID\"].unique()))\n",
    "print(set(load_data[\"MeterID\"].unique()) - set(load_data[ load_data[\"Day\"]==\"2010-07-20\"][\"MeterID\"].unique()))\n",
    "print(set(load_data[\"MeterID\"].unique()) - set(load_data[ load_data[\"Day\"]==\"2010-12-04\"][\"MeterID\"].unique()))"
   ]
  },
  {
   "cell_type": "code",
   "execution_count": null,
   "id": "ideal-cursor",
   "metadata": {},
   "outputs": [],
   "source": [
    "load_data = replace_missing_value(load_data, 4463, \"2010-11-15\", \"2010-11-16\", 1)\n",
    "load_data = replace_missing_value(load_data, 4463, \"2010-11-14\", \"2010-11-17\", 1)\n",
    "load_data = replace_missing_value(load_data, 2715, \"2009-09-03\", \"2009-09-04\", 1)\n",
    "load_data = replace_missing_value(load_data, 5313, \"2009-09-03\", \"2009-09-04\", 1)\n",
    "load_data = replace_missing_value(load_data, 3433, \"2010-07-19\", \"2010-07-20\", 1)\n",
    "load_data = replace_missing_value(load_data, 5181, \"2010-07-19\", \"2010-07-20\", 1)\n",
    "load_data = replace_missing_value(load_data, 1505, \"2010-12-03\", \"2010-12-04\", 1)\n",
    "load_data = replace_missing_value(load_data, 2728, \"2010-12-03\", \"2010-12-04\", 1)"
   ]
  },
  {
   "cell_type": "code",
   "execution_count": null,
   "id": "loving-south",
   "metadata": {},
   "outputs": [],
   "source": [
    "# e = load_data.to_csv(index=False)\n",
    "# f = open('load_data.csv','w')\n",
    "# f.write(e) #Give your csv text here.\n",
    "# ## Python will convert \\n to os.linesep\n",
    "# f.close()"
   ]
  },
  {
   "cell_type": "code",
   "execution_count": null,
   "id": "interstate-hudson",
   "metadata": {},
   "outputs": [],
   "source": [
    "plot_day_data(load_data[\"Day\"].value_counts().sort_index(), title=\"fill data with day missing\", save=True)\n",
    "print(load_data.shape)"
   ]
  },
  {
   "cell_type": "code",
   "execution_count": null,
   "id": "assigned-capacity",
   "metadata": {},
   "outputs": [],
   "source": [
    "del data\n",
    "del d\n",
    "del df_sme\n",
    "del d_is_res\n",
    "del res_list\n",
    "del d_is_res_and_date\n",
    "del res_data_list\n",
    "gc.collect()"
   ]
  },
  {
   "cell_type": "markdown",
   "id": "employed-surgeon",
   "metadata": {},
   "source": [
    "## Meter grouping"
   ]
  },
  {
   "cell_type": "code",
   "execution_count": null,
   "id": "checked-challenge",
   "metadata": {},
   "outputs": [],
   "source": [
    "pretty_data = load_data.sort_values(by=['MeterID', 'Day'])"
   ]
  },
  {
   "cell_type": "code",
   "execution_count": null,
   "id": "acute-guyana",
   "metadata": {},
   "outputs": [],
   "source": [
    "# FDI CONST\n",
    "NUMBER_OF_DAYS = len(pretty_data[\"Day\"].unique())\n",
    "NUMBER_OF_HALF_HOURS = NUMBER_OF_DAYS * 48\n",
    "AREA_NUM = 10\n",
    "TOTAL_METER = len(pretty_data.groupby(\"MeterID\")[\"MeterID\"].unique())\n",
    "METER_IN_RANGE = round(len(pretty_data.groupby(\"MeterID\")[\"MeterID\"].unique()) / AREA_NUM)"
   ]
  },
  {
   "cell_type": "code",
   "execution_count": null,
   "id": "intensive-islam",
   "metadata": {},
   "outputs": [],
   "source": [
    "NUMBER_OF_DAYS, NUMBER_OF_HALF_HOURS, TOTAL_METER, METER_IN_RANGE"
   ]
  },
  {
   "cell_type": "code",
   "execution_count": null,
   "id": "endless-palestinian",
   "metadata": {},
   "outputs": [],
   "source": [
    "# split data into groups\n",
    "def split_data_to_group(target_df, areas):\n",
    "    data_group = {}\n",
    "    for group in range(areas):\n",
    "        if group == (AREA_NUM - 1):\n",
    "            data_group[group] = target_df[METER_IN_RANGE*group*(NUMBER_OF_HALF_HOURS) : METER_IN_RANGE*(group+1)*(NUMBER_OF_HALF_HOURS)+NUMBER_OF_HALF_HOURS* (TOTAL_METER % areas)]\n",
    "        else:\n",
    "            data_group[group] = target_df[METER_IN_RANGE*group*(NUMBER_OF_HALF_HOURS) : METER_IN_RANGE*(group+1)*(NUMBER_OF_HALF_HOURS)]\n",
    "    return data_group"
   ]
  },
  {
   "cell_type": "code",
   "execution_count": null,
   "id": "dried-semiconductor",
   "metadata": {},
   "outputs": [],
   "source": [
    "# split data into 10 groups\n",
    "data_group = split_data_to_group(pretty_data, AREA_NUM)"
   ]
  },
  {
   "cell_type": "markdown",
   "id": "august-triumph",
   "metadata": {},
   "source": [
    "## FDI"
   ]
  },
  {
   "cell_type": "code",
   "execution_count": null,
   "id": "dense-profile",
   "metadata": {},
   "outputs": [],
   "source": [
    "class FdiGenerator:\n",
    "    def __init__(self):\n",
    "        self.alpha_max = 0.8\n",
    "        self.alpha_min = 0.2\n",
    "    \n",
    "    # x is the origin value\n",
    "\n",
    "    def fdi_1(self, x):\n",
    "        fdi =  x * self.get_alpha()\n",
    "        return fdi\n",
    "\n",
    "    def fdi_2(self, x, df_max):\n",
    "        alpha = self.get_alpha()\n",
    "        gamma = alpha * df_max\n",
    "        return gamma if (x > gamma) else x\n",
    "\n",
    "    def fdi_3(self, x, df_max):\n",
    "        gamma = np.random.uniform(0, 1) * df_max\n",
    "        return max((x - gamma), 0)\n",
    "    \n",
    "    def fdi_4(self, x, index, total_index):\n",
    "        t2 = np.random.randint(0, 20)\n",
    "        t1 = np.random.randint(t2, 24)\n",
    "        if index > t2 and index < t2:\n",
    "            return 0\n",
    "        return x\n",
    "    \n",
    "    def fdi_5(self, x, index):\n",
    "        alpha = self.get_alpha()\n",
    "        return x * alpha\n",
    "    \n",
    "    def fdi_6(self, avg_x):\n",
    "        alpha = self.get_alpha()\n",
    "        return avg_x * alpha\n",
    "    \n",
    "    def get_alpha(self):\n",
    "        return np.random.uniform(self.alpha_min, self.alpha_max)\n",
    "    \n",
    "    def get_random_mode(self):\n",
    "        # return an integer in range from 1 to 6\n",
    "        fdi_method = np.random.randint(1, 7)\n",
    "        return fdi_method\n",
    "    \n",
    "    def random_fdi(self, fdi_method, x, df, index):\n",
    "        # return a fdi value with fdi_method provided\n",
    "        if fdi_method == 1:\n",
    "            return self.fdi_1(x)\n",
    "        elif fdi_method == 2:\n",
    "            return self.fdi_2(x, df.max())\n",
    "        elif fdi_method == 3:\n",
    "            return self.fdi_3(x, df.max())\n",
    "        elif fdi_method == 4:\n",
    "            return self.fdi_4(x, index, df.shape[0])\n",
    "        elif fdi_method == 5:\n",
    "            return self.fdi_5(x, index)\n",
    "        else:\n",
    "            return self.fdi_6(df.mean())"
   ]
  },
  {
   "cell_type": "code",
   "execution_count": null,
   "id": "skilled-organ",
   "metadata": {},
   "outputs": [],
   "source": [
    "def split_group(group, total_meter, area_num, group_meter, total_day, ntl_meter_ratio, ntl_day_ratio):\n",
    "    # ex: split_group(data_group, total_meter = 2044, group_meter = 204, total_day = 299, ntl_meter_ratio = 0.1, ntl_day_ratio = 0.5)\n",
    "\n",
    "    ntl_num = round(group_meter * ntl_meter_ratio) # ntl_num = how many number of ntl meters\n",
    "    ntl_day_num = round(total_day * ntl_day_ratio) # ntl_day_num = how many days are fdi for ntl meters\n",
    "    \n",
    "    np.random.seed(42)\n",
    "    \n",
    "    final_data_group = []\n",
    "    origin_data_group = []\n",
    "    data_group = copy.deepcopy(group) \n",
    "    \n",
    "    # iterate through 10 area\n",
    "    for group, data in data_group.items():\n",
    "        \n",
    "        final_data = {}\n",
    "        origin_data = {}\n",
    "\n",
    "        normal_data = []\n",
    "        fdi_data = []\n",
    "        origin_fdi_data = []\n",
    "\n",
    "        if group == (area_num - 1): # the last group will have more data for the rest of the meters\n",
    "            num = total_meter - group_meter * (area_num -1)\n",
    "        else:\n",
    "            num = group_meter\n",
    "\n",
    "        #split total meter into normal meters and fdi meters\n",
    "        rs = ShuffleSplit(n_splits=1, test_size=ntl_num)\n",
    "        for normal_index, fdi_index in rs.split(range(num)):\n",
    "            for index in normal_index:\n",
    "                normal_data.append(data[index*(NUMBER_OF_HALF_HOURS):(index+1)*(NUMBER_OF_HALF_HOURS)])\n",
    "            for index in fdi_index:\n",
    "                fdi_data.append(data[index*(NUMBER_OF_HALF_HOURS):(index+1)*(NUMBER_OF_HALF_HOURS)])\n",
    "                \n",
    "        origin_fdi_data = copy.deepcopy(fdi_data)\n",
    "            \n",
    "        for index in tq.tqdm(range(len(fdi_data))):\n",
    "\n",
    "            dataframe = fdi_data[index]\n",
    "            fdi_dataframe = np.zeros((NUMBER_OF_HALF_HOURS))\n",
    "            \n",
    "            # split total day into normal and fdi day with the ntl_day_num\n",
    "            rs = ShuffleSplit(n_splits=1, test_size=ntl_day_num, random_state=42)\n",
    "            for normal_day, fdi_day in rs.split(range(total_day)):\n",
    "                normal_day = normal_day\n",
    "                fdi_day = fdi_day\n",
    "            \n",
    "            # set normal data in normal days\n",
    "            for day in range(len(normal_day)):\n",
    "                for i in range(normal_day[day]*48, (normal_day[day]+1)*48):\n",
    "                    fdi_dataframe[i] = dataframe[\"Electricity\"].iloc[[i]]\n",
    "            \n",
    "            # process FDI in fdi days\n",
    "            for day in range(len(fdi_day)):\n",
    "                  for i in range(fdi_day[day]*48, (fdi_day[day]+1)*48):\n",
    "                        \n",
    "                        # one day has 48 data, so every 48 will change a fdi mode\n",
    "                        if i%48 == 0:\n",
    "                            fdi_method = FDI.get_random_mode()\n",
    "                        \n",
    "                        origin_value = dataframe[\"Electricity\"].iloc[i]\n",
    "                        fdi_dataframe[i] = FDI.random_fdi(fdi_method, origin_value, dataframe[\"Electricity\"], i)\n",
    "\n",
    "            fdi_data[index][\"Electricity\"] = fdi_dataframe\n",
    "\n",
    "        final_data[\"normal\"] = normal_data\n",
    "        final_data[\"fdi\"] = fdi_data\n",
    "        final_data_group.append(final_data) \n",
    "\n",
    "        origin_data[\"normal\"] = normal_data\n",
    "        origin_data[\"fdi\"] = origin_fdi_data\n",
    "        origin_data_group.append(origin_data)\n",
    "\n",
    "    return final_data_group, origin_data_group"
   ]
  },
  {
   "cell_type": "code",
   "execution_count": null,
   "id": "marine-fairy",
   "metadata": {},
   "outputs": [],
   "source": [
    "FDI = FdiGenerator()\n",
    "final_data_group, origin_data_group = split_group(data_group, total_meter=TOTAL_METER, area_num=AREA_NUM, total_day=NUMBER_OF_DAYS, group_meter=METER_IN_RANGE, ntl_meter_ratio=0.1, ntl_day_ratio=0.5)"
   ]
  },
  {
   "cell_type": "code",
   "execution_count": null,
   "id": "public-entrance",
   "metadata": {},
   "outputs": [],
   "source": [
    "def plot_data(normal_data, fdi_data, title, label1, label2, plot_house=5, plot_hour=120, save=False):\n",
    "    #plotting the points  \n",
    "    plt.figure(dpi=150, figsize=(15,4))\n",
    "    if normal_data is not None:\n",
    "        count = 0\n",
    "    for i in range(len(normal_data)):\n",
    "        data = normal_data[i][\"Electricity\"]\n",
    "        count += 1\n",
    "        if count>plot_house:\n",
    "            break\n",
    "        plt.plot(HOURS_LIST[:plot_hour], data[:plot_hour], color='blue') \n",
    "\n",
    "    if fdi_data is not None:\n",
    "        count = 0\n",
    "    for i in range(len(fdi_data)):\n",
    "        data = fdi_data[i][\"Electricity\"]\n",
    "        count += 1\n",
    "        if count>plot_house:\n",
    "            break\n",
    "        plt.plot(HOURS_LIST[:plot_hour], data[:plot_hour], color='red')\n",
    "    \n",
    "    \n",
    "    blue_patch = mpatches.Patch(color='blue', label=label1)\n",
    "    red_patch = mpatches.Patch(color='red', label=label2)\n",
    "    plt.legend(handles=[blue_patch, red_patch])       \n",
    "        \n",
    "    # naming the x axis \n",
    "    plt.xlabel('Half Hours') \n",
    "    # naming the y axis \n",
    "    plt.ylabel('Electricity Consumption(W)') \n",
    "\n",
    "    # giving a title to my graph \n",
    "    plt.title(title) \n",
    "\n",
    "    # function to save the plot\n",
    "    if save == True:\n",
    "        save_fig(title)\n",
    "\n",
    "    # function to show the plot \n",
    "    plt.show()"
   ]
  },
  {
   "cell_type": "code",
   "execution_count": null,
   "id": "straight-savage",
   "metadata": {},
   "outputs": [],
   "source": [
    "for i in range(len(final_data_group)):\n",
    "    if i == 2: break\n",
    "    plot_data(origin_data_group[i][\"fdi\"], final_data_group[i][\"fdi\"], \"actual consumption of all consumers of group \" + str(i), \"normal data\", \"fdi data\", plot_house=1, plot_hour=NUMBER_OF_HALF_HOURS, save=False)"
   ]
  },
  {
   "cell_type": "markdown",
   "id": "unknown-postcard",
   "metadata": {},
   "source": [
    "## check NTL"
   ]
  },
  {
   "cell_type": "code",
   "execution_count": null,
   "id": "blessed-tournament",
   "metadata": {},
   "outputs": [],
   "source": [
    "# observe_meter_data_group = copy.deepcopy(origin_data_group) ## data without fdi\n",
    "# smart_meter_data_group = copy.deepcopy(final_data_group) ## data with fdi\n",
    "observe_meter_data_group = origin_data_group ## data without fdi\n",
    "smart_meter_data_group = final_data_group ## data with fdi"
   ]
  },
  {
   "cell_type": "code",
   "execution_count": null,
   "id": "extreme-proportion",
   "metadata": {},
   "outputs": [],
   "source": [
    "# calculate NTL loss vector for every day\n",
    "ntl_loss_data_group = []\n",
    "for observe_area, smart_area in zip(observe_meter_data_group, smart_meter_data_group): # iterate 10 area\n",
    "    ntl_loss_data = []\n",
    "    for observe_meter, smart_meter in zip(observe_area['fdi'], smart_area['fdi']): #iterate fdi meter in each area\n",
    "        \n",
    "        sub = observe_meter[[\"Electricity\"]] - smart_meter[[\"Electricity\"]]\n",
    "\n",
    "        ntl_loss_data = sub.to_numpy().reshape(NUMBER_OF_DAYS, 48) \n",
    "\n",
    "    ntl_loss_data_group.append(ntl_loss_data)\n",
    "ntl_loss_data_group = np.asarray(ntl_loss_data_group)\n",
    "ntl_loss_data_group.shape"
   ]
  },
  {
   "cell_type": "code",
   "execution_count": null,
   "id": "thrown-circumstances",
   "metadata": {},
   "outputs": [],
   "source": [
    "# make sure there is difference between the observe_meter_data_group and smart_meter_data_group\n",
    "plt.plot(observe_meter_data_group[0][\"fdi\"][0][\"Electricity\"].tolist())\n",
    "plt.plot(smart_meter_data_group[0][\"fdi\"][0][\"Electricity\"].tolist()) \n",
    "for j in range(1):\n",
    "    t = observe_meter_data_group[0][\"fdi\"][j][\"Electricity\"] - smart_meter_data_group[0][\"fdi\"][j][\"Electricity\"]\n",
    "    print(t.value_counts())"
   ]
  },
  {
   "cell_type": "code",
   "execution_count": null,
   "id": "sporting-updating",
   "metadata": {},
   "outputs": [],
   "source": [
    "# smart meter to csv\n",
    "smart_meter_list = []\n",
    "smart_meter_df = pd.DataFrame(columns=['MeterID', 'Day', 'FDI','Electricity'])\n",
    "pbar = tqdm(smart_meter_data_group) \n",
    "for area in pbar: # iterate 10 data groups\n",
    "    for meter in area['fdi']: # iterate every fdi meter in area \n",
    "        meter['FDI']='True'\n",
    "        smart_meter_list.append(meter.to_numpy())\n",
    "    for meter in area['normal']:\n",
    "        meter['FDI']='False'\n",
    "        smart_meter_list.append(meter.to_numpy())\n",
    "#             se = {'MeterID': meter_id, 'Day': meter_day,'FDI':True }\n",
    "#             v_value_list.append(se)\n",
    "\n",
    "# df = pd.DataFrame(np.array(smart_meter_list).reshape(-1, 6), columns=[\"MeterID\",\"Day\",\"Time\",\"Electricity\",\"Datetime\", \"FDI\"])\n",
    "# df.head()\n",
    "# df = df[[\"MeterID\",\"Day\",\"Time\",\"Electricity\",\"FDI\"]]\n",
    "# e = df.to_csv(index=False)\n",
    "# f = open('smart_meter.csv','w')\n",
    "# f.write(e) #Give your csv text here.\n",
    "# f.close()"
   ]
  },
  {
   "cell_type": "markdown",
   "id": "quarterly-middle",
   "metadata": {},
   "source": [
    "## k-mean index"
   ]
  },
  {
   "cell_type": "code",
   "execution_count": 52,
   "id": "linear-reserve",
   "metadata": {},
   "outputs": [
    {
     "name": "stdout",
     "output_type": "stream",
     "text": [
      "(4225, 25440)\n"
     ]
    }
   ],
   "source": [
    "X = []\n",
    "X_meter = []\n",
    "Y = []\n",
    "for i in range(10):\n",
    "    data = final_data_group[i]\n",
    "    for normal in data[\"normal\"]:\n",
    "        X.append(normal[\"Electricity\"].to_numpy())\n",
    "        X_meter.append(normal[\"MeterID\"].iloc[0])\n",
    "        Y.append([0])\n",
    "    for fdi in data[\"fdi\"]:\n",
    "        X.append(fdi[\"Electricity\"].to_numpy())\n",
    "        X_meter.append(normal[\"MeterID\"].iloc[0])\n",
    "        Y.append([1])\n",
    "X = np.array(X)\n",
    "X_meter = np.array(X_meter)\n",
    "Y = np.array(Y).reshape(-1)\n",
    "print(X.shape)"
   ]
  },
  {
   "cell_type": "markdown",
   "id": "cellular-scout",
   "metadata": {},
   "source": [
    "### silhouette index"
   ]
  },
  {
   "cell_type": "code",
   "execution_count": 288,
   "id": "animal-calcium",
   "metadata": {},
   "outputs": [
    {
     "data": {
      "application/vnd.jupyter.widget-view+json": {
       "model_id": "eaefaff8eb8c41629b810ec539427089",
       "version_major": 2,
       "version_minor": 0
      },
      "text/plain": [
       "HBox(children=(FloatProgress(value=0.0, max=28.0), HTML(value='')))"
      ]
     },
     "metadata": {},
     "output_type": "display_data"
    },
    {
     "name": "stdout",
     "output_type": "stream",
     "text": [
      "\n"
     ]
    },
    {
     "data": {
      "text/plain": [
       "[<matplotlib.lines.Line2D at 0x7f099b1b3bd0>]"
      ]
     },
     "execution_count": 288,
     "metadata": {},
     "output_type": "execute_result"
    },
    {
     "data": {
      "image/png": "[encoded data removed]",
      "text/plain": [
       "<Figure size 432x288 with 1 Axes>"
      ]
     },
     "metadata": {},
     "output_type": "display_data"
    }
   ],
   "source": [
    "# silhouette index\n",
    "silhouette_avg = []\n",
    "for i in tq.tqdm(range(2,30)):\n",
    "    kmeans_fit = KMeans(n_clusters = i).fit(X)\n",
    "    silhouette_avg.append(silhouette_score(X, kmeans_fit.labels_))\n",
    "plt.plot(range(2,30), silhouette_avg)"
   ]
  },
  {
   "cell_type": "code",
   "execution_count": 295,
   "id": "registered-postage",
   "metadata": {},
   "outputs": [
    {
     "name": "stdout",
     "output_type": "stream",
     "text": [
      "Saving figure Silhouette analysis in fdi data\n"
     ]
    },
    {
     "data": {
      "image/png": "[encoded data removed]",
      "text/plain": [
       "<Figure size 432x288 with 1 Axes>"
      ]
     },
     "metadata": {},
     "output_type": "display_data"
    }
   ],
   "source": [
    "plt.title(\"Silhouette analysis in fdi data\")\n",
    "plt.xlabel('n-clusters') \n",
    "# naming the y axis \n",
    "plt.ylabel('silhouette index') \n",
    "plt.plot(range(2,30), silhouette_avg)\n",
    "save_fig(\"Silhouette analysis in fdi data\")"
   ]
  },
  {
   "cell_type": "markdown",
   "id": "charged-virtue",
   "metadata": {},
   "source": [
    "# Feature extraction"
   ]
  },
  {
   "cell_type": "markdown",
   "id": "narrative-aviation",
   "metadata": {},
   "source": [
    "## V-value"
   ]
  },
  {
   "cell_type": "markdown",
   "id": "geographic-sapphire",
   "metadata": {},
   "source": [
    "### normalization"
   ]
  },
  {
   "cell_type": "code",
   "execution_count": 54,
   "id": "changed-solution",
   "metadata": {},
   "outputs": [
    {
     "data": {
      "text/plain": [
       "array([0.03036384, 0.0293429 , 0.02573139, ..., 0.02866607, 0.02366506,\n",
       "       0.04255409])"
      ]
     },
     "execution_count": 54,
     "metadata": {},
     "output_type": "execute_result"
    }
   ],
   "source": [
    "# the value of x is divided by its\n",
    "# maximum and scaled into a value between zero and one\n",
    "# normalized smart_meter_data_group by divide the max eletricity of the meter\n",
    "for area in smart_meter_data_group:\n",
    "    for meter in area['fdi']:\n",
    "        meter_numpy = meter['Electricity'].to_numpy()\n",
    "        meter['Electricity'] = meter_numpy / meter_numpy.max()\n",
    "    for meter in area['normal']:\n",
    "        meter_numpy = meter['Electricity'].to_numpy()\n",
    "        meter['Electricity'] = meter_numpy / meter_numpy.max()\n",
    "smart_meter_data_group[0]['fdi'][0]['Electricity'].to_numpy()"
   ]
  },
  {
   "cell_type": "code",
   "execution_count": 55,
   "id": "conditional-photographer",
   "metadata": {},
   "outputs": [
    {
     "name": "stdout",
     "output_type": "stream",
     "text": [
      "0.130453    174\n",
      "0.127911    166\n",
      "0.125370    161\n",
      "0.123676    158\n",
      "0.126217    155\n",
      "           ... \n",
      "0.119941      1\n",
      "0.572266      1\n",
      "0.117637      1\n",
      "0.350362      1\n",
      "0.107493      1\n",
      "Name: Electricity, Length: 8930, dtype: int64\n"
     ]
    },
    {
     "data": {
      "image/png": "[encoded data removed]",
      "text/plain": [
       "<Figure size 432x288 with 1 Axes>"
      ]
     },
     "metadata": {},
     "output_type": "display_data"
    }
   ],
   "source": [
    "# make sure there is difference between the observe_meter_data_group and smart_meter_data_group\n",
    "plt.plot(observe_meter_data_group[0][\"fdi\"][0][\"Electricity\"].tolist())\n",
    "plt.plot(smart_meter_data_group[0][\"fdi\"][0][\"Electricity\"].tolist()) \n",
    "for j in range(1):\n",
    "    t = observe_meter_data_group[0][\"fdi\"][j][\"Electricity\"] - smart_meter_data_group[0][\"fdi\"][j][\"Electricity\"]\n",
    "    print(t.value_counts())"
   ]
  },
  {
   "cell_type": "markdown",
   "id": "premier-prior",
   "metadata": {},
   "source": [
    "### calculate v-value"
   ]
  },
  {
   "cell_type": "code",
   "execution_count": 58,
   "id": "controversial-blake",
   "metadata": {},
   "outputs": [
    {
     "data": {
      "application/vnd.jupyter.widget-view+json": {
       "model_id": "696d23844cf049a0810f91d61614c52b",
       "version_major": 2,
       "version_minor": 0
      },
      "text/plain": [
       "  0%|          | 0/10 [00:00<?, ?it/s]"
      ]
     },
     "metadata": {},
     "output_type": "display_data"
    },
    {
     "name": "stdout",
     "output_type": "stream",
     "text": [
      "finish fdi\n",
      "finish normal\n",
      "finish fdi\n",
      "finish normal\n",
      "finish fdi\n",
      "finish normal\n",
      "finish fdi\n",
      "finish normal\n",
      "finish fdi\n",
      "finish normal\n",
      "finish fdi\n",
      "finish normal\n",
      "finish fdi\n",
      "finish normal\n",
      "finish fdi\n",
      "finish normal\n",
      "finish fdi\n",
      "finish normal\n",
      "finish fdi\n",
      "finish normal\n"
     ]
    }
   ],
   "source": [
    "CONDITION_FILTER = 28\n",
    "v_value_list = []\n",
    "v_value_df = pd.DataFrame(columns=['MeterID', 'Day', 'FDI', 'Tmax1', 'Cmax1', 'Tmax2', 'Cmax2', 'Tmin1', 'Cmin1'])\n",
    "pbar = tqdm(smart_meter_data_group) \n",
    "for area in pbar: # iterate 10 data groups\n",
    "    for meter in area['fdi']: # iterate every fdi meter in area \n",
    "        day_list = meter['Day'].reset_index()\n",
    "        for i in range(NUMBER_OF_DAYS): # iterate every day\n",
    "            meter_id = meter['MeterID'].max()\n",
    "            meter_day = day_list['Day'][i*48]\n",
    "            meter_numpy = meter['Electricity'].to_numpy()[i*48:(i+1)*48]\n",
    "\n",
    "            # 1. Cmax1 and T max1 are the maximum consumption before 2 p.m.\n",
    "            Tmax1 = meter_numpy[:CONDITION_FILTER].argmax()\n",
    "            \n",
    "            # 2. Cmax2 and T max2 are the maximum consumption after 2 p.m.\n",
    "            Tmax2 = meter_numpy[CONDITION_FILTER:].argmax() + CONDITION_FILTER\n",
    "            \n",
    "            # 3. Cmin1 and T min1 are the minimum consumption between T max1 and T max2 \n",
    "            Tmin1 = meter_numpy[Tmax1: Tmax2].argmin() + Tmax1\n",
    "            \n",
    "            se = {'MeterID': meter_id, 'Day': meter_day,'FDI': True, 'Tmax1': Tmax1, 'Tmax2': Tmax2, 'Tmin1': Tmin1, 'Cmax1': meter_numpy[Tmax1], 'Cmax2': meter_numpy[Tmax2], 'Cmin1': meter_numpy[Tmin1]}\n",
    "            v_value_list.append(se)\n",
    "    print('finish fdi')\n",
    "    for meter in area['normal']:\n",
    "        day_list = meter['Day'].reset_index()\n",
    "        for i in range(NUMBER_OF_DAYS): # iterate every day\n",
    "            meter_id = meter['MeterID'].max()\n",
    "            meter_day = day_list['Day'][i*48]\n",
    "            meter_numpy = meter['Electricity'].to_numpy()[i*48:(i+1)*48]\n",
    "#             print(meter_numpy)\n",
    "            # 1. Cmax1 and T max1 are the maximum consumption before 2 p.m.\n",
    "            Tmax1 = meter_numpy[:CONDITION_FILTER].argmax()\n",
    "            \n",
    "            # 2. Cmax2 and T max2 are the maximum consumption after 2 p.m.\n",
    "            Tmax2 = meter_numpy[CONDITION_FILTER:].argmax() + CONDITION_FILTER\n",
    "            \n",
    "            # 3. Cmin1 and T min1 are the minimum consumption between T max1 and T max2 \n",
    "            Tmin1 = meter_numpy[Tmax1: Tmax2].argmin() + Tmax1\n",
    "            \n",
    "            se = {'MeterID': meter_id, 'Day': meter_day,'FDI': False, 'Tmax1': Tmax1, 'Tmax2': Tmax2, 'Tmin1': Tmin1, 'Cmax1': meter_numpy[Tmax1], 'Cmax2': meter_numpy[Tmax2], 'Cmin1': meter_numpy[Tmin1]}\n",
    "            v_value_list.append(se)\n",
    "    print('finish normal')"
   ]
  },
  {
   "cell_type": "code",
   "execution_count": 59,
   "id": "unique-shade",
   "metadata": {},
   "outputs": [
    {
     "data": {
      "text/html": [
       "<div>\n",
       "<style scoped>\n",
       "    .dataframe tbody tr th:only-of-type {\n",
       "        vertical-align: middle;\n",
       "    }\n",
       "\n",
       "    .dataframe tbody tr th {\n",
       "        vertical-align: top;\n",
       "    }\n",
       "\n",
       "    .dataframe thead th {\n",
       "        text-align: right;\n",
       "    }\n",
       "</style>\n",
       "<table border=\"1\" class=\"dataframe\">\n",
       "  <thead>\n",
       "    <tr style=\"text-align: right;\">\n",
       "      <th></th>\n",
       "      <th>MeterID</th>\n",
       "      <th>Day</th>\n",
       "      <th>FDI</th>\n",
       "      <th>Tmax1</th>\n",
       "      <th>Tmax2</th>\n",
       "      <th>Tmin1</th>\n",
       "      <th>Cmax1</th>\n",
       "      <th>Cmax2</th>\n",
       "      <th>Cmin1</th>\n",
       "    </tr>\n",
       "  </thead>\n",
       "  <tbody>\n",
       "    <tr>\n",
       "      <th>0</th>\n",
       "      <td>5212</td>\n",
       "      <td>2010-12-31</td>\n",
       "      <td>True</td>\n",
       "      <td>12</td>\n",
       "      <td>30</td>\n",
       "      <td>15</td>\n",
       "      <td>0.046464</td>\n",
       "      <td>0.047532</td>\n",
       "      <td>0.013561</td>\n",
       "    </tr>\n",
       "    <tr>\n",
       "      <th>1</th>\n",
       "      <td>5212</td>\n",
       "      <td>2010-12-31</td>\n",
       "      <td>True</td>\n",
       "      <td>27</td>\n",
       "      <td>38</td>\n",
       "      <td>36</td>\n",
       "      <td>0.217125</td>\n",
       "      <td>0.231040</td>\n",
       "      <td>0.021254</td>\n",
       "    </tr>\n",
       "    <tr>\n",
       "      <th>2</th>\n",
       "      <td>5212</td>\n",
       "      <td>2010-12-31</td>\n",
       "      <td>True</td>\n",
       "      <td>26</td>\n",
       "      <td>42</td>\n",
       "      <td>34</td>\n",
       "      <td>0.184098</td>\n",
       "      <td>0.277676</td>\n",
       "      <td>0.021560</td>\n",
       "    </tr>\n",
       "    <tr>\n",
       "      <th>3</th>\n",
       "      <td>5212</td>\n",
       "      <td>2010-12-31</td>\n",
       "      <td>True</td>\n",
       "      <td>0</td>\n",
       "      <td>28</td>\n",
       "      <td>0</td>\n",
       "      <td>0.000000</td>\n",
       "      <td>0.000000</td>\n",
       "      <td>0.000000</td>\n",
       "    </tr>\n",
       "    <tr>\n",
       "      <th>4</th>\n",
       "      <td>5212</td>\n",
       "      <td>2010-12-31</td>\n",
       "      <td>True</td>\n",
       "      <td>0</td>\n",
       "      <td>39</td>\n",
       "      <td>19</td>\n",
       "      <td>0.082569</td>\n",
       "      <td>0.313303</td>\n",
       "      <td>0.020948</td>\n",
       "    </tr>\n",
       "  </tbody>\n",
       "</table>\n",
       "</div>"
      ],
      "text/plain": [
       "   MeterID         Day   FDI  Tmax1  Tmax2  Tmin1     Cmax1     Cmax2     Cmin1\n",
       "0     5212  2010-12-31  True     12     30     15  0.046464  0.047532  0.013561\n",
       "1     5212  2010-12-31  True     27     38     36  0.217125  0.231040  0.021254\n",
       "2     5212  2010-12-31  True     26     42     34  0.184098  0.277676  0.021560\n",
       "3     5212  2010-12-31  True      0     28      0  0.000000  0.000000  0.000000\n",
       "4     5212  2010-12-31  True      0     39     19  0.082569  0.313303  0.020948"
      ]
     },
     "execution_count": 59,
     "metadata": {},
     "output_type": "execute_result"
    }
   ],
   "source": [
    "df = pd.DataFrame(v_value_list)\n",
    "df.head()"
   ]
  },
  {
   "cell_type": "code",
   "execution_count": 63,
   "id": "valued-stream",
   "metadata": {},
   "outputs": [],
   "source": [
    "e = df.to_csv(index=False)\n",
    "f = open('v_value.csv','w')\n",
    "f.write(e) #Give your csv text here.\n",
    "## Python will convert \\n to os.linesep\n",
    "f.close()"
   ]
  },
  {
   "cell_type": "code",
   "execution_count": null,
   "id": "exciting-devil",
   "metadata": {},
   "outputs": [],
   "source": [
    "del meter_day\n",
    "del meter_id\n",
    "del meter_numpy\n",
    "del e\n",
    "del f\n",
    "del df\n",
    "gc.collect()"
   ]
  },
  {
   "cell_type": "markdown",
   "id": "based-jersey",
   "metadata": {},
   "source": [
    "### calculate distance"
   ]
  },
  {
   "cell_type": "code",
   "execution_count": 193,
   "id": "pharmaceutical-candle",
   "metadata": {},
   "outputs": [],
   "source": [
    "def dV(i,j):\n",
    "    return ( (i.Tmax1-j.Tmax1)**2 + (i.Cmax1-j.Cmax1)**2 )**0.5 + ( (i.Tmax2-j.Tmax2)**2 + (i.Cmax2-j.Cmax2)**2 )**0.5 + ( (i.Tmin1-j.Tmin1)**2 + (i.Cmin1-j.Cmin1)**2 )**0.5"
   ]
  },
  {
   "cell_type": "code",
   "execution_count": null,
   "id": "ceramic-maldives",
   "metadata": {},
   "outputs": [],
   "source": [
    "def calculate_distance(df):\n",
    "    vvalue_distance_matrix = []\n",
    "    for indexi, rowi in tq.tqdm(df.iterrows()):\n",
    "        i_j_distance_arr = []\n",
    "        for indexj, rowj in tq.tqdm(df.iterrows()):\n",
    "            if indexi > indexj:\n",
    "                i_j_distance_arr.append(vvalue_distance_matrix[indexj][indexi])\n",
    "                continue\n",
    "            i_j_distance_arr.append(dV(rowi, rowj))\n",
    "        vvalue_distance_matrix.append(i_j_distance_arr)\n",
    "    return vvalue_distance_matrix"
   ]
  },
  {
   "cell_type": "markdown",
   "id": "talented-sailing",
   "metadata": {},
   "source": [
    "## four time interval"
   ]
  },
  {
   "cell_type": "markdown",
   "id": "fallen-abuse",
   "metadata": {},
   "source": [
    "1) Time Period 1: 10.30 P.M.–6.30 A.M.—overnight period (45:14) 17  \n",
    "2) Time Period 2: 6.30–9.00 A.M.—breakfast period (14:18) 4  \n",
    "3) Time Period 3: 9.00 A.M.–3.30 P.M.—daytime period (18:31)  14\n",
    "4) Time Period 4: 3.30–10.30 P.M.—evening period.(31:45)  14"
   ]
  },
  {
   "cell_type": "code",
   "execution_count": null,
   "id": "insured-cycle",
   "metadata": {},
   "outputs": [],
   "source": [
    "df_list = []\n",
    "fourtime_df = pd.DataFrame(columns=['MeterID', 'Day', 'FDI', 'overnight', 'breakfast', 'daytime', 'evening'])\n",
    "pbar = tqdm(smart_meter_data_group) \n",
    "for area in pbar: # iterate 10 data groups\n",
    "    for meter in area['fdi']: # iterate every fdi meter in area \n",
    "        day_list = meter['Day'].reset_index()\n",
    "        for i in range(NUMBER_OF_DAYS): # iterate every day\n",
    "            meter_id = meter['MeterID'].max()\n",
    "            meter_day = day_list['Day'][i*48]\n",
    "            \n",
    "            if i == 0:\n",
    "                meter_numpy = meter['Electricity'].to_numpy()[44:48]\n",
    "                meter_numpy = np.append(meter_numpy, meter['Time'].to_numpy()[i*48:(i+1)*48-4])\n",
    "            else:\n",
    "                meter_numpy = meter['Electricity'].to_numpy()[i*48-4:(i+1)*48-4]\n",
    "            \n",
    "            overnight = np.average(meter_numpy[0:17])\n",
    "            breakfast = np.average(meter_numpy[17:21])\n",
    "            daytime = np.average(meter_numpy[21:35])\n",
    "            evening = np.average(meter_numpy[35:48])\n",
    "\n",
    "            se = {'MeterID': meter_id, 'Day': meter_day,'FDI': True, 'overnight': overnight, 'breakfast': breakfast, 'daytime': daytime, 'evening': evening}\n",
    "            df_list.append(se)\n",
    "            \n",
    "    for meter in area['normal']: # iterate every fdi meter in area \n",
    "        for i in range(NUMBER_OF_DAYS): # iterate every day\n",
    "            meter_id = meter['MeterID'].max()\n",
    "            meter_day = day_list['Day'][i*48]\n",
    "            \n",
    "            if i == 0:\n",
    "                meter_numpy = meter['Electricity'].to_numpy()[44:48]\n",
    "                meter_numpy = np.append(meter_numpy, meter['Time'].to_numpy()[i*48:(i+1)*48-4])\n",
    "            else:\n",
    "                meter_numpy = meter['Electricity'].to_numpy()[i*48-4:(i+1)*48-4]\n",
    "            \n",
    "            overnight = np.average(meter_numpy[0:17])\n",
    "            breakfast = np.average(meter_numpy[17:21])\n",
    "            daytime = np.average(meter_numpy[21:35])\n",
    "            evening = np.average(meter_numpy[35:48])\n",
    "\n",
    "            se = {'MeterID': meter_id, 'Day': meter_day,'FDI': False, 'overnight': overnight, 'breakfast': breakfast, 'daytime': daytime, 'evening': evening}\n",
    "            df_list.append(se)\n"
   ]
  },
  {
   "cell_type": "code",
   "execution_count": null,
   "id": "uniform-roulette",
   "metadata": {},
   "outputs": [],
   "source": []
  },
  {
   "cell_type": "code",
   "execution_count": 75,
   "id": "conventional-folks",
   "metadata": {},
   "outputs": [
    {
     "data": {
      "text/plain": [
       "(   MeterID         Day   FDI  overnight  breakfast    daytime    evening\n",
       " 0     1236  2009-07-15  True   5.380015   15.50000  24.500000  38.000000\n",
       " 1     1236  2009-07-16  True   0.084015    0.23875   0.201571   0.196692\n",
       " 2     1236  2009-07-17  True   0.135647    0.17500   0.231000   0.408409\n",
       " 3     1236  2009-07-18  True   0.083588    0.00000   0.000000   0.092168\n",
       " 4     1236  2009-07-19  True   0.029882    0.24775   0.295500   0.250308,\n",
       " (2239250, 7))"
      ]
     },
     "execution_count": 75,
     "metadata": {},
     "output_type": "execute_result"
    }
   ],
   "source": [
    "df = pd.DataFrame(df_list)\n",
    "df.head(), df.shape\n"
   ]
  },
  {
   "cell_type": "code",
   "execution_count": 67,
   "id": "pressing-rebecca",
   "metadata": {},
   "outputs": [],
   "source": [
    "e = df.to_csv(index=False)\n",
    "f = open('four_time.csv','w')\n",
    "f.write(e) #Give your csv text here.\n",
    "f.close()"
   ]
  },
  {
   "cell_type": "code",
   "execution_count": 34,
   "id": "controversial-ribbon",
   "metadata": {},
   "outputs": [
    {
     "data": {
      "text/plain": [
       "(2239250, 7)"
      ]
     },
     "execution_count": 34,
     "metadata": {},
     "output_type": "execute_result"
    }
   ],
   "source": [
    "temp = pd.read_csv('four_time.csv')\n",
    "temp.shape"
   ]
  },
  {
   "cell_type": "markdown",
   "id": "continent-pollution",
   "metadata": {},
   "source": [
    "## TS barycenter"
   ]
  },
  {
   "cell_type": "code",
   "execution_count": 55,
   "id": "lovely-shame",
   "metadata": {},
   "outputs": [],
   "source": [
    "def km_cluster(train_data, cluster_num, method=\"EU\"):\n",
    "    if method == \"EU\":\n",
    "        eu_km = TimeSeriesKMeans(n_clusters=cluster_num, verbose=False, random_state=42)\n",
    "        y_pred = eu_km.fit_predict(train_data)\n",
    "        result = eu_km\n",
    "\n",
    "    elif method == \"DBA\":\n",
    "        dba_km = TimeSeriesKMeans(n_clusters=cluster_num,\n",
    "                              n_init=2,\n",
    "                              metric=\"dtw\",\n",
    "                              verbose=False,\n",
    "                              max_iter_barycenter=10,\n",
    "                              random_state=42)\n",
    "\n",
    "        y_pred = dba_km.fit_predict(train_data)\n",
    "        result = dba_km\n",
    "\n",
    "    \n",
    "    elif method == \"Soft-DTW\":\n",
    "        sdtw_km = TimeSeriesKMeans(n_clusters=cluster_num,\n",
    "                           metric=\"softdtw\",\n",
    "                           metric_params={\"gamma\": .01},\n",
    "                           verbose=True  ,\n",
    "                           random_state=42,\n",
    "                            n_jobs=-1)\n",
    "        y_pred = sdtw_km.fit_predict(train_data)\n",
    "        result = sdtw_km\n",
    "        \n",
    "    plt.figure(dpi=80, figsize=(15,4))\n",
    "    for yi in range(cluster_num):\n",
    "        plt.subplot(2, 3, yi+1)\n",
    "        for xx in train_data[y_pred == yi]:\n",
    "            plt.plot(xx.ravel(), \"k-\", alpha=.2)\n",
    "            if method == \"EU\":\n",
    "                plt.plot(eu_km.cluster_centers_[yi].ravel(), \"r-\")\n",
    "            elif method == \"DBA\":\n",
    "                plt.plot(dba_km.cluster_centers_[yi].ravel(), \"r-\")\n",
    "            elif method == \"Soft-DTW\":\n",
    "                plt.plot(sdtw_km.cluster_centers_[yi].ravel(), \"r-\")\n",
    "                \n",
    "        plt.xlim(0, train_data.shape[0])\n",
    "    #     plt.ylim(-4, 4)\n",
    "        plt.text(0.55, 0.85,'Cluster %d' % (yi + 1),\n",
    "                 transform=plt.gca().transAxes)\n",
    "        if yi == 1:\n",
    "            plt.title(method+\"$k$-means\")\n",
    "    plt.show()\n",
    "            \n",
    "    return y_pred, result"
   ]
  },
  {
   "cell_type": "code",
   "execution_count": 66,
   "id": "thermal-dinner",
   "metadata": {},
   "outputs": [],
   "source": [
    "SDTW_result = {}"
   ]
  },
  {
   "cell_type": "code",
   "execution_count": null,
   "id": "corporate-indianapolis",
   "metadata": {
    "collapsed": true,
    "jupyter": {
     "outputs_hidden": true
    }
   },
   "outputs": [
    {
     "data": {
      "application/vnd.jupyter.widget-view+json": {
       "model_id": "d415b69edaf94ab19dd1f14e8eb3a141",
       "version_major": 2,
       "version_minor": 0
      },
      "text/plain": [
       "  0%|          | 0/10 [00:00<?, ?it/s]"
      ]
     },
     "metadata": {},
     "output_type": "display_data"
    },
    {
     "name": "stdout",
     "output_type": "stream",
     "text": [
      "(422, 530, 48)\n",
      "3604784848.653 --> 241683077.054 --> 241040252.103 --> 240506424.004 --> 240170097.710 --> 240045752.870 --> 239957791.292 --> 239897356.482 --> 239864509.802 --> 239766186.517 --> 239709888.716 --> 239575204.997 --> 239451289.359 --> 239374330.895 --> 239292642.283 --> 239234719.378 --> 239192235.710 --> 239135621.008 --> 239093931.852 --> 239058698.869 --> 239029354.381 --> 239006219.947 --> 238991293.702 --> 238984570.629 --> 238995050.448 --> 238986015.149 --> 238987298.747 --> 238979389.027 --> 238980864.469 --> 238974759.950 --> 238978535.242 --> 238965559.774 --> 238960327.139 --> 238953200.649 --> 238950705.126 --> 238942208.800 --> 238937400.764 --> 238932414.472 --> 238929790.339 --> 238926071.883 --> 238925515.304 --> 238922994.835 --> 238923517.990 --> 238919381.608 --> 238916178.883 --> 238911751.367 --> 238911885.164 --> 238906029.470 --> 238905874.746 --> 238903502.977 --> \n"
     ]
    },
    {
     "data": {
      "image/png": "[encoded data removed]",
      "text/plain": [
       "<Figure size 1200x320 with 1 Axes>"
      ]
     },
     "metadata": {},
     "output_type": "display_data"
    },
    {
     "name": "stdout",
     "output_type": "stream",
     "text": [
      "(422, 530, 48)\n",
      "751400401.905 --> 115536255.736 --> 115426578.730 --> 115401778.974 --> 115404438.049 --> 115410267.309 --> 115406696.527 --> 115354092.458 --> 115360950.905 --> 115354316.249 --> 115359278.779 --> 115359438.505 --> 115356643.037 --> 115356921.593 --> 115355692.353 --> 115354107.011 --> 115345220.790 --> 115347546.441 --> 115343221.915 --> 115346055.812 --> 115337485.719 --> 115345785.840 --> 115336562.654 --> 115338581.566 --> 115327959.241 --> 115328016.996 --> 115323630.800 --> 115324466.143 --> 115322296.372 --> 115322685.029 --> 115321306.868 --> 115321588.169 --> 115320178.004 --> 115320553.540 --> 115319752.091 --> 115320458.272 --> 115318899.186 --> 115317126.317 --> 115321643.262 --> 115317049.953 --> 115323062.784 --> 115313720.257 --> 115311997.539 --> 115307666.670 --> 115304526.775 --> 115299255.305 --> 115299363.876 --> 115294760.034 --> 115294577.409 --> 115285898.956 --> \n"
     ]
    },
    {
     "data": {
      "image/png": "[encoded data removed]",
      "text/plain": [
       "<Figure size 1200x320 with 1 Axes>"
      ]
     },
     "metadata": {},
     "output_type": "display_data"
    },
    {
     "name": "stdout",
     "output_type": "stream",
     "text": [
      "(422, 530, 48)\n",
      "332120425.990 --> 123512662.163 --> 123413958.254 --> 123332663.922 --> 123379302.138 --> 123317367.266 --> 123327231.266 --> 123301635.157 --> 123313997.434 --> 123280921.724 --> 123291496.294 --> 123273537.690 --> 123284986.683 --> 123270442.588 --> 123273085.966 --> 123263701.495 --> 123261876.997 --> 123194701.645 --> 123222362.363 --> 123186847.815 --> 123189849.964 --> 123179620.203 --> 123182628.859 --> 123176981.002 --> 123182139.209 --> 123176114.987 --> 123178684.942 --> 123172308.260 --> 123175093.976 --> 123171197.317 --> 123175086.333 --> 123171178.543 --> 123178283.581 --> 123173212.587 --> 123177740.952 --> 123175575.707 --> 123178251.171 --> 123176492.775 --> 123177732.396 --> 123175786.209 --> 123177532.585 --> 123175851.195 --> 123177653.087 --> 123175951.915 --> 123177577.659 --> 123173236.068 --> 123173513.084 --> 123171341.766 --> 123172269.764 --> 123170553.540 --> \n"
     ]
    },
    {
     "data": {
      "image/png": "[encoded data removed]",
      "text/plain": [
       "<Figure size 1200x320 with 1 Axes>"
      ]
     },
     "metadata": {},
     "output_type": "display_data"
    },
    {
     "name": "stdout",
     "output_type": "stream",
     "text": [
      "(422, 530, 48)\n",
      "304587135.279 --> 128481816.987 --> 128345691.634 --> 128303260.354 --> 128256872.674 --> 128236578.747 --> 128220749.736 --> 128202679.557 --> 128161930.100 --> 128162024.828 --> 128129729.585 --> 128121954.585 --> 128069975.776 --> 128074716.515 --> 128056842.168 --> 128051134.715 --> 128040768.305 --> 128044449.261 --> 128040760.828 --> 128041953.951 --> 128036929.878 --> 128037849.987 --> 128035299.660 --> 128035110.779 --> 128038057.319 --> 128034649.651 --> 128033158.646 --> 128042743.257 --> 128043869.562 --> 128042784.268 --> 128042565.735 --> 128044822.040 --> 128044830.124 --> 128043892.882 --> 128043351.775 --> 128042876.114 --> 128043416.266 --> 128042262.887 --> 128039044.004 --> 128036792.866 --> 128035928.913 --> 128033139.305 --> 128027671.009 --> 128023064.617 --> 128008275.929 --> 128003255.361 --> 128003519.089 --> 128002221.810 --> 127999731.967 --> 127996758.471 --> \n"
     ]
    },
    {
     "data": {
      "image/png": "[encoded data removed]",
      "text/plain": [
       "<Figure size 1200x320 with 1 Axes>"
      ]
     },
     "metadata": {},
     "output_type": "display_data"
    },
    {
     "name": "stdout",
     "output_type": "stream",
     "text": [
      "(422, 530, 48)\n",
      "343664900.264 --> 122579124.022 --> 122480122.676 --> 122440506.547 --> 122409239.230 --> 122380630.004 --> 122377098.057 --> 122338629.622 --> 122267854.778 --> 122289092.372 --> 122250721.667 --> 122251077.778 --> 122233707.371 --> 122234181.200 --> 122222717.322 --> 122217229.068 --> 122198290.918 --> 122191441.019 --> 122179574.910 --> 122172683.364 --> 122167228.273 --> 122163807.868 --> 122158891.084 --> 122156457.191 --> 122154481.211 --> 122154808.663 --> 122151415.963 --> 122150080.791 --> 122147753.899 --> 122149215.485 --> 122147351.032 --> 122148062.284 --> 122146480.759 --> 122141210.854 --> 122134083.113 --> 122132881.954 --> 122129989.735 --> 122130016.374 --> 122128464.184 --> 122128595.489 --> 122126842.197 --> 122126584.970 --> 122124753.130 --> 122124485.771 --> 122123658.808 --> 122124083.785 --> 122122750.396 --> 122123129.434 --> 122122260.410 --> 122122851.070 --> \n"
     ]
    },
    {
     "data": {
      "image/png": "[encoded data removed]",
      "text/plain": [
       "<Figure size 1200x320 with 1 Axes>"
      ]
     },
     "metadata": {},
     "output_type": "display_data"
    },
    {
     "name": "stdout",
     "output_type": "stream",
     "text": [
      "(422, 530, 48)\n",
      "687091503.435 --> 119368431.831 --> 119222098.443 --> 119143929.994 --> 119113415.777 --> 119079698.270 --> 119085172.351 --> 119046885.402 --> 119051669.393 --> 119025593.453 --> 118975558.077 --> 118932306.496 --> 118744196.112 --> 118812345.727 --> 118740779.390 --> 118749801.660 --> 118701494.950 --> 118582053.971 --> 118550406.527 --> 118575663.985 --> 118545444.481 --> 118557298.624 --> 118534040.433 --> 118544949.191 --> 118469776.484 --> 118505223.084 --> 118452515.182 --> 118446611.847 --> 118439354.472 --> 118436513.125 --> 118429821.354 --> 118434865.706 --> 118428771.987 --> 118419718.222 --> 118409446.046 --> 118381114.842 --> 118380842.336 --> 118362715.168 --> 118363924.432 --> 118358124.177 --> 118357412.288 --> 118353566.784 --> 118351530.185 --> 118351439.182 --> 118345312.132 --> 118338360.368 --> 118333726.974 --> 118331719.746 --> 118327933.384 --> 118328951.401 --> \n"
     ]
    },
    {
     "data": {
      "image/png": "[encoded data removed]",
      "text/plain": [
       "<Figure size 1200x320 with 1 Axes>"
      ]
     },
     "metadata": {},
     "output_type": "display_data"
    },
    {
     "name": "stdout",
     "output_type": "stream",
     "text": [
      "(422, 530, 48)\n",
      "317609778.604 --> 132366231.954 --> 132141131.469 --> 132122058.263 --> 132089076.924 --> 132118963.320 --> 132078884.140 --> 131999540.483 --> 131948279.924 --> 131927938.338 --> 131899251.234 --> 131905892.783 --> 131897377.855 --> 131897693.554 --> 131891013.259 --> 131894295.126 --> 131880424.158 --> 131882197.616 --> 131880675.155 --> 131887659.500 --> 131884138.900 --> 131888949.162 --> 131882255.042 --> 131884260.829 --> 131886383.868 --> 131872992.272 --> 131876833.160 --> 131868234.051 --> 131876180.584 --> 131866924.309 --> 131873169.936 --> 131864675.565 --> 131860724.142 --> 131860185.666 --> 131856379.167 --> 131847652.672 --> 131839415.923 --> 131835998.926 --> 131828899.451 --> 131836877.367 --> 131821339.987 --> 131828099.143 --> 131807714.473 --> 131802502.425 --> 131776869.883 --> 131774093.770 --> 131771379.981 --> 131772499.797 --> 131770959.317 --> 131769998.422 --> \n"
     ]
    },
    {
     "data": {
      "image/png": "[encoded data removed]",
      "text/plain": [
       "<Figure size 1200x320 with 1 Axes>"
      ]
     },
     "metadata": {},
     "output_type": "display_data"
    },
    {
     "name": "stdout",
     "output_type": "stream",
     "text": [
      "(422, 530, 48)\n",
      "290338411.516 --> 116796484.780 --> 116622984.910 --> 116513536.776 --> 116399577.034 --> 116356790.500 --> 116279670.276 --> 116195545.237 --> 116135604.643 --> 116083169.765 --> 116019319.365 --> 115963188.754 --> 115911753.815 --> 115876164.628 --> 115848076.861 --> 115820671.636 --> 115785131.704 --> 115748650.736 --> 115721615.106 --> 115694441.263 --> 115683665.248 --> 115654088.536 --> 115619315.002 --> 115587005.258 --> 115555888.249 --> 115548906.201 --> 115539299.215 --> 115533178.772 --> 115527866.161 --> 115519782.366 --> 115516202.910 --> 115507345.743 --> 115497262.754 --> 115491849.389 --> 115485720.810 --> 115478400.056 --> 115460696.080 --> 115446328.167 --> 115441180.041 --> 115415137.874 --> 115390618.736 --> 115366227.876 --> 115363730.646 --> 115359331.457 --> 115355377.181 --> 115347281.565 --> 115344273.941 --> 115337284.825 --> 115333576.490 --> 115328873.171 --> \n"
     ]
    },
    {
     "data": {
      "image/png": "[encoded data removed]",
      "text/plain": [
       "<Figure size 1200x320 with 1 Axes>"
      ]
     },
     "metadata": {},
     "output_type": "display_data"
    },
    {
     "name": "stdout",
     "output_type": "stream",
     "text": [
      "(422, 530, 48)\n",
      "240136495.730 --> 111905380.635 --> 111852936.544 --> 111843488.093 --> 111819711.408 --> 111822888.905 --> 111784976.564 --> 111772650.636 --> 111798760.482 --> 111780667.404 --> 111763100.392 --> 111738249.868 --> 111725924.731 --> 111729908.799 --> 111720609.963 --> 111721244.891 --> 111714237.032 --> 111713543.156 --> 111707713.580 --> 111707902.723 --> 111701942.082 --> 111703501.342 --> 111698880.825 --> 111700686.644 --> 111697363.728 --> 111698841.489 --> 111695027.834 --> 111697480.403 --> 111694062.316 --> 111696177.494 --> 111693549.013 --> 111696450.542 --> 111698115.169 --> 111702744.867 --> 111700845.541 --> 111702437.761 --> 111700617.650 --> 111702730.545 --> 111701752.892 --> 111703280.337 --> 111702075.444 --> 111704192.196 --> 111702369.564 --> 111702328.522 --> 111701743.584 --> 111702352.596 --> 111701801.926 --> 111701348.253 --> 111700867.456 --> 111701233.594 --> \n"
     ]
    },
    {
     "data": {
      "image/png": "[encoded data removed]",
      "text/plain": [
       "<Figure size 1200x320 with 1 Axes>"
      ]
     },
     "metadata": {},
     "output_type": "display_data"
    },
    {
     "name": "stdout",
     "output_type": "stream",
     "text": [
      "(427, 530, 48)\n",
      "192728865.400 --> 97239989.502 --> 97196784.716 --> 97201248.624 --> 97206754.600 --> 97162701.666 --> 97184015.291 --> 97144131.507 --> 97162636.008 --> 97123948.174 --> 97055267.368 --> 97071004.937 --> 97031140.254 --> 97026844.656 --> 97006440.902 --> 96999548.903 --> 96993384.243 --> 96989506.707 --> 96986992.797 --> 96982513.179 --> 96981922.552 --> 96975380.462 --> 96974173.413 --> 96970354.969 --> 96971896.202 --> 96968065.783 --> 96964544.990 --> 96967120.349 --> 96966619.397 --> 96970930.933 --> 96959262.219 --> 96964171.125 --> 96963573.995 --> 96961571.102 --> 96966950.513 --> 96965540.717 --> 96976391.010 --> 96969550.247 --> 96972401.406 --> 96965922.871 --> 96969574.657 --> 96963781.810 --> 96966785.108 --> 96960104.480 --> 96962834.895 --> "
     ]
    }
   ],
   "source": [
    "method = \"Soft-DTW\"\n",
    "\n",
    "\n",
    "# barycenter_df = pd.DataFrame(columns=['MeterID', 'Day', 'FDI', 'overnight', 'breakfast', 'daytime', 'evening'])\n",
    "pbar = tqdm(smart_meter_data_group)\n",
    "count = 1\n",
    "for area in pbar: # iterate 10 data groups\n",
    "    X = []\n",
    "    Y = []\n",
    "    for meter in area['fdi']: # iterate every fdi meter in area \n",
    "        X.append(meter[\"Electricity\"].to_numpy())\n",
    "        Y.append((meter[\"MeterID\"].max(), 'True'))\n",
    "    for meter in area['normal']: # iterate every fdi meter in area \n",
    "        X.append(meter[\"Electricity\"].to_numpy())\n",
    "        Y.append((meter[\"MeterID\"].max(), 'False'))\n",
    "    X = np.array(X)\n",
    "    Y = np.array(Y)\n",
    "    X = X.reshape(-1, 530, 48 )\n",
    "    print(X.shape)\n",
    "    y_pred, result = km_cluster(X, 1, method)\n",
    "    SDTW_result[count] = (y_pred, result, result.cluster_centers_, Y)\n",
    "    count = count + 1"
   ]
  },
  {
   "cell_type": "code",
   "execution_count": null,
   "id": "nasty-controversy",
   "metadata": {},
   "outputs": [],
   "source": [
    "#save model\n",
    "one_cluster_sdtw_barycenter = []\n",
    "for i in range(len(SDTW_result)):\n",
    "    i = i + 1\n",
    "    one_cluster_sdtw_barycenter.append(SDTW_result[i][2])\n",
    "df = pd.DataFrame(one_cluster_sdtw_barycenter[0].reshape(-1, 24))\n",
    "df.head(), df.shape\n",
    "e = df.to_csv(index=False)\n",
    "f = open('one_cluster_softdtw_barycenter_24hours.csv','w')\n",
    "f.write(e) #Give your csv text here.\n",
    "f.close()"
   ]
  },
  {
   "cell_type": "markdown",
   "id": "vanilla-bowling",
   "metadata": {},
   "source": [
    "### read smart meter"
   ]
  },
  {
   "cell_type": "code",
   "execution_count": 188,
   "id": "italic-alarm",
   "metadata": {},
   "outputs": [
    {
     "name": "stdout",
     "output_type": "stream",
     "text": [
      "(107484000, 5)\n",
      "(4225, 530, 48, 5)\n",
      "(48, 5)\n"
     ]
    }
   ],
   "source": [
    "smart_meter = pd.read_csv('smart_meter.csv')\n",
    "print(smart_meter.shape)\n",
    "n = np.array(smart_meter)\n",
    "nr = n.reshape(-1, 530, 48, 5)\n",
    "print(nr.shape)\n",
    "data_group = {}\n",
    "for i in range(10):\n",
    "    if i == 9:\n",
    "        data_group[i] = nr[4225-427: 4225]\n",
    "    else:\n",
    "        data_group[i] = nr[i*422:(i+1)*422]\n",
    "print(data_group[0][0][0].shape)"
   ]
  },
  {
   "cell_type": "markdown",
   "id": "classical-disposal",
   "metadata": {},
   "source": [
    "###  barycenter euclidean 48"
   ]
  },
  {
   "cell_type": "code",
   "execution_count": 134,
   "id": "derived-course",
   "metadata": {
    "collapsed": true,
    "jupyter": {
     "outputs_hidden": true
    }
   },
   "outputs": [
    {
     "data": {
      "application/vnd.jupyter.widget-view+json": {
       "model_id": "043dcea9ecb0405a9107ad77c7e5c31d",
       "version_major": 2,
       "version_minor": 0
      },
      "text/plain": [
       "  0%|          | 0/10 [00:00<?, ?it/s]"
      ]
     },
     "metadata": {},
     "output_type": "display_data"
    },
    {
     "name": "stdout",
     "output_type": "stream",
     "text": [
      "start 1\n",
      "(422, 25440)\n",
      "(422, 530, 48)\n",
      "start 2\n",
      "(422, 25440)\n",
      "(422, 530, 48)\n",
      "start 3\n",
      "(422, 25440)\n",
      "(422, 530, 48)\n",
      "start 4\n",
      "(422, 25440)\n",
      "(422, 530, 48)\n",
      "start 5\n",
      "(422, 25440)\n",
      "(422, 530, 48)\n",
      "start 6\n",
      "(422, 25440)\n",
      "(422, 530, 48)\n",
      "start 7\n",
      "(422, 25440)\n",
      "(422, 530, 48)\n",
      "start 8\n",
      "(422, 25440)\n",
      "(422, 530, 48)\n",
      "start 9\n",
      "(422, 25440)\n",
      "(422, 530, 48)\n",
      "start 10\n",
      "(427, 25440)\n",
      "(427, 530, 48)\n"
     ]
    }
   ],
   "source": [
    "euclidean_barycenter_result = {}\n",
    "pbar = tqdm(smart_meter_data_group)\n",
    "count = 1\n",
    "for area in pbar: # iterate 10 data groups\n",
    "    print(f'start {count}')\n",
    "    X = []\n",
    "    Y = []\n",
    "    for meter in area['fdi']: # iterate every fdi meter in area \n",
    "        X.append(meter[\"Electricity\"].to_numpy())\n",
    "        Y.append((meter[\"MeterID\"].max(), 'True'))\n",
    "    for meter in area['normal']: # iterate every fdi meter in area \n",
    "        X.append(meter[\"Electricity\"].to_numpy())\n",
    "        Y.append((meter[\"MeterID\"].max(), 'False'))\n",
    "    X = np.array(X)\n",
    "    print(X.shape)\n",
    "    Y = np.array(Y)\n",
    "    X = X.reshape(-1, 530, 48 )\n",
    "    print(X.shape)\n",
    "    result = euclidean_barycenter(X)\n",
    "    euclidean_barycenter_result[count] = (result, Y)\n",
    "    count = count + 1\n",
    "    \n",
    "one_cluster_euclidean_barycenter_48 = []\n",
    "for i in range(len(euclidean_barycenter_result)):\n",
    "    i = i + 1\n",
    "    one_cluster_euclidean_barycenter_48.append(euclidean_barycenter_result[i][0])"
   ]
  },
  {
   "cell_type": "code",
   "execution_count": 164,
   "id": "engaged-sunday",
   "metadata": {},
   "outputs": [
    {
     "data": {
      "text/plain": [
       "(10, 25440)"
      ]
     },
     "execution_count": 164,
     "metadata": {},
     "output_type": "execute_result"
    }
   ],
   "source": [
    "df = pd.DataFrame(np.array(one_cluster_euclidean_barycenter_48).reshape(10, 530*48))\n",
    "df.shape"
   ]
  },
  {
   "cell_type": "code",
   "execution_count": 153,
   "id": "fuzzy-workplace",
   "metadata": {},
   "outputs": [],
   "source": [
    "e = df.to_csv(index=False)\n",
    "f = open('one_cluster_euclidean_barycenter_48hours.csv','w')\n",
    "f.write(e) #Give your csv text here.\n",
    "f.close()"
   ]
  },
  {
   "cell_type": "code",
   "execution_count": 150,
   "id": "mounted-arrest",
   "metadata": {},
   "outputs": [
    {
     "data": {
      "image/png": "[encoded data removed]",
      "text/plain": [
       "<Figure size 432x288 with 1 Axes>"
      ]
     },
     "metadata": {},
     "output_type": "display_data"
    }
   ],
   "source": [
    "for i in one_cluster_euclidean_barycenter_48[1]:\n",
    "    plt.plot(i)"
   ]
  },
  {
   "cell_type": "code",
   "execution_count": 211,
   "id": "about-basin",
   "metadata": {},
   "outputs": [],
   "source": [
    "from concurrent.futures import ProcessPoolExecutor, ThreadPoolExecutor\n",
    "from time import time, sleep\n",
    "global center\n",
    "offset = 1  # guessing what your offset variable is valued at.\n",
    "\n",
    "\n",
    "def calc_stuff(x,y):   # these are examples.\n",
    "    meter_euclid = np.linalg.norm(x-y)\n",
    "    meter_dtw = dtw(x,y)\n",
    "    meter_sdtw = soft_dtw(x,y)\n",
    "    return meter_euclid, meter_dtw, meter_sdtw\n",
    "\n",
    "def procedure(j):                 # just factoring out the\n",
    "    df_list = []\n",
    "    d = j.reshape(-1, 5)\n",
    "    meter = pd.DataFrame(d, columns=[\"MeterID\",\"Day\",\"Time\",\"Electricity\",\"FDI\"])\n",
    "    day_list = meter['Day'].reset_index()\n",
    "    for i in range(530): # \n",
    "        \n",
    "        meter_id = meter[\"MeterID\"].loc[0]\n",
    "        meter_day = day_list['Day'][i*48]\n",
    "        meter_fdi = meter[\"FDI\"].loc[0]\n",
    "        x = meter[\"Electricity\"].to_numpy()[i*48:(i+1)*48]\n",
    "        y = center[i*48:(i+1)*48]\n",
    "#         if i == 529:\n",
    "#             print(f'meter_id : {meter_id} , x.shape :{ x.shape}, y.shape: {y.shape},{i*48,(i+1)*48}')\n",
    "        meter_euclid, meter_dtw, meter_sdtw = calc_stuff(x,y)\n",
    "        se = {'MeterID': meter_id, 'Day': meter_day,'FDI': meter_fdi, \"meter_euclid\": meter_euclid, \"meter_dtw\":meter_dtw, \"meter_sdtw\":meter_sdtw}\n",
    "        df_list.append(se)\n",
    "    return df_list\n",
    "\n",
    "def main(PoolExecutor, area_num): # take ProcessPoolExecutor or ThreadPoolExecutor\n",
    "    \n",
    "    inputs = data_group[area_num] # data_group[0] 有422個\n",
    "    output1 = list()\n",
    "\n",
    "    start = time()           # let's see how long this takes\n",
    "    \n",
    "    with PoolExecutor() as executor:\n",
    "        for out1 in executor.map(procedure, inputs):\n",
    "            # put results into correct output list:\n",
    "            output1.append(out1)\n",
    "            \n",
    "    finish = time()\n",
    "    print(f'PoolExecutor: {PoolExecutor}')\n",
    "    print(f'time : {(finish-start)}')\n",
    "    return output1"
   ]
  },
  {
   "cell_type": "code",
   "execution_count": 194,
   "id": "prescription-shield",
   "metadata": {},
   "outputs": [
    {
     "data": {
      "text/plain": [
       "(10, 25440)"
      ]
     },
     "execution_count": 194,
     "metadata": {},
     "output_type": "execute_result"
    }
   ],
   "source": [
    "center_euclid_48 = pd.read_csv('one_cluster_euclidean_barycenter_48hours.csv')\n",
    "center_euclid_48.shape"
   ]
  },
  {
   "cell_type": "code",
   "execution_count": 212,
   "id": "clinical-draft",
   "metadata": {
    "collapsed": true,
    "jupyter": {
     "outputs_hidden": true
    }
   },
   "outputs": [
    {
     "name": "stdout",
     "output_type": "stream",
     "text": [
      "start area 0\n",
      "PoolExecutor: <class 'concurrent.futures.process.ProcessPoolExecutor'>\n",
      "time : 24.098092794418335\n",
      "start area 1\n",
      "PoolExecutor: <class 'concurrent.futures.process.ProcessPoolExecutor'>\n",
      "time : 24.07256770133972\n",
      "start area 2\n",
      "PoolExecutor: <class 'concurrent.futures.process.ProcessPoolExecutor'>\n",
      "time : 24.06574845314026\n",
      "start area 3\n",
      "PoolExecutor: <class 'concurrent.futures.process.ProcessPoolExecutor'>\n",
      "time : 24.152065753936768\n",
      "start area 4\n",
      "PoolExecutor: <class 'concurrent.futures.process.ProcessPoolExecutor'>\n",
      "time : 24.30057382583618\n",
      "start area 5\n",
      "PoolExecutor: <class 'concurrent.futures.process.ProcessPoolExecutor'>\n",
      "time : 24.10377788543701\n",
      "start area 6\n",
      "PoolExecutor: <class 'concurrent.futures.process.ProcessPoolExecutor'>\n",
      "time : 24.068072080612183\n",
      "start area 7\n",
      "PoolExecutor: <class 'concurrent.futures.process.ProcessPoolExecutor'>\n",
      "time : 24.27300500869751\n",
      "start area 8\n",
      "PoolExecutor: <class 'concurrent.futures.process.ProcessPoolExecutor'>\n",
      "time : 24.257030248641968\n",
      "start area 9\n",
      "PoolExecutor: <class 'concurrent.futures.process.ProcessPoolExecutor'>\n",
      "time : 24.51951813697815\n"
     ]
    }
   ],
   "source": [
    "euclid_day_score_list = []\n",
    "for num in range(10):\n",
    "    print(f'start area {num}')\n",
    "    center = center_euclid_48.loc[num].to_numpy()\n",
    "    sdtwa = main(ProcessPoolExecutor, num)\n",
    "    euclid_day_score_list.append(sdtwa)"
   ]
  },
  {
   "cell_type": "code",
   "execution_count": 214,
   "id": "billion-pasta",
   "metadata": {},
   "outputs": [],
   "source": [
    "score_list = []\n",
    "area_count = 0\n",
    "meter_count = 0\n",
    "day_count = 0\n",
    "\n",
    "for index, area in enumerate(euclid_day_score_list): # area=10\n",
    "    area_count += 1\n",
    "    for meter in area: #meter=422(427)\n",
    "        meter_count += 1\n",
    "        for day in meter:\n",
    "            day_count +=1\n",
    "            score_list.append(day)\n",
    "area_count, meter_count, day_count"
   ]
  },
  {
   "cell_type": "code",
   "execution_count": 216,
   "id": "engaged-brisbane",
   "metadata": {},
   "outputs": [],
   "source": [
    "euclid_day_score_df = pd.DataFrame(score_list)\n",
    "df = euclid_day_score_df\n",
    "X = df[[\"meter_euclid\"]]\n",
    "Y = df[[\"FDI\"]]\n",
    "\n",
    "partition = 422*8*530\n",
    "evaluation = 422*1*530\n",
    "total = 2239250\n",
    "\n",
    "\n",
    "X_train = X[:partition]\n",
    "X_val = X[partition:total-evaluation]\n",
    "X_test = X[total-evaluation: total]\n",
    "y_train = Y[:partition]\n",
    "y_val = Y[partition:total-evaluation]\n",
    "y_test = Y[total-evaluation: total]"
   ]
  },
  {
   "cell_type": "code",
   "execution_count": 217,
   "id": "static-illness",
   "metadata": {},
   "outputs": [
    {
     "data": {
      "text/plain": [
       "((1789280, 1),\n",
       " (226310, 1),\n",
       " (223660, 1),\n",
       " (1789280, 1),\n",
       " (226310, 1),\n",
       " (223660, 1))"
      ]
     },
     "execution_count": 217,
     "metadata": {},
     "output_type": "execute_result"
    }
   ],
   "source": [
    "X_train.shape, X_val.shape, X_test.shape, y_train.shape, y_val.shape, y_test.shape"
   ]
  },
  {
   "cell_type": "code",
   "execution_count": 218,
   "id": "polar-defeat",
   "metadata": {},
   "outputs": [
    {
     "name": "stderr",
     "output_type": "stream",
     "text": [
      "/opt/conda/lib/python3.7/site-packages/xgboost/sklearn.py:888: UserWarning: The use of label encoder in XGBClassifier is deprecated and will be removed in a future release. To remove this warning, do the following: 1) Pass option use_label_encoder=False when constructing XGBClassifier object; and 2) Encode your labels (y) as integers starting with 0, i.e. 0, 1, 2, ..., [num_class - 1].\n",
      "  warnings.warn(label_encoder_deprecation_msg, UserWarning)\n",
      "/opt/conda/lib/python3.7/site-packages/sklearn/utils/validation.py:63: DataConversionWarning: A column-vector y was passed when a 1d array was expected. Please change the shape of y to (n_samples, ), for example using ravel().\n",
      "  return f(*args, **kwargs)\n"
     ]
    },
    {
     "name": "stdout",
     "output_type": "stream",
     "text": [
      "[22:42:59] WARNING: ../src/learner.cc:1061: Starting in XGBoost 1.3.0, the default evaluation metric used with the objective 'binary:logistic' was changed from 'error' to 'logloss'. Explicitly set eval_metric if you'd like to restore the old behavior.\n",
      "Best: 0.562951 using {'scale_pos_weight': 0.01}\n",
      "0.562951 (0.002340) with: {'scale_pos_weight': 0.01}\n",
      "0.562407 (0.002435) with: {'scale_pos_weight': 0.1}\n",
      "0.562082 (0.002403) with: {'scale_pos_weight': 1}\n",
      "0.561906 (0.002442) with: {'scale_pos_weight': 10}\n",
      "0.562130 (0.002341) with: {'scale_pos_weight': 25}\n",
      "0.562241 (0.002503) with: {'scale_pos_weight': 50}\n",
      "0.562184 (0.002412) with: {'scale_pos_weight': 75}\n",
      "0.562169 (0.002428) with: {'scale_pos_weight': 99}\n",
      "0.562115 (0.002333) with: {'scale_pos_weight': 100}\n",
      "0.562135 (0.002247) with: {'scale_pos_weight': 1000}\n",
      "0.562083 (0.002428) with: {'scale_pos_weight': 116}\n",
      "0.561934 (0.002554) with: {'scale_pos_weight': 10.7}\n"
     ]
    }
   ],
   "source": [
    "model = XGBClassifier()\n",
    "# define grid\n",
    "weights = [0.01, 0.1, 1, 10, 25, 50, 75, 99, 100, 1000, 116,  10.7]\n",
    "param_grid = dict(scale_pos_weight=weights)\n",
    "# define evaluation procedure\n",
    "cv = RepeatedStratifiedKFold(n_splits=10, n_repeats=3, random_state=1)\n",
    "# define grid search\n",
    "grid = GridSearchCV(estimator=model, param_grid=param_grid, n_jobs=-1, cv=cv, scoring='roc_auc')\n",
    "# execute the grid search\n",
    "grid_result = grid.fit(X_train, y_train, verbose=True)\n",
    "# report the best configuration\n",
    "print(\"Best: %f using %s\" % (grid_result.best_score_, grid_result.best_params_))\n",
    "# report all configurations\n",
    "means = grid_result.cv_results_['mean_test_score']\n",
    "stds = grid_result.cv_results_['std_test_score']\n",
    "params = grid_result.cv_results_['params']\n",
    "for mean, stdev, param in zip(means, stds, params):\n",
    "    print(\"%f (%f) with: %r\" % (mean, stdev, param))"
   ]
  },
  {
   "cell_type": "markdown",
   "id": "creative-mississippi",
   "metadata": {},
   "source": [
    "### barycenter dba 48"
   ]
  },
  {
   "cell_type": "code",
   "execution_count": null,
   "id": "derived-drill",
   "metadata": {},
   "outputs": [],
   "source": [
    "# calculate center\n",
    "dba_barycenter_result = {}\n",
    "pbar = tqdm(smart_meter_data_group)\n",
    "count = 1\n",
    "for area in pbar: # iterate 10 data groups\n",
    "    print(f'start {count}')\n",
    "    X = []\n",
    "    Y = []\n",
    "    for meter in area['fdi']: # iterate every fdi meter in area \n",
    "        X.append(meter[\"Electricity\"].to_numpy())\n",
    "        Y.append((meter[\"MeterID\"].max(), 'True'))\n",
    "    for meter in area['normal']: # iterate every fdi meter in area \n",
    "        X.append(meter[\"Electricity\"].to_numpy())\n",
    "        Y.append((meter[\"MeterID\"].max(), 'False'))\n",
    "    X = np.array(X)\n",
    "    print(X.shape)\n",
    "    Y = np.array(Y)\n",
    "    X = X.reshape(-1, 530, 48 )\n",
    "    print(X.shape)\n",
    "    result = dtw_barycenter_averaging_subgradient(X, max_iter=20, tol=1e-3)\n",
    "    dba_barycenter_result[count] = (result, Y)\n",
    "    count = count + 1\n",
    "    \n",
    "one_cluster_dba_barycenter_48 = []\n",
    "for i in range(len(dba_barycenter_result)):\n",
    "    i = i + 1\n",
    "    one_cluster_dba_barycenter_48.append(dba_barycenter_result[i][0])\n",
    "print(one_cluster_dba_barycenter_48[9].shape)"
   ]
  },
  {
   "cell_type": "code",
   "execution_count": 163,
   "id": "formed-amplifier",
   "metadata": {
    "collapsed": true,
    "jupyter": {
     "outputs_hidden": true
    }
   },
   "outputs": [
    {
     "data": {
      "image/png": "[encoded data removed]",
      "text/plain": [
       "<Figure size 432x288 with 1 Axes>"
      ]
     },
     "metadata": {},
     "output_type": "display_data"
    }
   ],
   "source": [
    "for i in one_cluster_dba_barycenter_48[0][:10]:\n",
    "    plt.plot(i)\n",
    "#     break"
   ]
  },
  {
   "cell_type": "code",
   "execution_count": 159,
   "id": "italic-benefit",
   "metadata": {},
   "outputs": [
    {
     "data": {
      "text/plain": [
       "(10, 25440)"
      ]
     },
     "execution_count": 159,
     "metadata": {},
     "output_type": "execute_result"
    }
   ],
   "source": [
    "# df = pd.DataFrame(np.array(one_cluster_dba_barycenter_48).reshape(10, 530*48))\n",
    "# print(df.shape)\n",
    "# e = df.to_csv(index=False)\n",
    "# f = open('one_cluster_dba_barycenter_48.csv','w')\n",
    "# f.write(e) #Give your csv text here.\n",
    "# f.close()"
   ]
  },
  {
   "cell_type": "code",
   "execution_count": 239,
   "id": "casual-rochester",
   "metadata": {},
   "outputs": [],
   "source": [
    "# func of cal distance\n",
    "from concurrent.futures import ProcessPoolExecutor, ThreadPoolExecutor\n",
    "from time import time, sleep\n",
    "global center\n",
    "offset = 1  # guessing what your offset variable is valued at.\n",
    "\n",
    "\n",
    "def calc_stuff(x,y):   # these are examples.\n",
    "    meter_euclid = np.linalg.norm(x-y)\n",
    "    meter_dtw = dtw(x,y)\n",
    "    meter_sdtw = soft_dtw(x,y)\n",
    "    return meter_euclid, meter_dtw, meter_sdtw\n",
    "\n",
    "def procedure(j):                 # just factoring out the\n",
    "    df_list = []\n",
    "    d = j.reshape(-1, 5)\n",
    "    meter = pd.DataFrame(d, columns=[\"MeterID\",\"Day\",\"Time\",\"Electricity\",\"FDI\"])\n",
    "    day_list = meter['Day'].reset_index()\n",
    "    for i in range(530): # \n",
    "        \n",
    "        meter_id = meter[\"MeterID\"].loc[0]\n",
    "        meter_day = day_list['Day'][i*48]\n",
    "        meter_fdi = meter[\"FDI\"].loc[0]\n",
    "        x = meter[\"Electricity\"].to_numpy()[i*48:(i+1)*48]\n",
    "        y = center[i*48:(i+1)*48]\n",
    "#         if i == 529:\n",
    "#             print(f'meter_id : {meter_id} , x.shape :{ x.shape}, y.shape: {y.shape},{i*48,(i+1)*48}')\n",
    "        meter_euclid, meter_dtw, meter_sdtw = calc_stuff(x,y)\n",
    "        se = {'MeterID': meter_id, 'Day': meter_day,'FDI': meter_fdi, \"meter_euclid\": meter_euclid, \"meter_dtw\":meter_dtw, \"meter_sdtw\":meter_sdtw}\n",
    "        df_list.append(se)\n",
    "    return df_list\n",
    "\n",
    "def main(PoolExecutor, area_num): # take ProcessPoolExecutor or ThreadPoolExecutor\n",
    "    \n",
    "    inputs = data_group[area_num] # data_group[0] 有422個\n",
    "    output1 = list()\n",
    "\n",
    "    start = time()           # let's see how long this takes\n",
    "    \n",
    "    with PoolExecutor() as executor:\n",
    "        for out1 in executor.map(procedure, inputs):\n",
    "            # put results into correct output list:\n",
    "            output1.append(out1)\n",
    "            \n",
    "    finish = time()\n",
    "    print(f'PoolExecutor: {PoolExecutor}')\n",
    "    print(f'time : {(finish-start)}')\n",
    "    return output1"
   ]
  },
  {
   "cell_type": "code",
   "execution_count": 241,
   "id": "committed-asthma",
   "metadata": {},
   "outputs": [
    {
     "data": {
      "text/plain": [
       "(10, 25440)"
      ]
     },
     "execution_count": 241,
     "metadata": {},
     "output_type": "execute_result"
    }
   ],
   "source": [
    "center_dba_48 = pd.read_csv('one_cluster_dba_barycenter_48.csv')\n",
    "center_dba_48.shape"
   ]
  },
  {
   "cell_type": "code",
   "execution_count": 242,
   "id": "administrative-clinic",
   "metadata": {
    "collapsed": true,
    "jupyter": {
     "outputs_hidden": true
    }
   },
   "outputs": [
    {
     "name": "stdout",
     "output_type": "stream",
     "text": [
      "start area 0\n",
      "PoolExecutor: <class 'concurrent.futures.process.ProcessPoolExecutor'>\n",
      "time : 25.19044017791748\n",
      "start area 1\n",
      "PoolExecutor: <class 'concurrent.futures.process.ProcessPoolExecutor'>\n",
      "time : 25.019767999649048\n",
      "start area 2\n",
      "PoolExecutor: <class 'concurrent.futures.process.ProcessPoolExecutor'>\n",
      "time : 24.63744878768921\n",
      "start area 3\n",
      "PoolExecutor: <class 'concurrent.futures.process.ProcessPoolExecutor'>\n",
      "time : 24.71922016143799\n",
      "start area 4\n",
      "PoolExecutor: <class 'concurrent.futures.process.ProcessPoolExecutor'>\n",
      "time : 24.89380121231079\n",
      "start area 5\n",
      "PoolExecutor: <class 'concurrent.futures.process.ProcessPoolExecutor'>\n",
      "time : 24.530025005340576\n",
      "start area 6\n",
      "PoolExecutor: <class 'concurrent.futures.process.ProcessPoolExecutor'>\n",
      "time : 24.678476810455322\n",
      "start area 7\n",
      "PoolExecutor: <class 'concurrent.futures.process.ProcessPoolExecutor'>\n",
      "time : 24.673357725143433\n",
      "start area 8\n",
      "PoolExecutor: <class 'concurrent.futures.process.ProcessPoolExecutor'>\n",
      "time : 24.627437591552734\n",
      "start area 9\n",
      "PoolExecutor: <class 'concurrent.futures.process.ProcessPoolExecutor'>\n",
      "time : 24.688260078430176\n"
     ]
    }
   ],
   "source": [
    "dba_day_score_list = []\n",
    "for num in range(10):\n",
    "    print(f'start area {num}')\n",
    "    center = center_dba_48.loc[num].to_numpy()\n",
    "    sdtwa = main(ProcessPoolExecutor, num)\n",
    "    dba_day_score_list.append(sdtwa)"
   ]
  },
  {
   "cell_type": "code",
   "execution_count": 243,
   "id": "qualified-bridge",
   "metadata": {},
   "outputs": [
    {
     "data": {
      "text/plain": [
       "(10, 4225, 2239250)"
      ]
     },
     "execution_count": 243,
     "metadata": {},
     "output_type": "execute_result"
    }
   ],
   "source": [
    "# combime score list\n",
    "score_list = []\n",
    "area_count = 0\n",
    "meter_count = 0\n",
    "day_count = 0\n",
    "dba_day_score_df = pd.DataFrame(columns=[\"MeterID\", \"Day\", \"FDI\", \"meter_dtw\", \"meter_sdtw\"])\n",
    "for index, area in enumerate(dba_day_score_list): # area=10\n",
    "    area_count += 1\n",
    "    for meter in area: #meter=422(427)\n",
    "        meter_count += 1\n",
    "        for day in meter:\n",
    "            day_count +=1\n",
    "            score_list.append(day)\n",
    "area_count, meter_count, day_count"
   ]
  },
  {
   "cell_type": "code",
   "execution_count": 245,
   "id": "earned-sentence",
   "metadata": {},
   "outputs": [
    {
     "data": {
      "text/plain": [
       "((1789280, 1),\n",
       " (226310, 1),\n",
       " (223660, 1),\n",
       " (1789280, 1),\n",
       " (226310, 1),\n",
       " (223660, 1))"
      ]
     },
     "execution_count": 245,
     "metadata": {},
     "output_type": "execute_result"
    }
   ],
   "source": [
    "X_train.shape, X_val.shape, X_test.shape, y_train.shape, y_val.shape, y_test.shape"
   ]
  },
  {
   "cell_type": "code",
   "execution_count": null,
   "id": "connected-external",
   "metadata": {},
   "outputs": [],
   "source": [
    "dba_day_score_df = pd.DataFrame(score_list)\n",
    "df = dba_day_score_df\n",
    "X = df[[\"meter_dtw\"]]\n",
    "Y = df[[\"FDI\"]]\n",
    "\n",
    "partition = 422*8*530\n",
    "evaluation = 422*1*530\n",
    "total = 2239250\n",
    "\n",
    "\n",
    "X_train = X[:partition]\n",
    "X_val = X[partition:total-evaluation]\n",
    "X_test = X[total-evaluation: total]\n",
    "y_train = Y[:partition]\n",
    "y_val = Y[partition:total-evaluation]\n",
    "y_test = Y[total-evaluation: total]\n",
    "\n",
    "model = XGBClassifier()\n",
    "# define grid\n",
    "weights = [0.01, 0.1, 1, 10, 25, 50, 75, 99, 100, 1000, 116,  10.7]\n",
    "param_grid = dict(scale_pos_weight=weights)\n",
    "# define evaluation procedure\n",
    "cv = RepeatedStratifiedKFold(n_splits=10, n_repeats=3, random_state=1)\n",
    "# define grid search\n",
    "grid = GridSearchCV(estimator=model, param_grid=param_grid, n_jobs=-1, cv=cv, scoring='roc_auc')\n",
    "# execute the grid search\n",
    "grid_result = grid.fit(X_train, y_train, verbose=True)\n",
    "# report the best configuration\n",
    "print(\"Best: %f using %s\" % (grid_result.best_score_, grid_result.best_params_))\n",
    "# report all configurations\n",
    "means = grid_result.cv_results_['mean_test_score']\n",
    "stds = grid_result.cv_results_['std_test_score']\n",
    "params = grid_result.cv_results_['params']\n",
    "for mean, stdev, param in zip(means, stds, params):\n",
    "    print(\"%f (%f) with: %r\" % (mean, stdev, param))"
   ]
  },
  {
   "cell_type": "code",
   "execution_count": 247,
   "id": "developing-registration",
   "metadata": {},
   "outputs": [
    {
     "name": "stdout",
     "output_type": "stream",
     "text": [
      "Best: 0.590014 using {'scale_pos_weight': 0.01}\n",
      "0.590014 (0.002503) with: {'scale_pos_weight': 0.01}\n",
      "0.589817 (0.002412) with: {'scale_pos_weight': 0.1}\n",
      "0.589630 (0.002400) with: {'scale_pos_weight': 1}\n",
      "0.589043 (0.002299) with: {'scale_pos_weight': 10}\n",
      "0.588588 (0.002304) with: {'scale_pos_weight': 25}\n",
      "0.588654 (0.002504) with: {'scale_pos_weight': 50}\n",
      "0.588758 (0.002330) with: {'scale_pos_weight': 75}\n",
      "0.588820 (0.002414) with: {'scale_pos_weight': 99}\n",
      "0.588675 (0.002384) with: {'scale_pos_weight': 100}\n",
      "0.588630 (0.002199) with: {'scale_pos_weight': 1000}\n",
      "0.588618 (0.002316) with: {'scale_pos_weight': 116}\n",
      "0.589110 (0.002332) with: {'scale_pos_weight': 10.7}\n"
     ]
    }
   ],
   "source": [
    "print(\"Best: %f using %s\" % (grid_result.best_score_, grid_result.best_params_))\n",
    "# report all configurations\n",
    "means = grid_result.cv_results_['mean_test_score']\n",
    "stds = grid_result.cv_results_['std_test_score']\n",
    "params = grid_result.cv_results_['params']\n",
    "for mean, stdev, param in zip(means, stds, params):\n",
    "    print(\"%f (%f) with: %r\" % (mean, stdev, param))"
   ]
  },
  {
   "cell_type": "markdown",
   "id": "fifteen-roads",
   "metadata": {},
   "source": [
    "### barycenter sdtw 48"
   ]
  },
  {
   "cell_type": "code",
   "execution_count": 75,
   "id": "contrary-crazy",
   "metadata": {
    "collapsed": true,
    "jupyter": {
     "outputs_hidden": true
    }
   },
   "outputs": [
    {
     "data": {
      "application/vnd.jupyter.widget-view+json": {
       "model_id": "fc9617b7030b4d14afe02eb6ab6cb4a8",
       "version_major": 2,
       "version_minor": 0
      },
      "text/plain": [
       "  0%|          | 0/10 [00:00<?, ?it/s]"
      ]
     },
     "metadata": {},
     "output_type": "display_data"
    },
    {
     "name": "stdout",
     "output_type": "stream",
     "text": [
      "start 1\n",
      "(422, 25440)\n",
      "(422, 530, 48)\n",
      "start 2\n",
      "(422, 25440)\n",
      "(422, 530, 48)\n",
      "start 3\n",
      "(422, 25440)\n",
      "(422, 530, 48)\n",
      "start 4\n",
      "(422, 25440)\n",
      "(422, 530, 48)\n",
      "start 5\n",
      "(422, 25440)\n",
      "(422, 530, 48)\n",
      "start 6\n",
      "(422, 25440)\n",
      "(422, 530, 48)\n",
      "start 7\n",
      "(422, 25440)\n",
      "(422, 530, 48)\n",
      "start 8\n",
      "(422, 25440)\n",
      "(422, 530, 48)\n",
      "start 9\n",
      "(422, 25440)\n",
      "(422, 530, 48)\n",
      "start 10\n",
      "(427, 25440)\n",
      "(427, 530, 48)\n"
     ]
    }
   ],
   "source": [
    "barycenter_result = {}\n",
    "pbar = tqdm(smart_meter_data_group)\n",
    "count = 1\n",
    "for area in pbar: # iterate 10 data groups\n",
    "    print(f'start {count}')\n",
    "    X = []\n",
    "    Y = []\n",
    "    for meter in area['fdi']: # iterate every fdi meter in area \n",
    "        X.append(meter[\"Electricity\"].to_numpy())\n",
    "        Y.append((meter[\"MeterID\"].max(), 'True'))\n",
    "    for meter in area['normal']: # iterate every fdi meter in area \n",
    "        X.append(meter[\"Electricity\"].to_numpy())\n",
    "        Y.append((meter[\"MeterID\"].max(), 'False'))\n",
    "    X = np.array(X)\n",
    "    print(X.shape)\n",
    "    Y = np.array(Y)\n",
    "    X = X.reshape(-1, 530, 48 )\n",
    "    print(X.shape)\n",
    "    result = softdtw_barycenter(X, max_iter=5, gamma=1.)\n",
    "    barycenter_result[count] = (result, Y)\n",
    "    count = count + 1"
   ]
  },
  {
   "cell_type": "code",
   "execution_count": 76,
   "id": "unlike-richmond",
   "metadata": {},
   "outputs": [],
   "source": [
    "one_cluster_sdtw_barycenter_48 = []\n",
    "for i in range(len(barycenter_result)):\n",
    "    i = i + 1\n",
    "    one_cluster_sdtw_barycenter_48.append(barycenter_result[i][0])\n"
   ]
  },
  {
   "cell_type": "code",
   "execution_count": 131,
   "id": "settled-pressing",
   "metadata": {},
   "outputs": [
    {
     "data": {
      "text/plain": [
       "(530, 48)"
      ]
     },
     "execution_count": 131,
     "metadata": {},
     "output_type": "execute_result"
    }
   ],
   "source": [
    "one_cluster_sdtw_barycenter_48[9].shape"
   ]
  },
  {
   "cell_type": "code",
   "execution_count": 133,
   "id": "institutional-death",
   "metadata": {},
   "outputs": [
    {
     "data": {
      "image/png": "[encoded data removed]",
      "text/plain": [
       "<Figure size 432x288 with 1 Axes>"
      ]
     },
     "metadata": {},
     "output_type": "display_data"
    }
   ],
   "source": [
    "for i in one_cluster_sdtw_barycenter_48[0]:\n",
    "    plt.plot(i)"
   ]
  },
  {
   "cell_type": "code",
   "execution_count": 80,
   "id": "proved-furniture",
   "metadata": {},
   "outputs": [
    {
     "data": {
      "text/plain": [
       "(10, 25440)"
      ]
     },
     "execution_count": 80,
     "metadata": {},
     "output_type": "execute_result"
    }
   ],
   "source": [
    "df = pd.DataFrame(np.array(one_cluster_sdtw_barycenter_48).reshape(10, 530*48))\n",
    "df.shape"
   ]
  },
  {
   "cell_type": "code",
   "execution_count": 81,
   "id": "extreme-trademark",
   "metadata": {},
   "outputs": [],
   "source": [
    "e = df.to_csv(index=False)\n",
    "f = open('one_cluster_sdtw_barycenter_48.csv','w')\n",
    "f.write(e) #Give your csv text here.\n",
    "f.close()"
   ]
  },
  {
   "cell_type": "code",
   "execution_count": 249,
   "id": "modern-florida",
   "metadata": {},
   "outputs": [
    {
     "data": {
      "text/plain": [
       "(10, 25440)"
      ]
     },
     "execution_count": 249,
     "metadata": {},
     "output_type": "execute_result"
    }
   ],
   "source": [
    "center_sdtw_48 = pd.read_csv('one_cluster_sdtw_barycenter_48.csv')\n",
    "center_sdtw_48.shape"
   ]
  },
  {
   "cell_type": "code",
   "execution_count": 250,
   "id": "interior-happiness",
   "metadata": {
    "collapsed": true,
    "jupyter": {
     "outputs_hidden": true
    }
   },
   "outputs": [
    {
     "name": "stdout",
     "output_type": "stream",
     "text": [
      "start area 0\n",
      "PoolExecutor: <class 'concurrent.futures.process.ProcessPoolExecutor'>\n",
      "time : 24.768401384353638\n",
      "start area 1\n",
      "PoolExecutor: <class 'concurrent.futures.process.ProcessPoolExecutor'>\n",
      "time : 24.698643684387207\n",
      "start area 2\n",
      "PoolExecutor: <class 'concurrent.futures.process.ProcessPoolExecutor'>\n",
      "time : 24.62259078025818\n",
      "start area 3\n",
      "PoolExecutor: <class 'concurrent.futures.process.ProcessPoolExecutor'>\n",
      "time : 24.891225337982178\n",
      "start area 4\n",
      "PoolExecutor: <class 'concurrent.futures.process.ProcessPoolExecutor'>\n",
      "time : 25.22414207458496\n",
      "start area 5\n",
      "PoolExecutor: <class 'concurrent.futures.process.ProcessPoolExecutor'>\n",
      "time : 25.045814752578735\n",
      "start area 6\n",
      "PoolExecutor: <class 'concurrent.futures.process.ProcessPoolExecutor'>\n",
      "time : 25.11192488670349\n",
      "start area 7\n",
      "PoolExecutor: <class 'concurrent.futures.process.ProcessPoolExecutor'>\n",
      "time : 24.841408491134644\n",
      "start area 8\n",
      "PoolExecutor: <class 'concurrent.futures.process.ProcessPoolExecutor'>\n",
      "time : 24.853843450546265\n",
      "start area 9\n",
      "PoolExecutor: <class 'concurrent.futures.process.ProcessPoolExecutor'>\n",
      "time : 25.03701400756836\n"
     ]
    }
   ],
   "source": [
    "sdtw_day_score_list = []\n",
    "for num in range(10):\n",
    "    print(f'start area {num}')\n",
    "    center = center_sdtw_48.loc[num].to_numpy()\n",
    "    sdtwa = main(ProcessPoolExecutor, num)\n",
    "    sdtw_day_score_list.append(sdtwa)"
   ]
  },
  {
   "cell_type": "code",
   "execution_count": 252,
   "id": "accessory-river",
   "metadata": {},
   "outputs": [
    {
     "data": {
      "text/plain": [
       "(5, 32, 32)"
      ]
     },
     "execution_count": 252,
     "metadata": {},
     "output_type": "execute_result"
    }
   ],
   "source": [
    "# combime score list\n",
    "score_list = []\n",
    "area_count = 0\n",
    "meter_count = 0\n",
    "day_count = 0\n",
    "sdtw_day_score_list = pd.DataFrame(columns=[\"MeterID\", \"Day\", \"FDI\", \"meter_dtw\", \"meter_sdtw\"])\n",
    "for index, area in enumerate(sdtw_day_score_list): # area=10\n",
    "    area_count += 1\n",
    "    for meter in area: #meter=422(427)\n",
    "        meter_count += 1\n",
    "        for day in meter:\n",
    "            day_count +=1\n",
    "            score_list.append(day)\n",
    "area_count, meter_count, day_count"
   ]
  },
  {
   "cell_type": "code",
   "execution_count": null,
   "id": "little-congo",
   "metadata": {},
   "outputs": [],
   "source": [
    "sdtw_day_score_list = pd.DataFrame(score_list)\n",
    "df = sdtw_day_score_list\n",
    "X = df[[\"meter_dtw\"]]\n",
    "Y = df[[\"FDI\"]]\n",
    "\n",
    "partition = 422*8*530\n",
    "evaluation = 422*1*530\n",
    "total = 2239250\n",
    "\n",
    "print(X_train.shape, X_val.shape, X_test.shape, y_train.shape, y_val.shape, y_test.shape)\n",
    "\n",
    "X_train = X[:partition]\n",
    "X_val = X[partition:total-evaluation]\n",
    "X_test = X[total-evaluation: total]\n",
    "y_train = Y[:partition]\n",
    "y_val = Y[partition:total-evaluation]\n",
    "y_test = Y[total-evaluation: total]\n",
    "\n",
    "model = XGBClassifier()\n",
    "# define grid\n",
    "weights = [0.01, 0.1, 1, 10, 25, 50, 75, 99, 100, 1000, 116,  10.7]\n",
    "param_grid = dict(scale_pos_weight=weights)\n",
    "# define evaluation procedure\n",
    "cv = RepeatedStratifiedKFold(n_splits=10, n_repeats=3, random_state=1)\n",
    "# define grid search\n",
    "grid = GridSearchCV(estimator=model, param_grid=param_grid, n_jobs=-1, cv=cv, scoring='roc_auc')\n",
    "# execute the grid search\n",
    "grid_result = grid.fit(X_train, y_train, verbose=True)\n",
    "# report the best configuration\n",
    "print(\"Best: %f using %s\" % (grid_result.best_score_, grid_result.best_params_))\n",
    "# report all configurations\n",
    "means = grid_result.cv_results_['mean_test_score']\n",
    "stds = grid_result.cv_results_['std_test_score']\n",
    "params = grid_result.cv_results_['params']\n",
    "for mean, stdev, param in zip(means, stds, params):\n",
    "    print(\"%f (%f) with: %r\" % (mean, stdev, param))"
   ]
  },
  {
   "cell_type": "code",
   "execution_count": 254,
   "id": "reported-lyric",
   "metadata": {},
   "outputs": [
    {
     "name": "stdout",
     "output_type": "stream",
     "text": [
      "Best: 0.590014 using {'scale_pos_weight': 0.01}\n",
      "0.590014 (0.002503) with: {'scale_pos_weight': 0.01}\n",
      "0.589817 (0.002412) with: {'scale_pos_weight': 0.1}\n",
      "0.589630 (0.002400) with: {'scale_pos_weight': 1}\n",
      "0.589043 (0.002299) with: {'scale_pos_weight': 10}\n",
      "0.588588 (0.002304) with: {'scale_pos_weight': 25}\n",
      "0.588654 (0.002504) with: {'scale_pos_weight': 50}\n",
      "0.588758 (0.002330) with: {'scale_pos_weight': 75}\n",
      "0.588820 (0.002414) with: {'scale_pos_weight': 99}\n",
      "0.588675 (0.002384) with: {'scale_pos_weight': 100}\n",
      "0.588630 (0.002199) with: {'scale_pos_weight': 1000}\n",
      "0.588618 (0.002316) with: {'scale_pos_weight': 116}\n",
      "0.589110 (0.002332) with: {'scale_pos_weight': 10.7}\n"
     ]
    }
   ],
   "source": [
    "print(\"Best: %f using %s\" % (grid_result.best_score_, grid_result.best_params_))\n",
    "# report all configurations\n",
    "means = grid_result.cv_results_['mean_test_score']\n",
    "stds = grid_result.cv_results_['std_test_score']\n",
    "params = grid_result.cv_results_['params']\n",
    "for mean, stdev, param in zip(means, stds, params):\n",
    "    print(\"%f (%f) with: %r\" % (mean, stdev, param))"
   ]
  },
  {
   "cell_type": "markdown",
   "id": "still-albania",
   "metadata": {},
   "source": [
    "## Final sdtw day score calculating"
   ]
  },
  {
   "cell_type": "code",
   "execution_count": null,
   "id": "complicated-resort",
   "metadata": {},
   "outputs": [],
   "source": []
  },
  {
   "cell_type": "markdown",
   "id": "instant-endorsement",
   "metadata": {},
   "source": [
    "## MIC"
   ]
  },
  {
   "cell_type": "code",
   "execution_count": 85,
   "id": "incredible-museum",
   "metadata": {},
   "outputs": [],
   "source": [
    "smart_meter_data_mic = []\n",
    "for area in smart_meter_data_group:\n",
    "    \n",
    "    for meter in area['fdi']:\n",
    "        t = meter['Electricity'].to_numpy().reshape(530, 48)\n",
    "        smart_meter_data_mic.append(t)\n",
    "    for meter in area['normal']:\n",
    "        t = meter['Electricity'].to_numpy().reshape(530, 48)\n",
    "        smart_meter_data_mic.append(t)\n",
    "        \n",
    "smart_meter_data_mic = np.asarray(smart_meter_data_mic)"
   ]
  },
  {
   "cell_type": "code",
   "execution_count": 86,
   "id": "middle-basic",
   "metadata": {},
   "outputs": [
    {
     "data": {
      "text/plain": [
       "(4225, 530, 48)"
      ]
     },
     "execution_count": 86,
     "metadata": {},
     "output_type": "execute_result"
    }
   ],
   "source": [
    "smart_meter_data_mic.shape"
   ]
  },
  {
   "cell_type": "code",
   "execution_count": 89,
   "id": "frank-translator",
   "metadata": {},
   "outputs": [
    {
     "data": {
      "text/plain": [
       "((10, 530, 48), (530, 48))"
      ]
     },
     "execution_count": 89,
     "metadata": {},
     "output_type": "execute_result"
    }
   ],
   "source": [
    "ntl_loss_data_group.shape, ntl_loss_data_group[0].shape"
   ]
  },
  {
   "cell_type": "code",
   "execution_count": 93,
   "id": "adequate-making",
   "metadata": {},
   "outputs": [
    {
     "data": {
      "text/plain": [
       "array([0.06646936, 0.02996372, 0.0527681 , 0.03172372, 0.03585797,\n",
       "       0.02698641, 0.02740628, 0.02551334, 0.02193757, 0.01042044,\n",
       "       0.11481782, 0.07485002, 0.08220286, 0.1004776 , 0.18969537,\n",
       "       0.10098957, 0.18327169, 0.11422056, 0.12890305, 0.08336046,\n",
       "       0.05552484, 0.06628611, 0.05052802, 0.04232441, 0.15173175,\n",
       "       0.17253823, 0.20369852, 0.12317874, 0.02453935, 0.10987744,\n",
       "       0.05497007, 0.06268045, 0.05586385, 0.12405256, 0.12959462,\n",
       "       0.05688207, 0.14093927, 0.12296265, 0.13289415, 0.12750397,\n",
       "       0.1231144 , 0.12201188, 0.06921831, 0.07826877, 0.10229957,\n",
       "       0.07115736, 0.0315797 , 0.04234233])"
      ]
     },
     "execution_count": 93,
     "metadata": {},
     "output_type": "execute_result"
    }
   ],
   "source": [
    "ntl_loss_data_group[0][0]"
   ]
  },
  {
   "cell_type": "code",
   "execution_count": 103,
   "id": "saved-karen",
   "metadata": {},
   "outputs": [
    {
     "data": {
      "application/vnd.jupyter.widget-view+json": {
       "model_id": "21109086c3c646e2b327a27f3fa292dd",
       "version_major": 2,
       "version_minor": 0
      },
      "text/plain": [
       "  0%|          | 0/10 [00:00<?, ?it/s]"
      ]
     },
     "metadata": {},
     "output_type": "display_data"
    }
   ],
   "source": [
    "# calculate MIC \n",
    "m = MINE(alpha=0.8)\n",
    "mic_result = []\n",
    "pbar = tqdm(smart_meter_data_group)\n",
    "# ntl_loss_data_group, smart_meter_data_group\n",
    "\n",
    "for area_num, area in enumerate(pbar): # iterate 10 data groups\n",
    "    loss_list = ntl_loss_data_group[area_num]\n",
    "    for meter in area['fdi']: # iterate every fdi meter in area +\n",
    "        day_list = meter['Day'].reset_index()\n",
    "        for i in range(NUMBER_OF_DAYS): # iterate every day\n",
    "            meter_id = meter['MeterID'].max()\n",
    "            meter_day = day_list['Day'][i*48]\n",
    "#             meter_fdi = meter[\"FDI\"].loc[0]\n",
    "            u = meter[\"Electricity\"].to_numpy()[i*48:(i+1)*48]\n",
    "            e = loss_list[i]\n",
    "            m.compute_score(u, e)\n",
    "            mic_value = m.mic()\n",
    "            se = {'MeterID': meter_id, 'Day': meter_day,'FDI': True, \"mic\":round(mic_value, 6)}\n",
    "            mic_result.append(se)\n",
    "    for meter in area['normal']:\n",
    "        day_list = meter['Day'].reset_index()\n",
    "        for i in range(NUMBER_OF_DAYS): # iterate every day\n",
    "            meter_id = meter['MeterID'].max()\n",
    "            meter_day = day_list['Day'][i*48]\n",
    "#             meter_fdi = meter[\"FDI\"].loc[0]\n",
    "            u = meter[\"Electricity\"].to_numpy()[i*48:(i+1)*48]\n",
    "            e = loss_list[i]\n",
    "            \n",
    "            m.compute_score(u, e)\n",
    "            mic_value = m.mic()\n",
    "            se = {'MeterID': meter_id, 'Day': meter_day,'FDI': False, \"mic\":mic_value}\n",
    "            mic_result.append(se)"
   ]
  },
  {
   "cell_type": "code",
   "execution_count": 110,
   "id": "affiliated-fiber",
   "metadata": {},
   "outputs": [],
   "source": [
    "mic = pd.DataFrame(mic_result)"
   ]
  },
  {
   "cell_type": "code",
   "execution_count": 111,
   "id": "brave-begin",
   "metadata": {},
   "outputs": [],
   "source": [
    "e = mic.to_csv(index=False)\n",
    "f = open('mic.csv','w')\n",
    "f.write(e) #Give your csv text here.\n",
    "## Python will convert \\n to os.linesep\n",
    "f.close()"
   ]
  },
  {
   "cell_type": "markdown",
   "id": "signal-builder",
   "metadata": {},
   "source": [
    "# Training"
   ]
  },
  {
   "cell_type": "markdown",
   "id": "unknown-edmonton",
   "metadata": {},
   "source": [
    "### xgboost (mic only)\n"
   ]
  },
  {
   "cell_type": "code",
   "execution_count": 115,
   "id": "professional-orientation",
   "metadata": {},
   "outputs": [],
   "source": [
    "xgbc = XGBClassifier()"
   ]
  },
  {
   "cell_type": "code",
   "execution_count": 116,
   "id": "outside-refrigerator",
   "metadata": {},
   "outputs": [],
   "source": [
    "mic = pd.read_csv('mic.csv')"
   ]
  },
  {
   "cell_type": "code",
   "execution_count": 119,
   "id": "extended-champion",
   "metadata": {},
   "outputs": [],
   "source": [
    "partition = 422*9*530\n",
    "X_train = mic[[\"mic\"]][:partition]\n",
    "X_test = mic[[\"mic\"]][partition:2239250]\n",
    "y_train = mic[[\"FDI\"]][:partition]\n",
    "y_test = mic[[\"FDI\"]][partition:2239250]\n",
    "\n",
    "X = sdtw_day_score_df[[\"meter_dtw\"]]\n",
    "Y = sdtw_day_score_df[[\"FDI\"]]\n",
    "\n",
    "partition = 422*8*530\n",
    "evaluation = 422*1*530\n",
    "total = 2239250\n",
    "\n",
    "\n",
    "X_train = X[:partition]\n",
    "X_val = X[partition:total-evaluation]\n",
    "X_test = X[total-evaluation: total]\n",
    "y_train = Y[:partition]\n",
    "y_val = Y[partition:total-evaluation]\n",
    "y_test = Y[total-evaluation: total]"
   ]
  },
  {
   "cell_type": "code",
   "execution_count": 120,
   "id": "significant-assessment",
   "metadata": {},
   "outputs": [
    {
     "name": "stderr",
     "output_type": "stream",
     "text": [
      "/opt/conda/lib/python3.7/site-packages/xgboost/sklearn.py:888: UserWarning: The use of label encoder in XGBClassifier is deprecated and will be removed in a future release. To remove this warning, do the following: 1) Pass option use_label_encoder=False when constructing XGBClassifier object; and 2) Encode your labels (y) as integers starting with 0, i.e. 0, 1, 2, ..., [num_class - 1].\n",
      "  warnings.warn(label_encoder_deprecation_msg, UserWarning)\n",
      "/opt/conda/lib/python3.7/site-packages/sklearn/utils/validation.py:63: DataConversionWarning: A column-vector y was passed when a 1d array was expected. Please change the shape of y to (n_samples, ), for example using ravel().\n",
      "  return f(*args, **kwargs)\n"
     ]
    },
    {
     "name": "stdout",
     "output_type": "stream",
     "text": [
      "[20:04:15] WARNING: ../src/learner.cc:1061: Starting in XGBoost 1.3.0, the default evaluation metric used with the objective 'binary:logistic' was changed from 'error' to 'logloss'. Explicitly set eval_metric if you'd like to restore the old behavior.\n",
      "Best: 0.671522 using {'scale_pos_weight': 1000}\n",
      "0.599686 (0.002805) with: {'scale_pos_weight': 0.01}\n",
      "0.634248 (0.002814) with: {'scale_pos_weight': 0.1}\n",
      "0.666209 (0.003286) with: {'scale_pos_weight': 1}\n",
      "0.649926 (0.002823) with: {'scale_pos_weight': 10}\n",
      "0.646517 (0.004372) with: {'scale_pos_weight': 25}\n",
      "0.651731 (0.003483) with: {'scale_pos_weight': 50}\n",
      "0.657171 (0.002179) with: {'scale_pos_weight': 75}\n",
      "0.659887 (0.002061) with: {'scale_pos_weight': 99}\n",
      "0.659557 (0.002566) with: {'scale_pos_weight': 100}\n",
      "0.671522 (0.003643) with: {'scale_pos_weight': 1000}\n",
      "0.662187 (0.002164) with: {'scale_pos_weight': 116}\n",
      "0.649341 (0.003361) with: {'scale_pos_weight': 10.7}\n"
     ]
    }
   ],
   "source": [
    "model = XGBClassifier()\n",
    "# define grid\n",
    "weights = [0.01, 0.1, 1, 10, 25, 50, 75, 99, 100, 1000, 116,  10.7]\n",
    "param_grid = dict(scale_pos_weight=weights)\n",
    "# define evaluation procedure\n",
    "cv = RepeatedStratifiedKFold(n_splits=10, n_repeats=3, random_state=1)\n",
    "# define grid search\n",
    "grid = GridSearchCV(estimator=model, param_grid=param_grid, n_jobs=-1, cv=cv, scoring='roc_auc')\n",
    "# execute the grid search\n",
    "grid_result = grid.fit(X_train, y_train, verbose=True)\n",
    "# report the best configuration\n",
    "print(\"Best: %f using %s\" % (grid_result.best_score_, grid_result.best_params_))\n",
    "# report all configurations\n",
    "means = grid_result.cv_results_['mean_test_score']\n",
    "stds = grid_result.cv_results_['std_test_score']\n",
    "params = grid_result.cv_results_['params']\n",
    "for mean, stdev, param in zip(means, stds, params):\n",
    "    print(\"%f (%f) with: %r\" % (mean, stdev, param))"
   ]
  },
  {
   "cell_type": "markdown",
   "id": "aware-tunisia",
   "metadata": {},
   "source": [
    "### xgboost (four time only)"
   ]
  },
  {
   "cell_type": "code",
   "execution_count": 129,
   "id": "employed-cargo",
   "metadata": {},
   "outputs": [],
   "source": [
    "xgbc = XGBClassifier()"
   ]
  },
  {
   "cell_type": "code",
   "execution_count": 124,
   "id": "internal-explorer",
   "metadata": {},
   "outputs": [],
   "source": [
    "four_time = pd.read_csv('four_time.csv')"
   ]
  },
  {
   "cell_type": "code",
   "execution_count": 128,
   "id": "republican-letter",
   "metadata": {},
   "outputs": [
    {
     "data": {
      "text/plain": [
       "((1789280, 4),\n",
       " (226310, 4),\n",
       " (223660, 4),\n",
       " (1789280, 1),\n",
       " (226310, 1),\n",
       " (223660, 1))"
      ]
     },
     "execution_count": 128,
     "metadata": {},
     "output_type": "execute_result"
    }
   ],
   "source": [
    "X = four_time[[\"overnight\", \"breakfast\", \"daytime\", \"evening\"]]\n",
    "Y = four_time[[\"FDI\"]]\n",
    "\n",
    "partition = 422*8*530\n",
    "evaluation = 422*1*530\n",
    "total = 2239250\n",
    "\n",
    "\n",
    "X_train = X[:partition]\n",
    "X_val = X[partition:total-evaluation]\n",
    "X_test = X[total-evaluation: total]\n",
    "y_train = Y[:partition]\n",
    "y_val = Y[partition:total-evaluation]\n",
    "y_test = Y[total-evaluation: total]\n",
    "\n",
    "X_train.shape, X_val.shape, X_test.shape, y_train.shape, y_val.shape, y_test.shape"
   ]
  },
  {
   "cell_type": "code",
   "execution_count": 130,
   "id": "external-serum",
   "metadata": {},
   "outputs": [
    {
     "name": "stderr",
     "output_type": "stream",
     "text": [
      "/opt/conda/lib/python3.7/site-packages/sklearn/model_selection/_search.py:921: UserWarning: One or more of the test scores are non-finite: [nan nan nan nan nan nan nan nan nan nan nan nan]\n",
      "  category=UserWarning\n",
      "/opt/conda/lib/python3.7/site-packages/xgboost/sklearn.py:888: UserWarning: The use of label encoder in XGBClassifier is deprecated and will be removed in a future release. To remove this warning, do the following: 1) Pass option use_label_encoder=False when constructing XGBClassifier object; and 2) Encode your labels (y) as integers starting with 0, i.e. 0, 1, 2, ..., [num_class - 1].\n",
      "  warnings.warn(label_encoder_deprecation_msg, UserWarning)\n",
      "/opt/conda/lib/python3.7/site-packages/sklearn/utils/validation.py:63: DataConversionWarning: A column-vector y was passed when a 1d array was expected. Please change the shape of y to (n_samples, ), for example using ravel().\n",
      "  return f(*args, **kwargs)\n"
     ]
    },
    {
     "name": "stdout",
     "output_type": "stream",
     "text": [
      "[05:00:45] WARNING: ../src/learner.cc:1061: Starting in XGBoost 1.3.0, the default evaluation metric used with the objective 'binary:logistic' was changed from 'error' to 'logloss'. Explicitly set eval_metric if you'd like to restore the old behavior.\n",
      "Best: nan using {'scale_pos_weight': 0.01}\n",
      "nan (nan) with: {'scale_pos_weight': 0.01}\n",
      "nan (nan) with: {'scale_pos_weight': 0.1}\n",
      "nan (nan) with: {'scale_pos_weight': 1}\n",
      "nan (nan) with: {'scale_pos_weight': 10}\n",
      "nan (nan) with: {'scale_pos_weight': 25}\n",
      "nan (nan) with: {'scale_pos_weight': 50}\n",
      "nan (nan) with: {'scale_pos_weight': 75}\n",
      "nan (nan) with: {'scale_pos_weight': 99}\n",
      "nan (nan) with: {'scale_pos_weight': 100}\n",
      "nan (nan) with: {'scale_pos_weight': 1000}\n",
      "nan (nan) with: {'scale_pos_weight': 116}\n",
      "nan (nan) with: {'scale_pos_weight': 10.7}\n"
     ]
    }
   ],
   "source": [
    "model = XGBClassifier()\n",
    "# define grid\n",
    "weights = [0.01, 0.1, 1, 10, 25, 50, 75, 99, 100, 1000, 116,  10.7]\n",
    "param_grid = dict(scale_pos_weight=weights)\n",
    "# define evaluation procedure\n",
    "cv = RepeatedStratifiedKFold(n_splits=10, n_repeats=3, random_state=1)\n",
    "# define grid search\n",
    "grid = GridSearchCV(estimator=model, param_grid=param_grid, n_jobs=-1, cv=cv, scoring='roc_auc')\n",
    "# execute the grid search\n",
    "grid_result = grid.fit(X_train, y_train, verbose=True)\n",
    "# report the best configuration\n",
    "print(\"Best: %f using %s\" % (grid_result.best_score_, grid_result.best_params_))\n",
    "# report all configurations\n",
    "means = grid_result.cv_results_['mean_test_score']\n",
    "stds = grid_result.cv_results_['std_test_score']\n",
    "params = grid_result.cv_results_['params']\n",
    "for mean, stdev, param in zip(means, stds, params):\n",
    "    print(\"%f (%f) with: %r\" % (mean, stdev, param))"
   ]
  },
  {
   "cell_type": "markdown",
   "id": "committed-cooper",
   "metadata": {},
   "source": [
    "### adaboost and xgboost on 48 hours "
   ]
  },
  {
   "cell_type": "code",
   "execution_count": 42,
   "id": "stock-banking",
   "metadata": {},
   "outputs": [],
   "source": [
    "X = df['Electricity']"
   ]
  },
  {
   "cell_type": "code",
   "execution_count": 56,
   "id": "younger-brooks",
   "metadata": {},
   "outputs": [],
   "source": [
    "X = np.array(X).reshape(-1, 48)"
   ]
  },
  {
   "cell_type": "code",
   "execution_count": 68,
   "id": "restricted-purse",
   "metadata": {},
   "outputs": [],
   "source": [
    "X = pd.DataFrame(X)"
   ]
  },
  {
   "cell_type": "code",
   "execution_count": 77,
   "id": "liquid-china",
   "metadata": {},
   "outputs": [],
   "source": [
    "X = X.apply(pd.to_numeric)"
   ]
  },
  {
   "cell_type": "code",
   "execution_count": 71,
   "id": "alert-ministry",
   "metadata": {},
   "outputs": [],
   "source": [
    "Y = df[df['Time']==1]['FDI']"
   ]
  },
  {
   "cell_type": "code",
   "execution_count": 98,
   "id": "genetic-analyst",
   "metadata": {},
   "outputs": [],
   "source": [
    "Y = Y==\"True\""
   ]
  },
  {
   "cell_type": "code",
   "execution_count": 73,
   "id": "raising-myrtle",
   "metadata": {},
   "outputs": [],
   "source": [
    "average_score = {}\n",
    "average_score[\"precision_score\"] = 0\n",
    "average_score[\"recall_score\"] = 0\n",
    "average_score[\"accuracy_score\"] = 0\n",
    "average_score[\"roc_auc_score\"] = 0\n",
    "average_score[\"f1_score\"] = 0"
   ]
  },
  {
   "cell_type": "code",
   "execution_count": 52,
   "id": "million-private",
   "metadata": {},
   "outputs": [],
   "source": [
    "partition = 422*8*530\n",
    "evaluation = 422*1*530\n",
    "total = 2239250\n",
    "split_num = 3"
   ]
  },
  {
   "cell_type": "code",
   "execution_count": 99,
   "id": "subjective-salvation",
   "metadata": {},
   "outputs": [
    {
     "name": "stderr",
     "output_type": "stream",
     "text": [
      "/opt/conda/lib/python3.7/site-packages/xgboost/sklearn.py:888: UserWarning: The use of label encoder in XGBClassifier is deprecated and will be removed in a future release. To remove this warning, do the following: 1) Pass option use_label_encoder=False when constructing XGBClassifier object; and 2) Encode your labels (y) as integers starting with 0, i.e. 0, 1, 2, ..., [num_class - 1].\n",
      "  warnings.warn(label_encoder_deprecation_msg, UserWarning)\n"
     ]
    },
    {
     "name": "stdout",
     "output_type": "stream",
     "text": [
      "[20:57:09] WARNING: ../src/learner.cc:1061: Starting in XGBoost 1.3.0, the default evaluation metric used with the objective 'binary:logistic' was changed from 'error' to 'logloss'. Explicitly set eval_metric if you'd like to restore the old behavior.\n"
     ]
    },
    {
     "name": "stderr",
     "output_type": "stream",
     "text": [
      "/opt/conda/lib/python3.7/site-packages/xgboost/sklearn.py:888: UserWarning: The use of label encoder in XGBClassifier is deprecated and will be removed in a future release. To remove this warning, do the following: 1) Pass option use_label_encoder=False when constructing XGBClassifier object; and 2) Encode your labels (y) as integers starting with 0, i.e. 0, 1, 2, ..., [num_class - 1].\n",
      "  warnings.warn(label_encoder_deprecation_msg, UserWarning)\n"
     ]
    },
    {
     "name": "stdout",
     "output_type": "stream",
     "text": [
      "[20:58:38] WARNING: ../src/learner.cc:1061: Starting in XGBoost 1.3.0, the default evaluation metric used with the objective 'binary:logistic' was changed from 'error' to 'logloss'. Explicitly set eval_metric if you'd like to restore the old behavior.\n"
     ]
    },
    {
     "name": "stderr",
     "output_type": "stream",
     "text": [
      "/opt/conda/lib/python3.7/site-packages/xgboost/sklearn.py:888: UserWarning: The use of label encoder in XGBClassifier is deprecated and will be removed in a future release. To remove this warning, do the following: 1) Pass option use_label_encoder=False when constructing XGBClassifier object; and 2) Encode your labels (y) as integers starting with 0, i.e. 0, 1, 2, ..., [num_class - 1].\n",
      "  warnings.warn(label_encoder_deprecation_msg, UserWarning)\n"
     ]
    },
    {
     "name": "stdout",
     "output_type": "stream",
     "text": [
      "[21:00:09] WARNING: ../src/learner.cc:1061: Starting in XGBoost 1.3.0, the default evaluation metric used with the objective 'binary:logistic' was changed from 'error' to 'logloss'. Explicitly set eval_metric if you'd like to restore the old behavior.\n"
     ]
    }
   ],
   "source": [
    "X_train = X[:partition+evaluation]\n",
    "y_train = Y[:partition+evaluation]\n",
    "\n",
    "sss = StratifiedShuffleSplit(n_splits=split_num, test_size=0.2, random_state=1)\n",
    "for train_index, test_index in sss.split(X_train, y_train):\n",
    "    test_index = np.concatenate((np.array(test_index), np.array(X[total-(partition+evaluation): total].index)))\n",
    "    X_train, X_test = X.iloc[train_index], X.iloc[test_index]\n",
    "    Y_train, Y_test = np.array(Y.iloc[train_index]).reshape(-1) , np.array(Y.iloc[test_index]).reshape(-1)\n",
    "\n",
    "    model = XGBClassifier()\n",
    "    model.fit(X_train, Y_train)\n",
    "    y_hat = model.predict(X_test)\n",
    "    average_score[\"precision_score\"] += precision_score(Y_test, y_hat)\n",
    "    average_score[\"recall_score\"] += recall_score(Y_test, y_hat)\n",
    "    average_score[\"accuracy_score\"] += accuracy_score(Y_test, y_hat)\n",
    "    average_score[\"roc_auc_score\"] += roc_auc_score(Y_test, y_hat)\n",
    "    average_score[\"f1_score\"] += f1_score(Y_test, y_hat)"
   ]
  },
  {
   "cell_type": "code",
   "execution_count": 100,
   "id": "constant-picture",
   "metadata": {},
   "outputs": [
    {
     "name": "stdout",
     "output_type": "stream",
     "text": [
      "average_precision_score: 0.8816309535587393\n",
      "average_recall_score: 0.1540207549973783\n",
      "average_accuracy_score: 0.9146958070174858\n",
      "average_roc_auc_score: 0.5758816234674247\n",
      "average_f1_score: 0.26222888191446136\n"
     ]
    }
   ],
   "source": [
    "for key, score in average_score.items():\n",
    "    average_score[key] = score / split_num\n",
    "    print(\"average_\" + key + \": \" + str(average_score[key]))"
   ]
  },
  {
   "cell_type": "code",
   "execution_count": 114,
   "id": "nonprofit-matthew",
   "metadata": {},
   "outputs": [],
   "source": [
    "average_score = {}\n",
    "average_score[\"precision_score\"] = 0\n",
    "average_score[\"recall_score\"] = 0\n",
    "average_score[\"accuracy_score\"] = 0\n",
    "average_score[\"roc_auc_score\"] = 0\n",
    "average_score[\"f1_score\"] = 0"
   ]
  },
  {
   "cell_type": "code",
   "execution_count": 115,
   "id": "moved-northeast",
   "metadata": {},
   "outputs": [],
   "source": [
    "split_num = 1"
   ]
  },
  {
   "cell_type": "code",
   "execution_count": 116,
   "id": "final-rugby",
   "metadata": {},
   "outputs": [],
   "source": [
    "X_train = X[:partition+evaluation]\n",
    "y_train = Y[:partition+evaluation]\n",
    "\n",
    "sss = StratifiedShuffleSplit(n_splits=split_num, test_size=0.2, random_state=1)\n",
    "for train_index, test_index in sss.split(X_train, y_train):\n",
    "    test_index = np.concatenate((np.array(test_index), np.array(X[total-(partition+evaluation): total].index)))\n",
    "    X_train, X_test = X.iloc[train_index], X.iloc[test_index]\n",
    "    Y_train, Y_test = np.array(Y.iloc[train_index]).reshape(-1) , np.array(Y.iloc[test_index]).reshape(-1)\n",
    "\n",
    "    model = AdaBoostClassifier()\n",
    "    model.fit(X_train, Y_train)\n",
    "    y_hat = model.predict(X_test)\n",
    "    average_score[\"precision_score\"] += precision_score(Y_test, y_hat)\n",
    "    average_score[\"recall_score\"] += recall_score(Y_test, y_hat)\n",
    "    average_score[\"accuracy_score\"] += accuracy_score(Y_test, y_hat)\n",
    "    average_score[\"roc_auc_score\"] += roc_auc_score(Y_test, y_hat)\n",
    "    average_score[\"f1_score\"] += f1_score(Y_test, y_hat)"
   ]
  },
  {
   "cell_type": "code",
   "execution_count": 117,
   "id": "numerous-hazard",
   "metadata": {},
   "outputs": [
    {
     "name": "stdout",
     "output_type": "stream",
     "text": [
      "average_precision_score: 0.7466625865432429\n",
      "average_recall_score: 0.08210028684628909\n",
      "average_accuracy_score: 0.9069102076233436\n",
      "average_roc_auc_score: 0.5395295512577644\n",
      "average_f1_score: 0.1479342632274982\n"
     ]
    }
   ],
   "source": [
    "for key, score in average_score.items():\n",
    "    average_score[key] = score / 1\n",
    "    print(\"average_\" + key + \": \" + str(average_score[key]))"
   ]
  },
  {
   "cell_type": "markdown",
   "id": "continental-evans",
   "metadata": {},
   "source": [
    "## testing dataset"
   ]
  },
  {
   "cell_type": "code",
   "execution_count": 5,
   "id": "greek-buffer",
   "metadata": {},
   "outputs": [],
   "source": [
    "def concat_two_df_and_drop_same_column_in_df2(DF1, DF2):\n",
    "    display(DF1.head(1))\n",
    "    display(DF2.head(1))\n",
    "    DF2.drop(DF2.columns[DF2.columns.isin(DF1.columns)],axis=1,inplace=True)\n",
    "#     DF1.drop(DF1.columns[DF1.columns.isin(DF2.columns)],axis=1,inplace=True)\n",
    "    result = pd.concat([DF1, DF2], axis=1)\n",
    "    display(result.head(1))\n",
    "    return result\n",
    "def count_list_val(arr):\n",
    "    values, counts = np.unique(arr, return_counts=True)\n",
    "    print(values, counts)"
   ]
  },
  {
   "cell_type": "code",
   "execution_count": 6,
   "id": "mathematical-spectacular",
   "metadata": {},
   "outputs": [],
   "source": [
    "four_time = pd.read_csv(\"CSV/four_time.csv\")\n",
    "v_value = pd.read_csv(\"CSV/v_value.csv\")\n",
    "mic = pd.read_csv(\"CSV/mic.csv\")\n",
    "dwt_distance = pd.read_csv(\"CSV/sdtw_day_score_df.csv\")"
   ]
  },
  {
   "cell_type": "code",
   "execution_count": 7,
   "id": "earlier-petite",
   "metadata": {},
   "outputs": [
    {
     "data": {
      "text/plain": [
       "((2239250, 7), (2239250, 9), (2239250, 4), (1817089, 5))"
      ]
     },
     "execution_count": 7,
     "metadata": {},
     "output_type": "execute_result"
    }
   ],
   "source": [
    "four_time.shape, v_value.shape, mic.shape, dwt_distance.shape"
   ]
  },
  {
   "cell_type": "code",
   "execution_count": 8,
   "id": "continuing-wednesday",
   "metadata": {
    "collapsed": true,
    "jupyter": {
     "outputs_hidden": true
    }
   },
   "outputs": [
    {
     "data": {
      "text/html": [
       "<div>\n",
       "<style scoped>\n",
       "    .dataframe tbody tr th:only-of-type {\n",
       "        vertical-align: middle;\n",
       "    }\n",
       "\n",
       "    .dataframe tbody tr th {\n",
       "        vertical-align: top;\n",
       "    }\n",
       "\n",
       "    .dataframe thead th {\n",
       "        text-align: right;\n",
       "    }\n",
       "</style>\n",
       "<table border=\"1\" class=\"dataframe\">\n",
       "  <thead>\n",
       "    <tr style=\"text-align: right;\">\n",
       "      <th></th>\n",
       "      <th>MeterID</th>\n",
       "      <th>Day</th>\n",
       "      <th>FDI</th>\n",
       "      <th>Tmax1</th>\n",
       "      <th>Tmax2</th>\n",
       "      <th>Tmin1</th>\n",
       "      <th>Cmax1</th>\n",
       "      <th>Cmax2</th>\n",
       "      <th>Cmin1</th>\n",
       "    </tr>\n",
       "  </thead>\n",
       "  <tbody>\n",
       "    <tr>\n",
       "      <th>0</th>\n",
       "      <td>5212</td>\n",
       "      <td>2010-12-31</td>\n",
       "      <td>True</td>\n",
       "      <td>12</td>\n",
       "      <td>30</td>\n",
       "      <td>15</td>\n",
       "      <td>0.046464</td>\n",
       "      <td>0.047532</td>\n",
       "      <td>0.013561</td>\n",
       "    </tr>\n",
       "  </tbody>\n",
       "</table>\n",
       "</div>"
      ],
      "text/plain": [
       "   MeterID         Day   FDI  Tmax1  Tmax2  Tmin1     Cmax1     Cmax2  \\\n",
       "0     5212  2010-12-31  True     12     30     15  0.046464  0.047532   \n",
       "\n",
       "      Cmin1  \n",
       "0  0.013561  "
      ]
     },
     "metadata": {},
     "output_type": "display_data"
    },
    {
     "data": {
      "text/html": [
       "<div>\n",
       "<style scoped>\n",
       "    .dataframe tbody tr th:only-of-type {\n",
       "        vertical-align: middle;\n",
       "    }\n",
       "\n",
       "    .dataframe tbody tr th {\n",
       "        vertical-align: top;\n",
       "    }\n",
       "\n",
       "    .dataframe thead th {\n",
       "        text-align: right;\n",
       "    }\n",
       "</style>\n",
       "<table border=\"1\" class=\"dataframe\">\n",
       "  <thead>\n",
       "    <tr style=\"text-align: right;\">\n",
       "      <th></th>\n",
       "      <th>MeterID</th>\n",
       "      <th>Day</th>\n",
       "      <th>FDI</th>\n",
       "      <th>overnight</th>\n",
       "      <th>breakfast</th>\n",
       "      <th>daytime</th>\n",
       "      <th>evening</th>\n",
       "    </tr>\n",
       "  </thead>\n",
       "  <tbody>\n",
       "    <tr>\n",
       "      <th>0</th>\n",
       "      <td>1236</td>\n",
       "      <td>2009-07-15</td>\n",
       "      <td>True</td>\n",
       "      <td>5.380015</td>\n",
       "      <td>15.5</td>\n",
       "      <td>24.5</td>\n",
       "      <td>38.0</td>\n",
       "    </tr>\n",
       "  </tbody>\n",
       "</table>\n",
       "</div>"
      ],
      "text/plain": [
       "   MeterID         Day   FDI  overnight  breakfast  daytime  evening\n",
       "0     1236  2009-07-15  True   5.380015       15.5     24.5     38.0"
      ]
     },
     "metadata": {},
     "output_type": "display_data"
    },
    {
     "data": {
      "text/html": [
       "<div>\n",
       "<style scoped>\n",
       "    .dataframe tbody tr th:only-of-type {\n",
       "        vertical-align: middle;\n",
       "    }\n",
       "\n",
       "    .dataframe tbody tr th {\n",
       "        vertical-align: top;\n",
       "    }\n",
       "\n",
       "    .dataframe thead th {\n",
       "        text-align: right;\n",
       "    }\n",
       "</style>\n",
       "<table border=\"1\" class=\"dataframe\">\n",
       "  <thead>\n",
       "    <tr style=\"text-align: right;\">\n",
       "      <th></th>\n",
       "      <th>MeterID</th>\n",
       "      <th>Day</th>\n",
       "      <th>FDI</th>\n",
       "      <th>Tmax1</th>\n",
       "      <th>Tmax2</th>\n",
       "      <th>Tmin1</th>\n",
       "      <th>Cmax1</th>\n",
       "      <th>Cmax2</th>\n",
       "      <th>Cmin1</th>\n",
       "      <th>overnight</th>\n",
       "      <th>breakfast</th>\n",
       "      <th>daytime</th>\n",
       "      <th>evening</th>\n",
       "    </tr>\n",
       "  </thead>\n",
       "  <tbody>\n",
       "    <tr>\n",
       "      <th>0</th>\n",
       "      <td>5212</td>\n",
       "      <td>2010-12-31</td>\n",
       "      <td>True</td>\n",
       "      <td>12</td>\n",
       "      <td>30</td>\n",
       "      <td>15</td>\n",
       "      <td>0.046464</td>\n",
       "      <td>0.047532</td>\n",
       "      <td>0.013561</td>\n",
       "      <td>5.380015</td>\n",
       "      <td>15.5</td>\n",
       "      <td>24.5</td>\n",
       "      <td>38.0</td>\n",
       "    </tr>\n",
       "  </tbody>\n",
       "</table>\n",
       "</div>"
      ],
      "text/plain": [
       "   MeterID         Day   FDI  Tmax1  Tmax2  Tmin1     Cmax1     Cmax2  \\\n",
       "0     5212  2010-12-31  True     12     30     15  0.046464  0.047532   \n",
       "\n",
       "      Cmin1  overnight  breakfast  daytime  evening  \n",
       "0  0.013561   5.380015       15.5     24.5     38.0  "
      ]
     },
     "metadata": {},
     "output_type": "display_data"
    },
    {
     "data": {
      "text/html": [
       "<div>\n",
       "<style scoped>\n",
       "    .dataframe tbody tr th:only-of-type {\n",
       "        vertical-align: middle;\n",
       "    }\n",
       "\n",
       "    .dataframe tbody tr th {\n",
       "        vertical-align: top;\n",
       "    }\n",
       "\n",
       "    .dataframe thead th {\n",
       "        text-align: right;\n",
       "    }\n",
       "</style>\n",
       "<table border=\"1\" class=\"dataframe\">\n",
       "  <thead>\n",
       "    <tr style=\"text-align: right;\">\n",
       "      <th></th>\n",
       "      <th>MeterID</th>\n",
       "      <th>Day</th>\n",
       "      <th>FDI</th>\n",
       "      <th>Tmax1</th>\n",
       "      <th>Tmax2</th>\n",
       "      <th>Tmin1</th>\n",
       "      <th>Cmax1</th>\n",
       "      <th>Cmax2</th>\n",
       "      <th>Cmin1</th>\n",
       "      <th>overnight</th>\n",
       "      <th>breakfast</th>\n",
       "      <th>daytime</th>\n",
       "      <th>evening</th>\n",
       "    </tr>\n",
       "  </thead>\n",
       "  <tbody>\n",
       "    <tr>\n",
       "      <th>0</th>\n",
       "      <td>5212</td>\n",
       "      <td>2010-12-31</td>\n",
       "      <td>True</td>\n",
       "      <td>12</td>\n",
       "      <td>30</td>\n",
       "      <td>15</td>\n",
       "      <td>0.046464</td>\n",
       "      <td>0.047532</td>\n",
       "      <td>0.013561</td>\n",
       "      <td>5.380015</td>\n",
       "      <td>15.5</td>\n",
       "      <td>24.5</td>\n",
       "      <td>38.0</td>\n",
       "    </tr>\n",
       "  </tbody>\n",
       "</table>\n",
       "</div>"
      ],
      "text/plain": [
       "   MeterID         Day   FDI  Tmax1  Tmax2  Tmin1     Cmax1     Cmax2  \\\n",
       "0     5212  2010-12-31  True     12     30     15  0.046464  0.047532   \n",
       "\n",
       "      Cmin1  overnight  breakfast  daytime  evening  \n",
       "0  0.013561   5.380015       15.5     24.5     38.0  "
      ]
     },
     "metadata": {},
     "output_type": "display_data"
    },
    {
     "data": {
      "text/html": [
       "<div>\n",
       "<style scoped>\n",
       "    .dataframe tbody tr th:only-of-type {\n",
       "        vertical-align: middle;\n",
       "    }\n",
       "\n",
       "    .dataframe tbody tr th {\n",
       "        vertical-align: top;\n",
       "    }\n",
       "\n",
       "    .dataframe thead th {\n",
       "        text-align: right;\n",
       "    }\n",
       "</style>\n",
       "<table border=\"1\" class=\"dataframe\">\n",
       "  <thead>\n",
       "    <tr style=\"text-align: right;\">\n",
       "      <th></th>\n",
       "      <th>MeterID</th>\n",
       "      <th>Day</th>\n",
       "      <th>FDI</th>\n",
       "      <th>mic</th>\n",
       "    </tr>\n",
       "  </thead>\n",
       "  <tbody>\n",
       "    <tr>\n",
       "      <th>0</th>\n",
       "      <td>1236</td>\n",
       "      <td>2009-07-15</td>\n",
       "      <td>True</td>\n",
       "      <td>0.624128</td>\n",
       "    </tr>\n",
       "  </tbody>\n",
       "</table>\n",
       "</div>"
      ],
      "text/plain": [
       "   MeterID         Day   FDI       mic\n",
       "0     1236  2009-07-15  True  0.624128"
      ]
     },
     "metadata": {},
     "output_type": "display_data"
    },
    {
     "data": {
      "text/html": [
       "<div>\n",
       "<style scoped>\n",
       "    .dataframe tbody tr th:only-of-type {\n",
       "        vertical-align: middle;\n",
       "    }\n",
       "\n",
       "    .dataframe tbody tr th {\n",
       "        vertical-align: top;\n",
       "    }\n",
       "\n",
       "    .dataframe thead th {\n",
       "        text-align: right;\n",
       "    }\n",
       "</style>\n",
       "<table border=\"1\" class=\"dataframe\">\n",
       "  <thead>\n",
       "    <tr style=\"text-align: right;\">\n",
       "      <th></th>\n",
       "      <th>MeterID</th>\n",
       "      <th>Day</th>\n",
       "      <th>FDI</th>\n",
       "      <th>Tmax1</th>\n",
       "      <th>Tmax2</th>\n",
       "      <th>Tmin1</th>\n",
       "      <th>Cmax1</th>\n",
       "      <th>Cmax2</th>\n",
       "      <th>Cmin1</th>\n",
       "      <th>overnight</th>\n",
       "      <th>breakfast</th>\n",
       "      <th>daytime</th>\n",
       "      <th>evening</th>\n",
       "      <th>mic</th>\n",
       "    </tr>\n",
       "  </thead>\n",
       "  <tbody>\n",
       "    <tr>\n",
       "      <th>0</th>\n",
       "      <td>5212</td>\n",
       "      <td>2010-12-31</td>\n",
       "      <td>True</td>\n",
       "      <td>12</td>\n",
       "      <td>30</td>\n",
       "      <td>15</td>\n",
       "      <td>0.046464</td>\n",
       "      <td>0.047532</td>\n",
       "      <td>0.013561</td>\n",
       "      <td>5.380015</td>\n",
       "      <td>15.5</td>\n",
       "      <td>24.5</td>\n",
       "      <td>38.0</td>\n",
       "      <td>0.624128</td>\n",
       "    </tr>\n",
       "  </tbody>\n",
       "</table>\n",
       "</div>"
      ],
      "text/plain": [
       "   MeterID         Day   FDI  Tmax1  Tmax2  Tmin1     Cmax1     Cmax2  \\\n",
       "0     5212  2010-12-31  True     12     30     15  0.046464  0.047532   \n",
       "\n",
       "      Cmin1  overnight  breakfast  daytime  evening       mic  \n",
       "0  0.013561   5.380015       15.5     24.5     38.0  0.624128  "
      ]
     },
     "metadata": {},
     "output_type": "display_data"
    },
    {
     "data": {
      "text/html": [
       "<div>\n",
       "<style scoped>\n",
       "    .dataframe tbody tr th:only-of-type {\n",
       "        vertical-align: middle;\n",
       "    }\n",
       "\n",
       "    .dataframe tbody tr th {\n",
       "        vertical-align: top;\n",
       "    }\n",
       "\n",
       "    .dataframe thead th {\n",
       "        text-align: right;\n",
       "    }\n",
       "</style>\n",
       "<table border=\"1\" class=\"dataframe\">\n",
       "  <thead>\n",
       "    <tr style=\"text-align: right;\">\n",
       "      <th></th>\n",
       "      <th>MeterID</th>\n",
       "      <th>Day</th>\n",
       "      <th>FDI</th>\n",
       "      <th>Tmax1</th>\n",
       "      <th>Tmax2</th>\n",
       "      <th>Tmin1</th>\n",
       "      <th>Cmax1</th>\n",
       "      <th>Cmax2</th>\n",
       "      <th>Cmin1</th>\n",
       "      <th>overnight</th>\n",
       "      <th>breakfast</th>\n",
       "      <th>daytime</th>\n",
       "      <th>evening</th>\n",
       "      <th>mic</th>\n",
       "    </tr>\n",
       "  </thead>\n",
       "  <tbody>\n",
       "    <tr>\n",
       "      <th>0</th>\n",
       "      <td>5212</td>\n",
       "      <td>2010-12-31</td>\n",
       "      <td>True</td>\n",
       "      <td>12</td>\n",
       "      <td>30</td>\n",
       "      <td>15</td>\n",
       "      <td>0.046464</td>\n",
       "      <td>0.047532</td>\n",
       "      <td>0.013561</td>\n",
       "      <td>5.380015</td>\n",
       "      <td>15.5</td>\n",
       "      <td>24.5</td>\n",
       "      <td>38.0</td>\n",
       "      <td>0.624128</td>\n",
       "    </tr>\n",
       "  </tbody>\n",
       "</table>\n",
       "</div>"
      ],
      "text/plain": [
       "   MeterID         Day   FDI  Tmax1  Tmax2  Tmin1     Cmax1     Cmax2  \\\n",
       "0     5212  2010-12-31  True     12     30     15  0.046464  0.047532   \n",
       "\n",
       "      Cmin1  overnight  breakfast  daytime  evening       mic  \n",
       "0  0.013561   5.380015       15.5     24.5     38.0  0.624128  "
      ]
     },
     "metadata": {},
     "output_type": "display_data"
    },
    {
     "data": {
      "text/html": [
       "<div>\n",
       "<style scoped>\n",
       "    .dataframe tbody tr th:only-of-type {\n",
       "        vertical-align: middle;\n",
       "    }\n",
       "\n",
       "    .dataframe tbody tr th {\n",
       "        vertical-align: top;\n",
       "    }\n",
       "\n",
       "    .dataframe thead th {\n",
       "        text-align: right;\n",
       "    }\n",
       "</style>\n",
       "<table border=\"1\" class=\"dataframe\">\n",
       "  <thead>\n",
       "    <tr style=\"text-align: right;\">\n",
       "      <th></th>\n",
       "      <th>MeterID</th>\n",
       "      <th>Day</th>\n",
       "      <th>FDI</th>\n",
       "      <th>meter_dtw</th>\n",
       "      <th>meter_sdtw</th>\n",
       "    </tr>\n",
       "  </thead>\n",
       "  <tbody>\n",
       "    <tr>\n",
       "      <th>0</th>\n",
       "      <td>1236</td>\n",
       "      <td>2009-07-15</td>\n",
       "      <td>True</td>\n",
       "      <td>2.283294</td>\n",
       "      <td>-68.276715</td>\n",
       "    </tr>\n",
       "  </tbody>\n",
       "</table>\n",
       "</div>"
      ],
      "text/plain": [
       "   MeterID         Day   FDI  meter_dtw  meter_sdtw\n",
       "0     1236  2009-07-15  True   2.283294  -68.276715"
      ]
     },
     "metadata": {},
     "output_type": "display_data"
    },
    {
     "data": {
      "text/html": [
       "<div>\n",
       "<style scoped>\n",
       "    .dataframe tbody tr th:only-of-type {\n",
       "        vertical-align: middle;\n",
       "    }\n",
       "\n",
       "    .dataframe tbody tr th {\n",
       "        vertical-align: top;\n",
       "    }\n",
       "\n",
       "    .dataframe thead th {\n",
       "        text-align: right;\n",
       "    }\n",
       "</style>\n",
       "<table border=\"1\" class=\"dataframe\">\n",
       "  <thead>\n",
       "    <tr style=\"text-align: right;\">\n",
       "      <th></th>\n",
       "      <th>MeterID</th>\n",
       "      <th>Day</th>\n",
       "      <th>FDI</th>\n",
       "      <th>Tmax1</th>\n",
       "      <th>Tmax2</th>\n",
       "      <th>Tmin1</th>\n",
       "      <th>Cmax1</th>\n",
       "      <th>Cmax2</th>\n",
       "      <th>Cmin1</th>\n",
       "      <th>overnight</th>\n",
       "      <th>breakfast</th>\n",
       "      <th>daytime</th>\n",
       "      <th>evening</th>\n",
       "      <th>mic</th>\n",
       "      <th>meter_dtw</th>\n",
       "      <th>meter_sdtw</th>\n",
       "    </tr>\n",
       "  </thead>\n",
       "  <tbody>\n",
       "    <tr>\n",
       "      <th>0</th>\n",
       "      <td>5212</td>\n",
       "      <td>2010-12-31</td>\n",
       "      <td>True</td>\n",
       "      <td>12</td>\n",
       "      <td>30</td>\n",
       "      <td>15</td>\n",
       "      <td>0.046464</td>\n",
       "      <td>0.047532</td>\n",
       "      <td>0.013561</td>\n",
       "      <td>5.380015</td>\n",
       "      <td>15.5</td>\n",
       "      <td>24.5</td>\n",
       "      <td>38.0</td>\n",
       "      <td>0.624128</td>\n",
       "      <td>2.283294</td>\n",
       "      <td>-68.276715</td>\n",
       "    </tr>\n",
       "  </tbody>\n",
       "</table>\n",
       "</div>"
      ],
      "text/plain": [
       "   MeterID         Day   FDI  Tmax1  Tmax2  Tmin1     Cmax1     Cmax2  \\\n",
       "0     5212  2010-12-31  True     12     30     15  0.046464  0.047532   \n",
       "\n",
       "      Cmin1  overnight  breakfast  daytime  evening       mic  meter_dtw  \\\n",
       "0  0.013561   5.380015       15.5     24.5     38.0  0.624128   2.283294   \n",
       "\n",
       "   meter_sdtw  \n",
       "0  -68.276715  "
      ]
     },
     "metadata": {},
     "output_type": "display_data"
    },
    {
     "data": {
      "text/plain": [
       "Index(['MeterID', 'Day', 'FDI', 'Tmax1', 'Tmax2', 'Tmin1', 'Cmax1', 'Cmax2',\n",
       "       'Cmin1', 'overnight', 'breakfast', 'daytime', 'evening', 'mic',\n",
       "       'meter_dtw', 'meter_sdtw'],\n",
       "      dtype='object')"
      ]
     },
     "execution_count": 8,
     "metadata": {},
     "output_type": "execute_result"
    }
   ],
   "source": [
    "result = concat_two_df_and_drop_same_column_in_df2(v_value, four_time)\n",
    "result = concat_two_df_and_drop_same_column_in_df2(result, mic)\n",
    "result = concat_two_df_and_drop_same_column_in_df2(result, dwt_distance)\n",
    "result.columns"
   ]
  },
  {
   "cell_type": "markdown",
   "id": "focal-reverse",
   "metadata": {},
   "source": [
    "### xgboost model"
   ]
  },
  {
   "cell_type": "code",
   "execution_count": 127,
   "id": "automated-conclusion",
   "metadata": {},
   "outputs": [],
   "source": [
    "def train_model(df, x_col, y_col, score = False, split_num = 3, return_model=False ):\n",
    "    \n",
    "    X = df[x_col]\n",
    "    Y = df[y_col]\n",
    "\n",
    "    partition = 422*8*530\n",
    "    evaluation = 422*1*530\n",
    "    total = 2239250\n",
    "\n",
    "    round = 1\n",
    "    average_score = {}\n",
    "    average_score[\"precision_score\"] = 0\n",
    "    average_score[\"recall_score\"] = 0\n",
    "    average_score[\"accuracy_score\"] = 0\n",
    "    average_score[\"roc_auc_score\"] = 0\n",
    "    average_score[\"f1_score\"] = 0\n",
    "\n",
    "    X_train = X[:partition+evaluation]\n",
    "    y_train = Y[:partition+evaluation]\n",
    "\n",
    "    sss = StratifiedShuffleSplit(n_splits=split_num, test_size=0.2, random_state=1)\n",
    "    for train_index, test_index in sss.split(X_train, y_train):\n",
    "        test_index = np.concatenate((np.array(test_index), np.array(X[total-(partition+evaluation): total].index)))\n",
    "        X_train, X_test = X.iloc[train_index], X.iloc[test_index]\n",
    "        Y_train, Y_test = np.array(Y.iloc[train_index]).reshape(-1) , np.array(Y.iloc[test_index]).reshape(-1)\n",
    "\n",
    "        model = XGBClassifier(scale_pos_weight=10)\n",
    "        model.fit(X_train, Y_train)\n",
    "        y_hat = model.predict(X_test)\n",
    "        average_score[\"precision_score\"] += precision_score(Y_test, y_hat)\n",
    "        average_score[\"recall_score\"] += recall_score(Y_test, y_hat)\n",
    "        average_score[\"accuracy_score\"] += accuracy_score(Y_test, y_hat)\n",
    "        average_score[\"roc_auc_score\"] += roc_auc_score(Y_test, y_hat)\n",
    "        average_score[\"f1_score\"] += f1_score(Y_test, y_hat)\n",
    "\n",
    "        if score:\n",
    "            print(\"round: \" + str(round))\n",
    "            print(\"precision score: \" + str(precision_score(Y_test, y_hat)))\n",
    "            print(\"recall_score: \" + str(recall_score(Y_test, y_hat)))\n",
    "            print(\"accuracy_score: \" + str(accuracy_score(Y_test, y_hat)))\n",
    "            print(\"roc_auc_score: \" + str(roc_auc_score(Y_test, y_hat)))\n",
    "            print(\"f1_score: \" + str(f1_score(Y_test, y_hat)))\n",
    "            print()\n",
    "\n",
    "        round += 1\n",
    "    for key, score in average_score.items():\n",
    "        average_score[key] = score / split_num\n",
    "        print(\"average_\" + key + \": \" + str(average_score[key]))\n",
    "    if return_model=True:\n",
    "        return model, average_score\n",
    "    return average_score"
   ]
  },
  {
   "cell_type": "code",
   "execution_count": null,
   "id": "creative-queue",
   "metadata": {},
   "outputs": [],
   "source": [
    "col = ['overnight', 'breakfast', 'daytime', 'evening',\n",
    "       'Tmax1', 'Tmax2', 'Tmin1', 'Cmax1', 'Cmax2', 'Cmin1', 'mic',\n",
    "       'meter_dtw', 'meter_sdtw']\n",
    "train_model(result, col, ['FDI'])"
   ]
  },
  {
   "cell_type": "code",
   "execution_count": null,
   "id": "electric-pencil",
   "metadata": {},
   "outputs": [],
   "source": [
    "col = ['overnight', 'breakfast', 'daytime', 'evening']\n",
    "train_model(result, col, ['FDI'])"
   ]
  },
  {
   "cell_type": "code",
   "execution_count": null,
   "id": "continuous-screen",
   "metadata": {},
   "outputs": [],
   "source": [
    "col = ['Tmax1', 'Tmax2', 'Tmin1', 'Cmax1', 'Cmax2', 'Cmin1']\n",
    "train_model(result, col, ['FDI'])"
   ]
  },
  {
   "cell_type": "code",
   "execution_count": null,
   "id": "certain-adapter",
   "metadata": {},
   "outputs": [],
   "source": [
    "col = ['mic']\n",
    "train_model(result, col, ['FDI'])"
   ]
  },
  {
   "cell_type": "code",
   "execution_count": null,
   "id": "atlantic-wedding",
   "metadata": {},
   "outputs": [],
   "source": [
    "col = ['meter_dtw', 'meter_sdtw']\n",
    "train_model(result, col, ['FDI'])"
   ]
  },
  {
   "cell_type": "markdown",
   "id": "exterior-hello",
   "metadata": {},
   "source": [
    "### adaboost model"
   ]
  },
  {
   "cell_type": "code",
   "execution_count": null,
   "id": "cutting-western",
   "metadata": {},
   "outputs": [],
   "source": [
    "def train_ada_model(df, x_col, y_col, score = False, split_num = 3):\n",
    "    \n",
    "    X = df[x_col]\n",
    "    Y = df[y_col]\n",
    "\n",
    "    partition = 422*8*530\n",
    "    evaluation = 422*1*530\n",
    "    total = 2239250\n",
    "\n",
    "    round = 1\n",
    "    average_score = {}\n",
    "    average_score[\"precision_score\"] = 0\n",
    "    average_score[\"recall_score\"] = 0\n",
    "    average_score[\"accuracy_score\"] = 0\n",
    "    average_score[\"roc_auc_score\"] = 0\n",
    "    average_score[\"f1_score\"] = 0\n",
    "\n",
    "    X_train = X[:partition+evaluation]\n",
    "    y_train = Y[:partition+evaluation]\n",
    "\n",
    "    sss = StratifiedShuffleSplit(n_splits=split_num, test_size=0.2, random_state=1)\n",
    "    for train_index, test_index in sss.split(X_train, y_train):\n",
    "        test_index = np.concatenate((np.array(test_index), np.array(X[total-(partition+evaluation): total].index)))\n",
    "        X_train, X_test = X.iloc[train_index], X.iloc[test_index]\n",
    "        Y_train, Y_test = np.array(Y.iloc[train_index]).reshape(-1) , np.array(Y.iloc[test_index]).reshape(-1)\n",
    "\n",
    "        model = AdaBoostClassifier()\n",
    "        model.fit(X_train, Y_train)\n",
    "        y_hat = model.predict(X_test)\n",
    "        average_score[\"precision_score\"] += precision_score(Y_test, y_hat)\n",
    "        average_score[\"recall_score\"] += recall_score(Y_test, y_hat)\n",
    "        average_score[\"accuracy_score\"] += accuracy_score(Y_test, y_hat)\n",
    "        average_score[\"roc_auc_score\"] += roc_auc_score(Y_test, y_hat)\n",
    "        average_score[\"f1_score\"] += f1_score(Y_test, y_hat)\n",
    "\n",
    "        if score:\n",
    "            print(\"round: \" + str(round))\n",
    "            print(\"precision score: \" + str(precision_score(Y_test, y_hat)))\n",
    "            print(\"recall_score: \" + str(recall_score(Y_test, y_hat)))\n",
    "            print(\"accuracy_score: \" + str(accuracy_score(Y_test, y_hat)))\n",
    "            print(\"roc_auc_score: \" + str(roc_auc_score(Y_test, y_hat)))\n",
    "            print(\"f1_score: \" + str(f1_score(Y_test, y_hat)))\n",
    "            print()\n",
    "\n",
    "        round += 1\n",
    "    for key, score in average_score.items():\n",
    "        average_score[key] = score / split_num\n",
    "        print(\"average_\" + key + \": \" + str(average_score[key]))\n",
    "    return average_score"
   ]
  },
  {
   "cell_type": "code",
   "execution_count": null,
   "id": "electrical-theology",
   "metadata": {},
   "outputs": [],
   "source": [
    "col = ['meter_dtw', 'meter_sdtw']\n",
    "train_ada_model(result, col, ['FDI'])"
   ]
  },
  {
   "cell_type": "code",
   "execution_count": null,
   "id": "abstract-boring",
   "metadata": {},
   "outputs": [],
   "source": [
    "col = ['mic']\n",
    "train_ada_model(result, col, ['FDI'])"
   ]
  },
  {
   "cell_type": "code",
   "execution_count": null,
   "id": "inner-discretion",
   "metadata": {},
   "outputs": [],
   "source": [
    "col = ['overnight', 'breakfast', 'daytime', 'evening']\n",
    "train_ada_model(result, col, ['FDI'])"
   ]
  },
  {
   "cell_type": "code",
   "execution_count": null,
   "id": "adjacent-trace",
   "metadata": {},
   "outputs": [],
   "source": [
    "col = ['Tmax1', 'Tmax2', 'Tmin1', 'Cmax1', 'Cmax2', 'Cmin1']\n",
    "train_ada_model(result, col, ['FDI'])"
   ]
  },
  {
   "cell_type": "code",
   "execution_count": null,
   "id": "isolated-customs",
   "metadata": {},
   "outputs": [],
   "source": [
    "col = ['overnight', 'breakfast', 'daytime', 'evening',\n",
    "       'Tmax1', 'Tmax2', 'Tmin1', 'Cmax1', 'Cmax2', 'Cmin1', 'mic',\n",
    "       'meter_dtw', 'meter_sdtw']\n",
    "train_ada_model(result, col, ['FDI'])"
   ]
  },
  {
   "cell_type": "markdown",
   "id": "right-weight",
   "metadata": {},
   "source": [
    "## permutation importance"
   ]
  },
  {
   "cell_type": "code",
   "execution_count": 9,
   "id": "tough-couple",
   "metadata": {},
   "outputs": [],
   "source": [
    "col = ['overnight', 'breakfast', 'daytime', 'evening',\n",
    "       'Tmax1', 'Tmax2', 'Tmin1', 'Cmax1', 'Cmax2', 'Cmin1', 'mic',\n",
    "       'meter_dtw', 'meter_sdtw']\n",
    "X = result[col]\n",
    "Y = result['FDI']"
   ]
  },
  {
   "cell_type": "code",
   "execution_count": null,
   "id": "stainless-words",
   "metadata": {},
   "outputs": [],
   "source": [
    "model = XGBClassifier()\n",
    "# define grid\n",
    "weights = [0.1, 1, 10, 25, 50, 75, 100, 10.7]\n",
    "param_grid = dict(scale_pos_weight=weights)\n",
    "# define evaluation procedure\n",
    "cv = RepeatedStratifiedKFold(n_splits=10, n_repeats=3, random_state=1)\n",
    "# define grid search\n",
    "grid = GridSearchCV(estimator=model, param_grid=param_grid, n_jobs=-1, cv=cv, scoring='roc_auc')\n",
    "# execute the grid search\n",
    "grid_result = grid.fit(X_train, y_train)\n",
    "# report the best configuration\n",
    "print(\"Best: %f using %s\" % (grid_result.best_score_, grid_result.best_params_))\n",
    "# report all configurations\n",
    "means = grid_result.cv_results_['mean_test_score']\n",
    "stds = grid_result.cv_results_['std_test_score']\n",
    "params = grid_result.cv_results_['params']\n",
    "for mean, stdev, param in zip(means, stds, params):\n",
    "    print(\"%f (%f) with: %r\" % (mean, stdev, param))"
   ]
  },
  {
   "cell_type": "code",
   "execution_count": null,
   "id": "arabic-organ",
   "metadata": {},
   "outputs": [],
   "source": [
    "print(\"Best: %f using %s\" % (grid_result.best_score_, grid_result.best_params_))\n",
    "for mean, stdev, param in zip(means, stds, params):\n",
    "    print(\"%f (%f) with: %r\" % (mean, stdev, param))"
   ]
  },
  {
   "cell_type": "code",
   "execution_count": 12,
   "id": "integrated-customer",
   "metadata": {},
   "outputs": [],
   "source": [
    "partition = 422*8*530\n",
    "evaluation = 422*1*530\n",
    "total = 2239250\n",
    "\n",
    "X_train = X[:partition+evaluation]\n",
    "y_train = Y[:partition+evaluation]\n",
    "X_val = X[partition:]\n",
    "y_val = Y[partition:]"
   ]
  },
  {
   "cell_type": "code",
   "execution_count": 11,
   "id": "varied-teddy",
   "metadata": {},
   "outputs": [
    {
     "name": "stderr",
     "output_type": "stream",
     "text": [
      "/opt/conda/lib/python3.7/site-packages/xgboost/sklearn.py:888: UserWarning: The use of label encoder in XGBClassifier is deprecated and will be removed in a future release. To remove this warning, do the following: 1) Pass option use_label_encoder=False when constructing XGBClassifier object; and 2) Encode your labels (y) as integers starting with 0, i.e. 0, 1, 2, ..., [num_class - 1].\n",
      "  warnings.warn(label_encoder_deprecation_msg, UserWarning)\n"
     ]
    },
    {
     "name": "stdout",
     "output_type": "stream",
     "text": [
      "[15:49:12] WARNING: ../src/learner.cc:1061: Starting in XGBoost 1.3.0, the default evaluation metric used with the objective 'binary:logistic' was changed from 'error' to 'logloss'. Explicitly set eval_metric if you'd like to restore the old behavior.\n"
     ]
    }
   ],
   "source": [
    "model = XGBClassifier(scale_pos_weight=10.7).fit(X_train, y_train)"
   ]
  },
  {
   "cell_type": "code",
   "execution_count": 14,
   "id": "transparent-romania",
   "metadata": {},
   "outputs": [],
   "source": [
    "r = permutation_importance(model, X_val, y_val, n_repeats=30, random_state=0)"
   ]
  },
  {
   "cell_type": "code",
   "execution_count": 16,
   "id": "forced-jungle",
   "metadata": {},
   "outputs": [
    {
     "name": "stdout",
     "output_type": "stream",
     "text": [
      "[ 2.04235838e-04  9.29691609e-04  1.18393078e-03  1.72841152e-03\n",
      "  6.59525450e-04  3.01131187e-04 -8.48204695e-05  2.56661555e-03\n",
      "  2.83900408e-03  4.89980814e-03  4.63482751e-03  2.69757243e-02\n",
      "  3.00554852e-02]\n",
      "[8.43044226e-05 5.54890871e-05 6.92983724e-05 7.45956163e-05\n",
      " 7.76297511e-05 5.51241939e-05 4.85816581e-05 8.13568689e-05\n",
      " 8.59202867e-05 1.14531065e-04 1.30369044e-04 5.80429746e-05\n",
      " 6.43386354e-05]\n"
     ]
    }
   ],
   "source": [
    "print(r.importances_mean)\n",
    "print(r.importances_std)\n",
    "# for i in r.importances_mean.argsort()[::-1]:\n",
    "#     if r.importances_mean[i] - 2 * r.importances_std[i] > 0:\n",
    "#         print(f\"{diabetes.feature_names[i]:<8}\"\n",
    "#               f\"{r.importances_mean[i]:.3f}\"\n",
    "#               f\" +/- {r.importances_std[i]:.3f}\")"
   ]
  },
  {
   "cell_type": "code",
   "execution_count": 20,
   "id": "inside-drove",
   "metadata": {},
   "outputs": [],
   "source": [
    "four_time_importance = sum(r.importances_mean[:3])\n",
    "mic_importance = r.importances_mean[10]\n",
    "v_value_importance = sum(r.importances_mean[4:10])\n",
    "dtw_importance = r.importances_mean[11]\n",
    "sdtw_importance = r.importances_mean[12]"
   ]
  },
  {
   "cell_type": "code",
   "execution_count": 25,
   "id": "featured-generic",
   "metadata": {},
   "outputs": [],
   "source": [
    "importance = { \"four_time\": four_time_importance, \"mic\": mic_importance, \"v_value\": v_value_importance, \"dtw\": dtw_importance, \"sdtw\": sdtw_importance}"
   ]
  },
  {
   "cell_type": "code",
   "execution_count": 39,
   "id": "spanish-trustee",
   "metadata": {},
   "outputs": [],
   "source": [
    "importance = dict(sorted(importance.items(), key=lambda item: item[1], reverse=True))"
   ]
  },
  {
   "cell_type": "code",
   "execution_count": 40,
   "id": "dependent-signal",
   "metadata": {},
   "outputs": [
    {
     "data": {
      "text/plain": [
       "[0.03005548518049356,\n",
       " 0.02697572430754648,\n",
       " 0.011181263936114539,\n",
       " 0.004634827507019038,\n",
       " 0.002317858227585701]"
      ]
     },
     "execution_count": 40,
     "metadata": {},
     "output_type": "execute_result"
    }
   ],
   "source": [
    "list(importance.values())"
   ]
  },
  {
   "cell_type": "code",
   "execution_count": 44,
   "id": "basic-belle",
   "metadata": {},
   "outputs": [
    {
     "name": "stdout",
     "output_type": "stream",
     "text": [
      "Saving figure Permutation importance\n"
     ]
    },
    {
     "data": {
      "image/png": "[encoded data removed]",
      "text/plain": [
       "<Figure size 640x480 with 1 Axes>"
      ]
     },
     "metadata": {},
     "output_type": "display_data"
    }
   ],
   "source": [
    "y_label = list(importance.keys())\n",
    "y_pos = np.arange(len(importance))\n",
    "\n",
    "plt.rcdefaults()\n",
    "fig, ax = plt.subplots()\n",
    "\n",
    "ax.barh(y_pos, list(importance.values()), align='center')\n",
    "\n",
    "ax.set_yticks(y_pos)\n",
    "ax.set_yticklabels(y_label)\n",
    "\n",
    "ax.set_xlabel('Importance Mean')\n",
    "ax.set_title('Permutation importance')\n",
    "save_fig('Permutation importance')"
   ]
  },
  {
   "cell_type": "code",
   "execution_count": null,
   "id": "flexible-opinion",
   "metadata": {},
   "outputs": [],
   "source": []
  }
 ],
 "metadata": {
  "environment": {
   "name": "common-cpu.mnightly-2021-02-12-debian-10-test",
   "type": "gcloud",
   "uri": "gcr.io/deeplearning-platform-release/base-cpu:mnightly-2021-02-12-debian-10-test"
  },
  "kernelspec": {
   "display_name": "Python [conda env:root] *",
   "language": "python",
   "name": "conda-root-py"
  },
  "language_info": {
   "codemirror_mode": {
    "name": "ipython",
    "version": 3
   },
   "file_extension": ".py",
   "mimetype": "text/x-python",
   "name": "python",
   "nbconvert_exporter": "python",
   "pygments_lexer": "ipython3",
   "version": "3.7.9"
  }
 },
 "nbformat": 4,
 "nbformat_minor": 5
}
