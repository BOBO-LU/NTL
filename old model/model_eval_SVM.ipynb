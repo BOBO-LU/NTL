{
 "cells": [
  {
   "cell_type": "code",
   "execution_count": 1,
   "id": "frozen-possible",
   "metadata": {},
   "outputs": [],
   "source": [
    "import pandas as pd\n",
    "import numpy as np\n",
    "import os\n",
    "from sklearn.model_selection import RepeatedStratifiedKFold, cross_val_score, GridSearchCV\n",
    "from matplotlib import pyplot as plt\n",
    "from numpy import mean\n",
    "from sklearn.datasets import make_classification\n",
    "from xgboost import XGBClassifier\n",
    "from sklearn.ensemble import AdaBoostClassifier\n",
    "from sklearn.inspection import permutation_importance\n",
    "from sklearn.metrics import (accuracy_score, auc, f1_score, precision_score,\n",
    "                             recall_score, roc_auc_score, silhouette_score)\n",
    "from sklearn.model_selection import (GridSearchCV, RepeatedStratifiedKFold,\n",
    "                                     ShuffleSplit, StratifiedShuffleSplit,\n",
    "                                     cross_val_score)\n",
    "from sklearn.svm import LinearSVC, SVC\n",
    "from datetime import datetime"
   ]
  },
  {
   "cell_type": "code",
   "execution_count": 2,
   "id": "extraordinary-singapore",
   "metadata": {},
   "outputs": [],
   "source": [
    "IMAGES_PATH = \"\""
   ]
  },
  {
   "cell_type": "code",
   "execution_count": 3,
   "id": "gorgeous-sullivan",
   "metadata": {},
   "outputs": [],
   "source": [
    "def concat_two_df_and_drop_same_column_in_df2(DF1, DF2):\n",
    "    display(DF1.head(1))\n",
    "    display(DF2.head(1))\n",
    "    DF2.drop(DF2.columns[DF2.columns.isin(DF1.columns)],axis=1,inplace=True)\n",
    "#     DF1.drop(DF1.columns[DF1.columns.isin(DF2.columns)],axis=1,inplace=True)\n",
    "    result = pd.concat([DF1, DF2], axis=1)\n",
    "    display(result.head(1))\n",
    "    return result\n",
    "def count_list_val(arr):\n",
    "    values, counts = np.unique(arr, return_counts=True)\n",
    "    print(values, counts)\n",
    "def timer(start_time=None):\n",
    "    if not start_time:\n",
    "        start_time = datetime.now()\n",
    "        return start_time\n",
    "    elif start_time:\n",
    "        thour, temp_sec = divmod((datetime.now() - start_time).total_seconds(), 3600)\n",
    "        tmin, tsec = divmod(temp_sec, 60)\n",
    "        print('\\n Time taken: %i hours %i minutes and %s seconds.' % (thour, tmin, round(tsec, 2)))"
   ]
  },
  {
   "cell_type": "code",
   "execution_count": 4,
   "id": "focal-melbourne",
   "metadata": {},
   "outputs": [],
   "source": [
    "four_time = pd.read_csv(\"../CSV/four_time.csv\")\n",
    "v_value = pd.read_csv(\"../CSV/v_value.csv\")\n",
    "mic = pd.read_csv(\"../CSV/mic.csv\")\n",
    "dwt_distance = pd.read_csv(\"../CSV/sdtw_day_score_df.csv\")\n",
    "smart_meter = pd.read_csv(\"../smart_meter.csv\")"
   ]
  },
  {
   "cell_type": "code",
   "execution_count": 5,
   "id": "physical-victoria",
   "metadata": {},
   "outputs": [],
   "source": [
    "fdi = pd.read_csv(\"../CSV/FDI.csv\")"
   ]
  },
  {
   "cell_type": "code",
   "execution_count": 6,
   "id": "human-biodiversity",
   "metadata": {},
   "outputs": [
    {
     "data": {
      "text/plain": [
       "((2239250, 7),\n",
       " (2239250, 9),\n",
       " (2239250, 4),\n",
       " (2239250, 5),\n",
       " (2239250, 3),\n",
       " (107484000, 5))"
      ]
     },
     "execution_count": 6,
     "metadata": {},
     "output_type": "execute_result"
    }
   ],
   "source": [
    "four_time.shape, v_value.shape, mic.shape, dwt_distance.shape, fdi.shape, smart_meter.shape"
   ]
  },
  {
   "cell_type": "code",
   "execution_count": 7,
   "id": "weekly-honolulu",
   "metadata": {},
   "outputs": [
    {
     "data": {
      "text/html": [
       "<div>\n",
       "<style scoped>\n",
       "    .dataframe tbody tr th:only-of-type {\n",
       "        vertical-align: middle;\n",
       "    }\n",
       "\n",
       "    .dataframe tbody tr th {\n",
       "        vertical-align: top;\n",
       "    }\n",
       "\n",
       "    .dataframe thead th {\n",
       "        text-align: right;\n",
       "    }\n",
       "</style>\n",
       "<table border=\"1\" class=\"dataframe\">\n",
       "  <thead>\n",
       "    <tr style=\"text-align: right;\">\n",
       "      <th></th>\n",
       "      <th>MeterID</th>\n",
       "      <th>Day</th>\n",
       "      <th>FDI</th>\n",
       "    </tr>\n",
       "  </thead>\n",
       "  <tbody>\n",
       "    <tr>\n",
       "      <th>0</th>\n",
       "      <td>1236</td>\n",
       "      <td>2009-07-15</td>\n",
       "      <td>1.0</td>\n",
       "    </tr>\n",
       "  </tbody>\n",
       "</table>\n",
       "</div>"
      ],
      "text/plain": [
       "   MeterID         Day  FDI\n",
       "0     1236  2009-07-15  1.0"
      ]
     },
     "metadata": {},
     "output_type": "display_data"
    },
    {
     "data": {
      "text/html": [
       "<div>\n",
       "<style scoped>\n",
       "    .dataframe tbody tr th:only-of-type {\n",
       "        vertical-align: middle;\n",
       "    }\n",
       "\n",
       "    .dataframe tbody tr th {\n",
       "        vertical-align: top;\n",
       "    }\n",
       "\n",
       "    .dataframe thead th {\n",
       "        text-align: right;\n",
       "    }\n",
       "</style>\n",
       "<table border=\"1\" class=\"dataframe\">\n",
       "  <thead>\n",
       "    <tr style=\"text-align: right;\">\n",
       "      <th></th>\n",
       "      <th>MeterID</th>\n",
       "      <th>Day</th>\n",
       "      <th>FDI</th>\n",
       "      <th>Tmax1</th>\n",
       "      <th>Tmax2</th>\n",
       "      <th>Tmin1</th>\n",
       "      <th>Cmax1</th>\n",
       "      <th>Cmax2</th>\n",
       "      <th>Cmin1</th>\n",
       "    </tr>\n",
       "  </thead>\n",
       "  <tbody>\n",
       "    <tr>\n",
       "      <th>0</th>\n",
       "      <td>5212</td>\n",
       "      <td>2010-12-31</td>\n",
       "      <td>True</td>\n",
       "      <td>12</td>\n",
       "      <td>30</td>\n",
       "      <td>15</td>\n",
       "      <td>0.046464</td>\n",
       "      <td>0.047532</td>\n",
       "      <td>0.013561</td>\n",
       "    </tr>\n",
       "  </tbody>\n",
       "</table>\n",
       "</div>"
      ],
      "text/plain": [
       "   MeterID         Day   FDI  Tmax1  Tmax2  Tmin1     Cmax1     Cmax2  \\\n",
       "0     5212  2010-12-31  True     12     30     15  0.046464  0.047532   \n",
       "\n",
       "      Cmin1  \n",
       "0  0.013561  "
      ]
     },
     "metadata": {},
     "output_type": "display_data"
    },
    {
     "data": {
      "text/html": [
       "<div>\n",
       "<style scoped>\n",
       "    .dataframe tbody tr th:only-of-type {\n",
       "        vertical-align: middle;\n",
       "    }\n",
       "\n",
       "    .dataframe tbody tr th {\n",
       "        vertical-align: top;\n",
       "    }\n",
       "\n",
       "    .dataframe thead th {\n",
       "        text-align: right;\n",
       "    }\n",
       "</style>\n",
       "<table border=\"1\" class=\"dataframe\">\n",
       "  <thead>\n",
       "    <tr style=\"text-align: right;\">\n",
       "      <th></th>\n",
       "      <th>MeterID</th>\n",
       "      <th>Day</th>\n",
       "      <th>FDI</th>\n",
       "      <th>Tmax1</th>\n",
       "      <th>Tmax2</th>\n",
       "      <th>Tmin1</th>\n",
       "      <th>Cmax1</th>\n",
       "      <th>Cmax2</th>\n",
       "      <th>Cmin1</th>\n",
       "    </tr>\n",
       "  </thead>\n",
       "  <tbody>\n",
       "    <tr>\n",
       "      <th>0</th>\n",
       "      <td>1236</td>\n",
       "      <td>2009-07-15</td>\n",
       "      <td>1.0</td>\n",
       "      <td>12</td>\n",
       "      <td>30</td>\n",
       "      <td>15</td>\n",
       "      <td>0.046464</td>\n",
       "      <td>0.047532</td>\n",
       "      <td>0.013561</td>\n",
       "    </tr>\n",
       "  </tbody>\n",
       "</table>\n",
       "</div>"
      ],
      "text/plain": [
       "   MeterID         Day  FDI  Tmax1  Tmax2  Tmin1     Cmax1     Cmax2     Cmin1\n",
       "0     1236  2009-07-15  1.0     12     30     15  0.046464  0.047532  0.013561"
      ]
     },
     "metadata": {},
     "output_type": "display_data"
    },
    {
     "data": {
      "text/html": [
       "<div>\n",
       "<style scoped>\n",
       "    .dataframe tbody tr th:only-of-type {\n",
       "        vertical-align: middle;\n",
       "    }\n",
       "\n",
       "    .dataframe tbody tr th {\n",
       "        vertical-align: top;\n",
       "    }\n",
       "\n",
       "    .dataframe thead th {\n",
       "        text-align: right;\n",
       "    }\n",
       "</style>\n",
       "<table border=\"1\" class=\"dataframe\">\n",
       "  <thead>\n",
       "    <tr style=\"text-align: right;\">\n",
       "      <th></th>\n",
       "      <th>MeterID</th>\n",
       "      <th>Day</th>\n",
       "      <th>FDI</th>\n",
       "      <th>Tmax1</th>\n",
       "      <th>Tmax2</th>\n",
       "      <th>Tmin1</th>\n",
       "      <th>Cmax1</th>\n",
       "      <th>Cmax2</th>\n",
       "      <th>Cmin1</th>\n",
       "    </tr>\n",
       "  </thead>\n",
       "  <tbody>\n",
       "    <tr>\n",
       "      <th>0</th>\n",
       "      <td>1236</td>\n",
       "      <td>2009-07-15</td>\n",
       "      <td>1.0</td>\n",
       "      <td>12</td>\n",
       "      <td>30</td>\n",
       "      <td>15</td>\n",
       "      <td>0.046464</td>\n",
       "      <td>0.047532</td>\n",
       "      <td>0.013561</td>\n",
       "    </tr>\n",
       "  </tbody>\n",
       "</table>\n",
       "</div>"
      ],
      "text/plain": [
       "   MeterID         Day  FDI  Tmax1  Tmax2  Tmin1     Cmax1     Cmax2     Cmin1\n",
       "0     1236  2009-07-15  1.0     12     30     15  0.046464  0.047532  0.013561"
      ]
     },
     "metadata": {},
     "output_type": "display_data"
    },
    {
     "data": {
      "text/html": [
       "<div>\n",
       "<style scoped>\n",
       "    .dataframe tbody tr th:only-of-type {\n",
       "        vertical-align: middle;\n",
       "    }\n",
       "\n",
       "    .dataframe tbody tr th {\n",
       "        vertical-align: top;\n",
       "    }\n",
       "\n",
       "    .dataframe thead th {\n",
       "        text-align: right;\n",
       "    }\n",
       "</style>\n",
       "<table border=\"1\" class=\"dataframe\">\n",
       "  <thead>\n",
       "    <tr style=\"text-align: right;\">\n",
       "      <th></th>\n",
       "      <th>MeterID</th>\n",
       "      <th>Day</th>\n",
       "      <th>FDI</th>\n",
       "      <th>overnight</th>\n",
       "      <th>breakfast</th>\n",
       "      <th>daytime</th>\n",
       "      <th>evening</th>\n",
       "    </tr>\n",
       "  </thead>\n",
       "  <tbody>\n",
       "    <tr>\n",
       "      <th>0</th>\n",
       "      <td>1236</td>\n",
       "      <td>2009-07-15</td>\n",
       "      <td>True</td>\n",
       "      <td>5.380015</td>\n",
       "      <td>15.5</td>\n",
       "      <td>24.5</td>\n",
       "      <td>38.0</td>\n",
       "    </tr>\n",
       "  </tbody>\n",
       "</table>\n",
       "</div>"
      ],
      "text/plain": [
       "   MeterID         Day   FDI  overnight  breakfast  daytime  evening\n",
       "0     1236  2009-07-15  True   5.380015       15.5     24.5     38.0"
      ]
     },
     "metadata": {},
     "output_type": "display_data"
    },
    {
     "data": {
      "text/html": [
       "<div>\n",
       "<style scoped>\n",
       "    .dataframe tbody tr th:only-of-type {\n",
       "        vertical-align: middle;\n",
       "    }\n",
       "\n",
       "    .dataframe tbody tr th {\n",
       "        vertical-align: top;\n",
       "    }\n",
       "\n",
       "    .dataframe thead th {\n",
       "        text-align: right;\n",
       "    }\n",
       "</style>\n",
       "<table border=\"1\" class=\"dataframe\">\n",
       "  <thead>\n",
       "    <tr style=\"text-align: right;\">\n",
       "      <th></th>\n",
       "      <th>MeterID</th>\n",
       "      <th>Day</th>\n",
       "      <th>FDI</th>\n",
       "      <th>Tmax1</th>\n",
       "      <th>Tmax2</th>\n",
       "      <th>Tmin1</th>\n",
       "      <th>Cmax1</th>\n",
       "      <th>Cmax2</th>\n",
       "      <th>Cmin1</th>\n",
       "      <th>overnight</th>\n",
       "      <th>breakfast</th>\n",
       "      <th>daytime</th>\n",
       "      <th>evening</th>\n",
       "    </tr>\n",
       "  </thead>\n",
       "  <tbody>\n",
       "    <tr>\n",
       "      <th>0</th>\n",
       "      <td>1236</td>\n",
       "      <td>2009-07-15</td>\n",
       "      <td>1.0</td>\n",
       "      <td>12</td>\n",
       "      <td>30</td>\n",
       "      <td>15</td>\n",
       "      <td>0.046464</td>\n",
       "      <td>0.047532</td>\n",
       "      <td>0.013561</td>\n",
       "      <td>5.380015</td>\n",
       "      <td>15.5</td>\n",
       "      <td>24.5</td>\n",
       "      <td>38.0</td>\n",
       "    </tr>\n",
       "  </tbody>\n",
       "</table>\n",
       "</div>"
      ],
      "text/plain": [
       "   MeterID         Day  FDI  Tmax1  Tmax2  Tmin1     Cmax1     Cmax2  \\\n",
       "0     1236  2009-07-15  1.0     12     30     15  0.046464  0.047532   \n",
       "\n",
       "      Cmin1  overnight  breakfast  daytime  evening  \n",
       "0  0.013561   5.380015       15.5     24.5     38.0  "
      ]
     },
     "metadata": {},
     "output_type": "display_data"
    },
    {
     "data": {
      "text/html": [
       "<div>\n",
       "<style scoped>\n",
       "    .dataframe tbody tr th:only-of-type {\n",
       "        vertical-align: middle;\n",
       "    }\n",
       "\n",
       "    .dataframe tbody tr th {\n",
       "        vertical-align: top;\n",
       "    }\n",
       "\n",
       "    .dataframe thead th {\n",
       "        text-align: right;\n",
       "    }\n",
       "</style>\n",
       "<table border=\"1\" class=\"dataframe\">\n",
       "  <thead>\n",
       "    <tr style=\"text-align: right;\">\n",
       "      <th></th>\n",
       "      <th>MeterID</th>\n",
       "      <th>Day</th>\n",
       "      <th>FDI</th>\n",
       "      <th>Tmax1</th>\n",
       "      <th>Tmax2</th>\n",
       "      <th>Tmin1</th>\n",
       "      <th>Cmax1</th>\n",
       "      <th>Cmax2</th>\n",
       "      <th>Cmin1</th>\n",
       "      <th>overnight</th>\n",
       "      <th>breakfast</th>\n",
       "      <th>daytime</th>\n",
       "      <th>evening</th>\n",
       "    </tr>\n",
       "  </thead>\n",
       "  <tbody>\n",
       "    <tr>\n",
       "      <th>0</th>\n",
       "      <td>1236</td>\n",
       "      <td>2009-07-15</td>\n",
       "      <td>1.0</td>\n",
       "      <td>12</td>\n",
       "      <td>30</td>\n",
       "      <td>15</td>\n",
       "      <td>0.046464</td>\n",
       "      <td>0.047532</td>\n",
       "      <td>0.013561</td>\n",
       "      <td>5.380015</td>\n",
       "      <td>15.5</td>\n",
       "      <td>24.5</td>\n",
       "      <td>38.0</td>\n",
       "    </tr>\n",
       "  </tbody>\n",
       "</table>\n",
       "</div>"
      ],
      "text/plain": [
       "   MeterID         Day  FDI  Tmax1  Tmax2  Tmin1     Cmax1     Cmax2  \\\n",
       "0     1236  2009-07-15  1.0     12     30     15  0.046464  0.047532   \n",
       "\n",
       "      Cmin1  overnight  breakfast  daytime  evening  \n",
       "0  0.013561   5.380015       15.5     24.5     38.0  "
      ]
     },
     "metadata": {},
     "output_type": "display_data"
    },
    {
     "data": {
      "text/html": [
       "<div>\n",
       "<style scoped>\n",
       "    .dataframe tbody tr th:only-of-type {\n",
       "        vertical-align: middle;\n",
       "    }\n",
       "\n",
       "    .dataframe tbody tr th {\n",
       "        vertical-align: top;\n",
       "    }\n",
       "\n",
       "    .dataframe thead th {\n",
       "        text-align: right;\n",
       "    }\n",
       "</style>\n",
       "<table border=\"1\" class=\"dataframe\">\n",
       "  <thead>\n",
       "    <tr style=\"text-align: right;\">\n",
       "      <th></th>\n",
       "      <th>MeterID</th>\n",
       "      <th>Day</th>\n",
       "      <th>FDI</th>\n",
       "      <th>mic</th>\n",
       "    </tr>\n",
       "  </thead>\n",
       "  <tbody>\n",
       "    <tr>\n",
       "      <th>0</th>\n",
       "      <td>1236</td>\n",
       "      <td>2009-07-15</td>\n",
       "      <td>True</td>\n",
       "      <td>0.624128</td>\n",
       "    </tr>\n",
       "  </tbody>\n",
       "</table>\n",
       "</div>"
      ],
      "text/plain": [
       "   MeterID         Day   FDI       mic\n",
       "0     1236  2009-07-15  True  0.624128"
      ]
     },
     "metadata": {},
     "output_type": "display_data"
    },
    {
     "data": {
      "text/html": [
       "<div>\n",
       "<style scoped>\n",
       "    .dataframe tbody tr th:only-of-type {\n",
       "        vertical-align: middle;\n",
       "    }\n",
       "\n",
       "    .dataframe tbody tr th {\n",
       "        vertical-align: top;\n",
       "    }\n",
       "\n",
       "    .dataframe thead th {\n",
       "        text-align: right;\n",
       "    }\n",
       "</style>\n",
       "<table border=\"1\" class=\"dataframe\">\n",
       "  <thead>\n",
       "    <tr style=\"text-align: right;\">\n",
       "      <th></th>\n",
       "      <th>MeterID</th>\n",
       "      <th>Day</th>\n",
       "      <th>FDI</th>\n",
       "      <th>Tmax1</th>\n",
       "      <th>Tmax2</th>\n",
       "      <th>Tmin1</th>\n",
       "      <th>Cmax1</th>\n",
       "      <th>Cmax2</th>\n",
       "      <th>Cmin1</th>\n",
       "      <th>overnight</th>\n",
       "      <th>breakfast</th>\n",
       "      <th>daytime</th>\n",
       "      <th>evening</th>\n",
       "      <th>mic</th>\n",
       "    </tr>\n",
       "  </thead>\n",
       "  <tbody>\n",
       "    <tr>\n",
       "      <th>0</th>\n",
       "      <td>1236</td>\n",
       "      <td>2009-07-15</td>\n",
       "      <td>1.0</td>\n",
       "      <td>12</td>\n",
       "      <td>30</td>\n",
       "      <td>15</td>\n",
       "      <td>0.046464</td>\n",
       "      <td>0.047532</td>\n",
       "      <td>0.013561</td>\n",
       "      <td>5.380015</td>\n",
       "      <td>15.5</td>\n",
       "      <td>24.5</td>\n",
       "      <td>38.0</td>\n",
       "      <td>0.624128</td>\n",
       "    </tr>\n",
       "  </tbody>\n",
       "</table>\n",
       "</div>"
      ],
      "text/plain": [
       "   MeterID         Day  FDI  Tmax1  Tmax2  Tmin1     Cmax1     Cmax2  \\\n",
       "0     1236  2009-07-15  1.0     12     30     15  0.046464  0.047532   \n",
       "\n",
       "      Cmin1  overnight  breakfast  daytime  evening       mic  \n",
       "0  0.013561   5.380015       15.5     24.5     38.0  0.624128  "
      ]
     },
     "metadata": {},
     "output_type": "display_data"
    },
    {
     "data": {
      "text/html": [
       "<div>\n",
       "<style scoped>\n",
       "    .dataframe tbody tr th:only-of-type {\n",
       "        vertical-align: middle;\n",
       "    }\n",
       "\n",
       "    .dataframe tbody tr th {\n",
       "        vertical-align: top;\n",
       "    }\n",
       "\n",
       "    .dataframe thead th {\n",
       "        text-align: right;\n",
       "    }\n",
       "</style>\n",
       "<table border=\"1\" class=\"dataframe\">\n",
       "  <thead>\n",
       "    <tr style=\"text-align: right;\">\n",
       "      <th></th>\n",
       "      <th>MeterID</th>\n",
       "      <th>Day</th>\n",
       "      <th>FDI</th>\n",
       "      <th>Tmax1</th>\n",
       "      <th>Tmax2</th>\n",
       "      <th>Tmin1</th>\n",
       "      <th>Cmax1</th>\n",
       "      <th>Cmax2</th>\n",
       "      <th>Cmin1</th>\n",
       "      <th>overnight</th>\n",
       "      <th>breakfast</th>\n",
       "      <th>daytime</th>\n",
       "      <th>evening</th>\n",
       "      <th>mic</th>\n",
       "    </tr>\n",
       "  </thead>\n",
       "  <tbody>\n",
       "    <tr>\n",
       "      <th>0</th>\n",
       "      <td>1236</td>\n",
       "      <td>2009-07-15</td>\n",
       "      <td>1.0</td>\n",
       "      <td>12</td>\n",
       "      <td>30</td>\n",
       "      <td>15</td>\n",
       "      <td>0.046464</td>\n",
       "      <td>0.047532</td>\n",
       "      <td>0.013561</td>\n",
       "      <td>5.380015</td>\n",
       "      <td>15.5</td>\n",
       "      <td>24.5</td>\n",
       "      <td>38.0</td>\n",
       "      <td>0.624128</td>\n",
       "    </tr>\n",
       "  </tbody>\n",
       "</table>\n",
       "</div>"
      ],
      "text/plain": [
       "   MeterID         Day  FDI  Tmax1  Tmax2  Tmin1     Cmax1     Cmax2  \\\n",
       "0     1236  2009-07-15  1.0     12     30     15  0.046464  0.047532   \n",
       "\n",
       "      Cmin1  overnight  breakfast  daytime  evening       mic  \n",
       "0  0.013561   5.380015       15.5     24.5     38.0  0.624128  "
      ]
     },
     "metadata": {},
     "output_type": "display_data"
    },
    {
     "data": {
      "text/html": [
       "<div>\n",
       "<style scoped>\n",
       "    .dataframe tbody tr th:only-of-type {\n",
       "        vertical-align: middle;\n",
       "    }\n",
       "\n",
       "    .dataframe tbody tr th {\n",
       "        vertical-align: top;\n",
       "    }\n",
       "\n",
       "    .dataframe thead th {\n",
       "        text-align: right;\n",
       "    }\n",
       "</style>\n",
       "<table border=\"1\" class=\"dataframe\">\n",
       "  <thead>\n",
       "    <tr style=\"text-align: right;\">\n",
       "      <th></th>\n",
       "      <th>MeterID</th>\n",
       "      <th>Day</th>\n",
       "      <th>FDI</th>\n",
       "      <th>meter_dtw</th>\n",
       "      <th>meter_sdtw</th>\n",
       "    </tr>\n",
       "  </thead>\n",
       "  <tbody>\n",
       "    <tr>\n",
       "      <th>0</th>\n",
       "      <td>1236</td>\n",
       "      <td>2009-07-15</td>\n",
       "      <td>True</td>\n",
       "      <td>2.283294</td>\n",
       "      <td>-68.276715</td>\n",
       "    </tr>\n",
       "  </tbody>\n",
       "</table>\n",
       "</div>"
      ],
      "text/plain": [
       "   MeterID         Day   FDI  meter_dtw  meter_sdtw\n",
       "0     1236  2009-07-15  True   2.283294  -68.276715"
      ]
     },
     "metadata": {},
     "output_type": "display_data"
    },
    {
     "data": {
      "text/html": [
       "<div>\n",
       "<style scoped>\n",
       "    .dataframe tbody tr th:only-of-type {\n",
       "        vertical-align: middle;\n",
       "    }\n",
       "\n",
       "    .dataframe tbody tr th {\n",
       "        vertical-align: top;\n",
       "    }\n",
       "\n",
       "    .dataframe thead th {\n",
       "        text-align: right;\n",
       "    }\n",
       "</style>\n",
       "<table border=\"1\" class=\"dataframe\">\n",
       "  <thead>\n",
       "    <tr style=\"text-align: right;\">\n",
       "      <th></th>\n",
       "      <th>MeterID</th>\n",
       "      <th>Day</th>\n",
       "      <th>FDI</th>\n",
       "      <th>Tmax1</th>\n",
       "      <th>Tmax2</th>\n",
       "      <th>Tmin1</th>\n",
       "      <th>Cmax1</th>\n",
       "      <th>Cmax2</th>\n",
       "      <th>Cmin1</th>\n",
       "      <th>overnight</th>\n",
       "      <th>breakfast</th>\n",
       "      <th>daytime</th>\n",
       "      <th>evening</th>\n",
       "      <th>mic</th>\n",
       "      <th>meter_dtw</th>\n",
       "      <th>meter_sdtw</th>\n",
       "    </tr>\n",
       "  </thead>\n",
       "  <tbody>\n",
       "    <tr>\n",
       "      <th>0</th>\n",
       "      <td>1236</td>\n",
       "      <td>2009-07-15</td>\n",
       "      <td>1.0</td>\n",
       "      <td>12</td>\n",
       "      <td>30</td>\n",
       "      <td>15</td>\n",
       "      <td>0.046464</td>\n",
       "      <td>0.047532</td>\n",
       "      <td>0.013561</td>\n",
       "      <td>5.380015</td>\n",
       "      <td>15.5</td>\n",
       "      <td>24.5</td>\n",
       "      <td>38.0</td>\n",
       "      <td>0.624128</td>\n",
       "      <td>2.283294</td>\n",
       "      <td>-68.276715</td>\n",
       "    </tr>\n",
       "  </tbody>\n",
       "</table>\n",
       "</div>"
      ],
      "text/plain": [
       "   MeterID         Day  FDI  Tmax1  Tmax2  Tmin1     Cmax1     Cmax2  \\\n",
       "0     1236  2009-07-15  1.0     12     30     15  0.046464  0.047532   \n",
       "\n",
       "      Cmin1  overnight  breakfast  daytime  evening       mic  meter_dtw  \\\n",
       "0  0.013561   5.380015       15.5     24.5     38.0  0.624128   2.283294   \n",
       "\n",
       "   meter_sdtw  \n",
       "0  -68.276715  "
      ]
     },
     "metadata": {},
     "output_type": "display_data"
    },
    {
     "data": {
      "text/plain": [
       "Index(['MeterID', 'Day', 'FDI', 'Tmax1', 'Tmax2', 'Tmin1', 'Cmax1', 'Cmax2',\n",
       "       'Cmin1', 'overnight', 'breakfast', 'daytime', 'evening', 'mic',\n",
       "       'meter_dtw', 'meter_sdtw'],\n",
       "      dtype='object')"
      ]
     },
     "execution_count": 7,
     "metadata": {},
     "output_type": "execute_result"
    }
   ],
   "source": [
    "result = concat_two_df_and_drop_same_column_in_df2(fdi, v_value)\n",
    "result = concat_two_df_and_drop_same_column_in_df2(result, four_time)\n",
    "result = concat_two_df_and_drop_same_column_in_df2(result, mic)\n",
    "result = concat_two_df_and_drop_same_column_in_df2(result, dwt_distance)\n",
    "result.columns"
   ]
  },
  {
   "cell_type": "code",
   "execution_count": 8,
   "id": "premier-found",
   "metadata": {},
   "outputs": [],
   "source": [
    "df = result\n",
    "X = df[['overnight', 'breakfast', 'daytime', 'evening',\n",
    "       'Tmax1', 'Tmax2', 'Tmin1', 'Cmax1', 'Cmax2', 'Cmin1', 'mic',\n",
    "       'meter_dtw', 'meter_sdtw']]\n",
    "Y = df[[\"FDI\"]]\n",
    "\n",
    "partition = 422*8*530\n",
    "evaluation = 422*1*530\n",
    "total = 2239250\n",
    "\n",
    "\n",
    "X_train = X[:partition]\n",
    "X_val = X[partition:total-evaluation]\n",
    "X_test = X[total-evaluation: total]\n",
    "y_train = Y[:partition]\n",
    "y_val = Y[partition:total-evaluation]\n",
    "y_test = Y[total-evaluation: total]\n",
    "# y_train = np.array(Y[:partition]).reshape(-1) \n",
    "# y_val = np.array(Y[partition:total-evaluation]).reshape(-1) \n",
    "# y_test = np.array(Y[total-evaluation: total]).reshape(-1) "
   ]
  },
  {
   "cell_type": "code",
   "execution_count": 9,
   "id": "selective-greenhouse",
   "metadata": {},
   "outputs": [
    {
     "name": "stdout",
     "output_type": "stream",
     "text": [
      "[0. 1.] [2127950  111300]\n"
     ]
    }
   ],
   "source": [
    "count_list_val(Y)"
   ]
  },
  {
   "cell_type": "markdown",
   "id": "certain-efficiency",
   "metadata": {},
   "source": [
    "### read smart_meter.csv and preprocess"
   ]
  },
  {
   "cell_type": "code",
   "execution_count": 10,
   "id": "absolute-repository",
   "metadata": {},
   "outputs": [
    {
     "name": "stdout",
     "output_type": "stream",
     "text": [
      "(2239250, 48)\n"
     ]
    },
    {
     "data": {
      "text/html": [
       "<div>\n",
       "<style scoped>\n",
       "    .dataframe tbody tr th:only-of-type {\n",
       "        vertical-align: middle;\n",
       "    }\n",
       "\n",
       "    .dataframe tbody tr th {\n",
       "        vertical-align: top;\n",
       "    }\n",
       "\n",
       "    .dataframe thead th {\n",
       "        text-align: right;\n",
       "    }\n",
       "</style>\n",
       "<table border=\"1\" class=\"dataframe\">\n",
       "  <thead>\n",
       "    <tr style=\"text-align: right;\">\n",
       "      <th></th>\n",
       "      <th>0</th>\n",
       "      <th>1</th>\n",
       "      <th>2</th>\n",
       "      <th>3</th>\n",
       "      <th>4</th>\n",
       "      <th>5</th>\n",
       "      <th>6</th>\n",
       "      <th>7</th>\n",
       "      <th>8</th>\n",
       "      <th>9</th>\n",
       "      <th>...</th>\n",
       "      <th>38</th>\n",
       "      <th>39</th>\n",
       "      <th>40</th>\n",
       "      <th>41</th>\n",
       "      <th>42</th>\n",
       "      <th>43</th>\n",
       "      <th>44</th>\n",
       "      <th>45</th>\n",
       "      <th>46</th>\n",
       "      <th>47</th>\n",
       "    </tr>\n",
       "  </thead>\n",
       "  <tbody>\n",
       "    <tr>\n",
       "      <th>0</th>\n",
       "      <td>0.13407</td>\n",
       "      <td>0.129562</td>\n",
       "      <td>0.113616</td>\n",
       "      <td>0.18602</td>\n",
       "      <td>0.075942</td>\n",
       "      <td>0.133117</td>\n",
       "      <td>0.062728</td>\n",
       "      <td>0.064174</td>\n",
       "      <td>0.143932</td>\n",
       "      <td>0.142687</td>\n",
       "      <td>...</td>\n",
       "      <td>0.159253</td>\n",
       "      <td>0.154713</td>\n",
       "      <td>0.118059</td>\n",
       "      <td>0.13057</td>\n",
       "      <td>0.118797</td>\n",
       "      <td>0.056694</td>\n",
       "      <td>0.106094</td>\n",
       "      <td>0.08098</td>\n",
       "      <td>0.068501</td>\n",
       "      <td>0.204674</td>\n",
       "    </tr>\n",
       "    <tr>\n",
       "      <th>1</th>\n",
       "      <td>0.48300</td>\n",
       "      <td>0.062000</td>\n",
       "      <td>0.035000</td>\n",
       "      <td>0.06800</td>\n",
       "      <td>0.026000</td>\n",
       "      <td>0.013000</td>\n",
       "      <td>0.063000</td>\n",
       "      <td>0.063000</td>\n",
       "      <td>0.013000</td>\n",
       "      <td>0.013000</td>\n",
       "      <td>...</td>\n",
       "      <td>0.138000</td>\n",
       "      <td>0.099000</td>\n",
       "      <td>0.118000</td>\n",
       "      <td>0.16400</td>\n",
       "      <td>0.218000</td>\n",
       "      <td>0.412000</td>\n",
       "      <td>0.253000</td>\n",
       "      <td>0.61000</td>\n",
       "      <td>0.582000</td>\n",
       "      <td>0.292000</td>\n",
       "    </tr>\n",
       "    <tr>\n",
       "      <th>2</th>\n",
       "      <td>0.11400</td>\n",
       "      <td>0.041000</td>\n",
       "      <td>0.012000</td>\n",
       "      <td>0.04000</td>\n",
       "      <td>0.067000</td>\n",
       "      <td>0.017000</td>\n",
       "      <td>0.012000</td>\n",
       "      <td>0.064000</td>\n",
       "      <td>0.058000</td>\n",
       "      <td>0.012000</td>\n",
       "      <td>...</td>\n",
       "      <td>0.110000</td>\n",
       "      <td>0.104000</td>\n",
       "      <td>0.164000</td>\n",
       "      <td>0.40100</td>\n",
       "      <td>0.104000</td>\n",
       "      <td>0.138000</td>\n",
       "      <td>0.206000</td>\n",
       "      <td>0.36300</td>\n",
       "      <td>0.526000</td>\n",
       "      <td>0.326000</td>\n",
       "    </tr>\n",
       "  </tbody>\n",
       "</table>\n",
       "<p>3 rows × 48 columns</p>\n",
       "</div>"
      ],
      "text/plain": [
       "        0         1         2        3         4         5         6   \\\n",
       "0  0.13407  0.129562  0.113616  0.18602  0.075942  0.133117  0.062728   \n",
       "1  0.48300  0.062000  0.035000  0.06800  0.026000  0.013000  0.063000   \n",
       "2  0.11400  0.041000  0.012000  0.04000  0.067000  0.017000  0.012000   \n",
       "\n",
       "         7         8         9   ...        38        39        40       41  \\\n",
       "0  0.064174  0.143932  0.142687  ...  0.159253  0.154713  0.118059  0.13057   \n",
       "1  0.063000  0.013000  0.013000  ...  0.138000  0.099000  0.118000  0.16400   \n",
       "2  0.064000  0.058000  0.012000  ...  0.110000  0.104000  0.164000  0.40100   \n",
       "\n",
       "         42        43        44       45        46        47  \n",
       "0  0.118797  0.056694  0.106094  0.08098  0.068501  0.204674  \n",
       "1  0.218000  0.412000  0.253000  0.61000  0.582000  0.292000  \n",
       "2  0.104000  0.138000  0.206000  0.36300  0.526000  0.326000  \n",
       "\n",
       "[3 rows x 48 columns]"
      ]
     },
     "metadata": {},
     "output_type": "display_data"
    }
   ],
   "source": [
    "elec = smart_meter['Electricity']\n",
    "elec = np.array(elec).reshape(-1, 48)\n",
    "elec = pd.DataFrame(elec)\n",
    "print(elec.shape)\n",
    "display(elec.head(3))"
   ]
  },
  {
   "cell_type": "code",
   "execution_count": 11,
   "id": "white-single",
   "metadata": {},
   "outputs": [
    {
     "data": {
      "text/html": [
       "<div>\n",
       "<style scoped>\n",
       "    .dataframe tbody tr th:only-of-type {\n",
       "        vertical-align: middle;\n",
       "    }\n",
       "\n",
       "    .dataframe tbody tr th {\n",
       "        vertical-align: top;\n",
       "    }\n",
       "\n",
       "    .dataframe thead th {\n",
       "        text-align: right;\n",
       "    }\n",
       "</style>\n",
       "<table border=\"1\" class=\"dataframe\">\n",
       "  <thead>\n",
       "    <tr style=\"text-align: right;\">\n",
       "      <th></th>\n",
       "      <th>MeterID</th>\n",
       "      <th>Day</th>\n",
       "      <th>FDI</th>\n",
       "      <th>Tmax1</th>\n",
       "      <th>Tmax2</th>\n",
       "      <th>Tmin1</th>\n",
       "      <th>Cmax1</th>\n",
       "      <th>Cmax2</th>\n",
       "      <th>Cmin1</th>\n",
       "      <th>overnight</th>\n",
       "      <th>breakfast</th>\n",
       "      <th>daytime</th>\n",
       "      <th>evening</th>\n",
       "      <th>mic</th>\n",
       "      <th>meter_dtw</th>\n",
       "      <th>meter_sdtw</th>\n",
       "    </tr>\n",
       "  </thead>\n",
       "  <tbody>\n",
       "    <tr>\n",
       "      <th>0</th>\n",
       "      <td>1236</td>\n",
       "      <td>2009-07-15</td>\n",
       "      <td>1.0</td>\n",
       "      <td>12</td>\n",
       "      <td>30</td>\n",
       "      <td>15</td>\n",
       "      <td>0.046464</td>\n",
       "      <td>0.047532</td>\n",
       "      <td>0.013561</td>\n",
       "      <td>5.380015</td>\n",
       "      <td>15.5</td>\n",
       "      <td>24.5</td>\n",
       "      <td>38.0</td>\n",
       "      <td>0.624128</td>\n",
       "      <td>2.283294</td>\n",
       "      <td>-68.276715</td>\n",
       "    </tr>\n",
       "  </tbody>\n",
       "</table>\n",
       "</div>"
      ],
      "text/plain": [
       "   MeterID         Day  FDI  Tmax1  Tmax2  Tmin1     Cmax1     Cmax2  \\\n",
       "0     1236  2009-07-15  1.0     12     30     15  0.046464  0.047532   \n",
       "\n",
       "      Cmin1  overnight  breakfast  daytime  evening       mic  meter_dtw  \\\n",
       "0  0.013561   5.380015       15.5     24.5     38.0  0.624128   2.283294   \n",
       "\n",
       "   meter_sdtw  \n",
       "0  -68.276715  "
      ]
     },
     "metadata": {},
     "output_type": "display_data"
    },
    {
     "data": {
      "text/html": [
       "<div>\n",
       "<style scoped>\n",
       "    .dataframe tbody tr th:only-of-type {\n",
       "        vertical-align: middle;\n",
       "    }\n",
       "\n",
       "    .dataframe tbody tr th {\n",
       "        vertical-align: top;\n",
       "    }\n",
       "\n",
       "    .dataframe thead th {\n",
       "        text-align: right;\n",
       "    }\n",
       "</style>\n",
       "<table border=\"1\" class=\"dataframe\">\n",
       "  <thead>\n",
       "    <tr style=\"text-align: right;\">\n",
       "      <th></th>\n",
       "      <th>0</th>\n",
       "      <th>1</th>\n",
       "      <th>2</th>\n",
       "      <th>3</th>\n",
       "      <th>4</th>\n",
       "      <th>5</th>\n",
       "      <th>6</th>\n",
       "      <th>7</th>\n",
       "      <th>8</th>\n",
       "      <th>9</th>\n",
       "      <th>...</th>\n",
       "      <th>38</th>\n",
       "      <th>39</th>\n",
       "      <th>40</th>\n",
       "      <th>41</th>\n",
       "      <th>42</th>\n",
       "      <th>43</th>\n",
       "      <th>44</th>\n",
       "      <th>45</th>\n",
       "      <th>46</th>\n",
       "      <th>47</th>\n",
       "    </tr>\n",
       "  </thead>\n",
       "  <tbody>\n",
       "    <tr>\n",
       "      <th>0</th>\n",
       "      <td>0.13407</td>\n",
       "      <td>0.129562</td>\n",
       "      <td>0.113616</td>\n",
       "      <td>0.18602</td>\n",
       "      <td>0.075942</td>\n",
       "      <td>0.133117</td>\n",
       "      <td>0.062728</td>\n",
       "      <td>0.064174</td>\n",
       "      <td>0.143932</td>\n",
       "      <td>0.142687</td>\n",
       "      <td>...</td>\n",
       "      <td>0.159253</td>\n",
       "      <td>0.154713</td>\n",
       "      <td>0.118059</td>\n",
       "      <td>0.13057</td>\n",
       "      <td>0.118797</td>\n",
       "      <td>0.056694</td>\n",
       "      <td>0.106094</td>\n",
       "      <td>0.08098</td>\n",
       "      <td>0.068501</td>\n",
       "      <td>0.204674</td>\n",
       "    </tr>\n",
       "  </tbody>\n",
       "</table>\n",
       "<p>1 rows × 48 columns</p>\n",
       "</div>"
      ],
      "text/plain": [
       "        0         1         2        3         4         5         6   \\\n",
       "0  0.13407  0.129562  0.113616  0.18602  0.075942  0.133117  0.062728   \n",
       "\n",
       "         7         8         9   ...        38        39        40       41  \\\n",
       "0  0.064174  0.143932  0.142687  ...  0.159253  0.154713  0.118059  0.13057   \n",
       "\n",
       "         42        43        44       45        46        47  \n",
       "0  0.118797  0.056694  0.106094  0.08098  0.068501  0.204674  \n",
       "\n",
       "[1 rows x 48 columns]"
      ]
     },
     "metadata": {},
     "output_type": "display_data"
    },
    {
     "data": {
      "text/html": [
       "<div>\n",
       "<style scoped>\n",
       "    .dataframe tbody tr th:only-of-type {\n",
       "        vertical-align: middle;\n",
       "    }\n",
       "\n",
       "    .dataframe tbody tr th {\n",
       "        vertical-align: top;\n",
       "    }\n",
       "\n",
       "    .dataframe thead th {\n",
       "        text-align: right;\n",
       "    }\n",
       "</style>\n",
       "<table border=\"1\" class=\"dataframe\">\n",
       "  <thead>\n",
       "    <tr style=\"text-align: right;\">\n",
       "      <th></th>\n",
       "      <th>MeterID</th>\n",
       "      <th>Day</th>\n",
       "      <th>FDI</th>\n",
       "      <th>Tmax1</th>\n",
       "      <th>Tmax2</th>\n",
       "      <th>Tmin1</th>\n",
       "      <th>Cmax1</th>\n",
       "      <th>Cmax2</th>\n",
       "      <th>Cmin1</th>\n",
       "      <th>overnight</th>\n",
       "      <th>...</th>\n",
       "      <th>38</th>\n",
       "      <th>39</th>\n",
       "      <th>40</th>\n",
       "      <th>41</th>\n",
       "      <th>42</th>\n",
       "      <th>43</th>\n",
       "      <th>44</th>\n",
       "      <th>45</th>\n",
       "      <th>46</th>\n",
       "      <th>47</th>\n",
       "    </tr>\n",
       "  </thead>\n",
       "  <tbody>\n",
       "    <tr>\n",
       "      <th>0</th>\n",
       "      <td>1236</td>\n",
       "      <td>2009-07-15</td>\n",
       "      <td>1.0</td>\n",
       "      <td>12</td>\n",
       "      <td>30</td>\n",
       "      <td>15</td>\n",
       "      <td>0.046464</td>\n",
       "      <td>0.047532</td>\n",
       "      <td>0.013561</td>\n",
       "      <td>5.380015</td>\n",
       "      <td>...</td>\n",
       "      <td>0.159253</td>\n",
       "      <td>0.154713</td>\n",
       "      <td>0.118059</td>\n",
       "      <td>0.13057</td>\n",
       "      <td>0.118797</td>\n",
       "      <td>0.056694</td>\n",
       "      <td>0.106094</td>\n",
       "      <td>0.08098</td>\n",
       "      <td>0.068501</td>\n",
       "      <td>0.204674</td>\n",
       "    </tr>\n",
       "  </tbody>\n",
       "</table>\n",
       "<p>1 rows × 64 columns</p>\n",
       "</div>"
      ],
      "text/plain": [
       "   MeterID         Day  FDI  Tmax1  Tmax2  Tmin1     Cmax1     Cmax2  \\\n",
       "0     1236  2009-07-15  1.0     12     30     15  0.046464  0.047532   \n",
       "\n",
       "      Cmin1  overnight  ...        38        39        40       41        42  \\\n",
       "0  0.013561   5.380015  ...  0.159253  0.154713  0.118059  0.13057  0.118797   \n",
       "\n",
       "         43        44       45        46        47  \n",
       "0  0.056694  0.106094  0.08098  0.068501  0.204674  \n",
       "\n",
       "[1 rows x 64 columns]"
      ]
     },
     "metadata": {},
     "output_type": "display_data"
    }
   ],
   "source": [
    "result = concat_two_df_and_drop_same_column_in_df2(result, elec)\n",
    "result.columns = result.columns.astype(str)"
   ]
  },
  {
   "cell_type": "markdown",
   "id": "coordinate-heaven",
   "metadata": {},
   "source": [
    "## Start Model Training "
   ]
  },
  {
   "cell_type": "code",
   "execution_count": 12,
   "id": "isolated-hybrid",
   "metadata": {},
   "outputs": [],
   "source": [
    "result[\"FDI\"] = result[\"FDI\"].astype(int)"
   ]
  },
  {
   "cell_type": "markdown",
   "id": "hearing-photography",
   "metadata": {},
   "source": [
    "## LinearSVM"
   ]
  },
  {
   "cell_type": "code",
   "execution_count": 13,
   "id": "tired-exploration",
   "metadata": {},
   "outputs": [],
   "source": [
    "def train_model(df, x_col, y_col, score = False, split_num = 3, return_model=False ):\n",
    "    \n",
    "    X = df[x_col]\n",
    "    Y = df[y_col]\n",
    "\n",
    "    partition = 422*8*530\n",
    "    evaluation = 422*1*530\n",
    "    total = 2239250\n",
    "\n",
    "    round = 1\n",
    "    average_score = {}\n",
    "    average_score[\"precision_score\"] = 0\n",
    "    average_score[\"recall_score\"] = 0\n",
    "    average_score[\"accuracy_score\"] = 0\n",
    "    average_score[\"roc_auc_score\"] = 0\n",
    "    average_score[\"f1_score\"] = 0\n",
    "\n",
    "    X_train = X[:partition+evaluation]\n",
    "    y_train = Y[:partition+evaluation]\n",
    "\n",
    "    sss = StratifiedShuffleSplit(n_splits=split_num, test_size=0.4, random_state=1)\n",
    "    for train_index, test_index in sss.split(X_train, y_train):\n",
    "#         test_index = np.concatenate((np.array(test_index), np.array(X[total-(partition+evaluation): total].index)))\n",
    "        X_train, X_test = X.iloc[train_index], X.iloc[test_index]\n",
    "        Y_train, Y_test = np.array(Y.iloc[train_index]).reshape(-1) , np.array(Y.iloc[test_index]).reshape(-1)\n",
    "\n",
    "        model = LinearSVC(max_iter=1000)\n",
    "        model.fit(X_train, Y_train)\n",
    "        y_hat = model.predict(X_test)\n",
    "        average_score[\"precision_score\"] += precision_score(Y_test, y_hat)\n",
    "        average_score[\"recall_score\"] += recall_score(Y_test, y_hat)\n",
    "        average_score[\"accuracy_score\"] += accuracy_score(Y_test, y_hat)\n",
    "        average_score[\"roc_auc_score\"] += roc_auc_score(Y_test, y_hat)\n",
    "        average_score[\"f1_score\"] += f1_score(Y_test, y_hat)\n",
    "\n",
    "        if score:\n",
    "            print(\"round: \" + str(round))\n",
    "            print(\"precision score: \" + str(precision_score(Y_test, y_hat)))\n",
    "            print(\"recall_score: \" + str(recall_score(Y_test, y_hat)))\n",
    "            print(\"accuracy_score: \" + str(accuracy_score(Y_test, y_hat)))\n",
    "            print(\"roc_auc_score: \" + str(roc_auc_score(Y_test, y_hat)))\n",
    "            print(\"f1_score: \" + str(f1_score(Y_test, y_hat)))\n",
    "            print()\n",
    "\n",
    "        round += 1\n",
    "    for key, score in average_score.items():\n",
    "        average_score[key] = score / split_num\n",
    "        print(\"average_\" + key + \": \" + str(average_score[key]))\n",
    "    if return_model==True:\n",
    "        return model, average_score\n",
    "    return average_score\n",
    "\n",
    "def get_permutation_importance(model, X_val, y_val, title=None, origin=False, save=False):\n",
    "    \n",
    "    if save_fig == True and title == None:\n",
    "        raise NameError('Please type the title for the chart to save')\n",
    "        \n",
    "    r = permutation_importance(model, X_val, y_val, n_repeats=30, random_state=0)\n",
    "    four_time_importance = sum(r.importances_mean[:3])\n",
    "    mic_importance = r.importances_mean[10]\n",
    "    v_value_importance = sum(r.importances_mean[4:10])\n",
    "    dtw_importance = r.importances_mean[11]\n",
    "    sdtw_importance = r.importances_mean[12]\n",
    "    if origin == True:\n",
    "        print('include origin data')\n",
    "        origin_importance = sum(r.importances_mean[13:])\n",
    "        importance = { \"four_time\": four_time_importance, \"mic\": mic_importance, \"v_value\": v_value_importance,\n",
    "                  \"dtw\": dtw_importance, \"sdtw\": sdtw_importance, 'origin':origin_importance}\n",
    "    else:\n",
    "        print('no origin data')\n",
    "        importance = { \"four_time\": four_time_importance, \"mic\": mic_importance, \"v_value\": v_value_importance, \"dtw\": dtw_importance, \"sdtw\": sdtw_importance}\n",
    "    \n",
    "    importance = dict(sorted(importance.items(), key=lambda item: item[1], reverse=True))\n",
    "    \n",
    "    y_label = list(importance.keys())\n",
    "    y_pos = np.arange(len(importance))\n",
    "\n",
    "    plt.rcdefaults()\n",
    "    fig, ax = plt.subplots()\n",
    "\n",
    "    ax.barh(y_pos, list(importance.values()), align='center')\n",
    "\n",
    "    ax.set_yticks(y_pos)\n",
    "    ax.set_yticklabels(y_label)\n",
    "\n",
    "    ax.set_xlabel('Importance Mean')\n",
    "    ax.set_title('Permutation importance')\n",
    "    \n",
    "    if save == True:\n",
    "        save_fig('Permutation importance: '+ title)\n",
    "        \n",
    "def save_fig(fig_id, tight_layout=True, fig_extension=\"png\", resolution=300, image_path = IMAGES_PATH):\n",
    "    path = os.path.join(image_path, fig_id + \".\" + fig_extension)\n",
    "    print(\"Saving figure\", fig_id)\n",
    "    if tight_layout:\n",
    "        plt.tight_layout()\n",
    "    plt.savefig(path, format=fig_extension, dpi=resolution)"
   ]
  },
  {
   "cell_type": "code",
   "execution_count": 14,
   "id": "meaning-mouse",
   "metadata": {},
   "outputs": [],
   "source": [
    "def plot_importance(importance):\n",
    "    importance = dict(sorted(importance.items(), key=lambda item: item[1], reverse=True))\n",
    "    \n",
    "    y_label = list(importance.keys())\n",
    "    y_pos = np.arange(len(importance))\n",
    "\n",
    "    plt.rcdefaults()\n",
    "    fig, ax = plt.subplots()\n",
    "\n",
    "    ax.barh(y_pos, list(importance.values()), align='center')\n",
    "\n",
    "    ax.set_yticks(y_pos)\n",
    "    ax.set_yticklabels(y_label)\n",
    "\n",
    "    ax.set_xlabel('Importance Mean')\n",
    "    ax.set_title('Permutation importance')\n",
    "def save_importance(importance, title, size=(10,10)):\n",
    "    y_label = list(importance.keys())\n",
    "    y_pos = np.arange(len(importance))\n",
    "    \n",
    "    \n",
    "    plt.rcdefaults()\n",
    "#     fig, ax = plt.subplots()\n",
    "    plt.figure(dpi=150, figsize=size)\n",
    "    plt.barh(y_pos, list(importance.values()), align='center')\n",
    "\n",
    "#     ax.set_yticks(y_pos)\n",
    "#     ax.set_yticklabels(y_label)\n",
    "    plt.yticks(y_pos, y_label)\n",
    "    plt.xlabel('Importance Mean')\n",
    "#     ax.set_xlabel('Importance Mean')\n",
    "#     ax.set_title('Permutation importance')\n",
    "    plt.title('Permutation importance')\n",
    "\n",
    "    save_fig('Permutation importance: '+ title)\n",
    "def cal_importance_dict():\n",
    "    importance_dict = {r}\n",
    "    for index, key in zip(range(len(col)), col):\n",
    "        print(f'{key}: ', r.importances[index], r.importances_mean[index])\n",
    "        importance_dict[key] = r.importances_mean[index]\n",
    "    return importance_dict"
   ]
  },
  {
   "cell_type": "code",
   "execution_count": 16,
   "id": "proved-platform",
   "metadata": {},
   "outputs": [
    {
     "name": "stderr",
     "output_type": "stream",
     "text": [
      "/opt/conda/lib/python3.7/site-packages/sklearn/svm/_base.py:986: ConvergenceWarning: Liblinear failed to converge, increase the number of iterations.\n",
      "  \"the number of iterations.\", ConvergenceWarning)\n",
      "/opt/conda/lib/python3.7/site-packages/sklearn/svm/_base.py:986: ConvergenceWarning: Liblinear failed to converge, increase the number of iterations.\n",
      "  \"the number of iterations.\", ConvergenceWarning)\n",
      "/opt/conda/lib/python3.7/site-packages/sklearn/svm/_base.py:986: ConvergenceWarning: Liblinear failed to converge, increase the number of iterations.\n",
      "  \"the number of iterations.\", ConvergenceWarning)\n"
     ]
    },
    {
     "name": "stdout",
     "output_type": "stream",
     "text": [
      "average_precision_score: 0.0006894174422612892\n",
      "average_recall_score: 1.663838141825563e-05\n",
      "average_accuracy_score: 0.9497670902593552\n",
      "average_roc_auc_score: 0.49976064173863705\n",
      "average_f1_score: 3.2492587628447265e-05\n",
      "\n",
      " Time taken: 0 hours 26 minutes and 44.14 seconds.\n"
     ]
    }
   ],
   "source": [
    "# 6:4 and seperate train and test dataset\n",
    "# 13 features\n",
    "TITLE = \"LinearSVM with 13 features\"\n",
    "col = ['overnight', 'breakfast', 'daytime', 'evening',\n",
    "       'Tmax1', 'Tmax2', 'Tmin1', 'Cmax1', 'Cmax2', 'Cmin1', 'mic',\n",
    "       'meter_dtw', 'meter_sdtw']\n",
    "start_time = timer(None) \n",
    "model, score = train_model(result, col, ['FDI'], return_model=True)\n",
    "timer(start_time)"
   ]
  },
  {
   "cell_type": "code",
   "execution_count": 17,
   "id": "medieval-restaurant",
   "metadata": {},
   "outputs": [
    {
     "name": "stdout",
     "output_type": "stream",
     "text": [
      "overnight:  [1.78631238e-05 1.78631238e-05 1.87562800e-05] 1.8160842544023836e-05\n",
      "breakfast:  [2.23289048e-06 2.23289048e-06 2.67946857e-06] 2.381749841832518e-06\n",
      "daytime:  [0. 0. 0.] 0.0\n",
      "evening:  [-4.46578095e-07 -8.93156191e-07 -8.93156191e-07] -7.442968255796009e-07\n",
      "Tmax1:  [0.00000000e+00 8.93156191e-07 4.46578095e-07] 4.4657809531815457e-07\n",
      "Tmax2:  [1.33973429e-06 1.78631238e-06 1.78631238e-06] 1.6374530162529173e-06\n",
      "Tmin1:  [1.33973429e-06 1.33973429e-06 4.46578095e-07] 1.0420155558040396e-06\n",
      "Cmax1:  [-4.46578095e-07  0.00000000e+00 -1.33973429e-06] -5.954374604858851e-07\n",
      "Cmax2:  [-4.46578095e-07  0.00000000e+00 -1.78631238e-06] -7.442968255796009e-07\n",
      "Cmin1:  [ 0.00000000e+00  0.00000000e+00 -4.46578095e-07] -1.4885936513072315e-07\n",
      "mic:  [-4.46578095e-07 -2.23289048e-06 -2.67946857e-06] -1.7863123814206479e-06\n",
      "meter_dtw:  [0.00047337 0.00045998 0.00045462] 0.0004626549067768086\n",
      "meter_sdtw:  [0.0005475  0.00056447 0.00057251] 0.0005614975252130246\n"
     ]
    },
    {
     "data": {
      "image/png": "[encoded data removed]",
      "text/plain": [
       "<Figure size 640x480 with 1 Axes>"
      ]
     },
     "metadata": {},
     "output_type": "display_data"
    }
   ],
   "source": [
    "r = permutation_importance(model, result[col], result['FDI'], n_repeats=3, random_state=0, n_jobs=-1)\n",
    "importance_dict = {}\n",
    "for index, key in zip(range(len(col)), col):\n",
    "    print(f'{key}: ', r.importances[index], r.importances_mean[index])\n",
    "    importance_dict[key] = r.importances_mean[index]\n",
    "plot_importance(importance_dict)"
   ]
  },
  {
   "cell_type": "code",
   "execution_count": 18,
   "id": "ecological-kennedy",
   "metadata": {},
   "outputs": [
    {
     "name": "stdout",
     "output_type": "stream",
     "text": [
      "Saving figure Permutation importance: LinearSVM with 13 features(2)\n"
     ]
    },
    {
     "data": {
      "image/png": "[encoded data removed]",
      "text/plain": [
       "<Figure size 1200x1500 with 1 Axes>"
      ]
     },
     "metadata": {},
     "output_type": "display_data"
    }
   ],
   "source": [
    "save_importance(importance_dict, \"LinearSVM with 13 features(2)\", size=(8,10))"
   ]
  },
  {
   "cell_type": "markdown",
   "id": "bored-water",
   "metadata": {},
   "source": [
    "## origin features"
   ]
  },
  {
   "cell_type": "code",
   "execution_count": 18,
   "id": "vulnerable-lightweight",
   "metadata": {},
   "outputs": [
    {
     "name": "stderr",
     "output_type": "stream",
     "text": [
      "/opt/conda/lib/python3.7/site-packages/sklearn/svm/_base.py:986: ConvergenceWarning: Liblinear failed to converge, increase the number of iterations.\n",
      "  \"the number of iterations.\", ConvergenceWarning)\n",
      "/opt/conda/lib/python3.7/site-packages/sklearn/metrics/_classification.py:1245: UndefinedMetricWarning: Precision is ill-defined and being set to 0.0 due to no predicted samples. Use `zero_division` parameter to control this behavior.\n",
      "  _warn_prf(average, modifier, msg_start, len(result))\n",
      "/opt/conda/lib/python3.7/site-packages/sklearn/svm/_base.py:986: ConvergenceWarning: Liblinear failed to converge, increase the number of iterations.\n",
      "  \"the number of iterations.\", ConvergenceWarning)\n",
      "/opt/conda/lib/python3.7/site-packages/sklearn/metrics/_classification.py:1245: UndefinedMetricWarning: Precision is ill-defined and being set to 0.0 due to no predicted samples. Use `zero_division` parameter to control this behavior.\n",
      "  _warn_prf(average, modifier, msg_start, len(result))\n",
      "/opt/conda/lib/python3.7/site-packages/sklearn/svm/_base.py:986: ConvergenceWarning: Liblinear failed to converge, increase the number of iterations.\n",
      "  \"the number of iterations.\", ConvergenceWarning)\n",
      "/opt/conda/lib/python3.7/site-packages/sklearn/metrics/_classification.py:1245: UndefinedMetricWarning: Precision is ill-defined and being set to 0.0 due to no predicted samples. Use `zero_division` parameter to control this behavior.\n",
      "  _warn_prf(average, modifier, msg_start, len(result))\n"
     ]
    },
    {
     "name": "stdout",
     "output_type": "stream",
     "text": [
      "average_precision_score: 0.0\n",
      "average_recall_score: 0.0\n",
      "average_accuracy_score: 0.9502369668246445\n",
      "average_roc_auc_score: 0.5\n",
      "average_f1_score: 0.0\n"
     ]
    }
   ],
   "source": [
    "# 6:4 and seperate train and test dataset\n",
    "# 48 features only\n",
    "TITLE = \"Adaboost: 48 features with 0.4 test data\"\n",
    "col = ['0', '1', '2', '3', '4', '5', '6', '7', '8', '9', '10', '11', '12',\n",
    "       '13', '14', '15', '16', '17', '18', '19', '20', '21', '22', '23', '24',\n",
    "       '25', '26', '27', '28', '29', '30', '31', '32', '33', '34', '35', '36',\n",
    "       '37', '38', '39', '40', '41', '42', '43', '44', '45', '46', '47']\n",
    "model, score = train_model(result, col, ['FDI'], return_model=True)\n",
    "\n"
   ]
  },
  {
   "cell_type": "code",
   "execution_count": 19,
   "id": "employed-settle",
   "metadata": {},
   "outputs": [
    {
     "name": "stdout",
     "output_type": "stream",
     "text": [
      "0:  [0. 0. 0.] 0.0\n",
      "1:  [0. 0. 0.] 0.0\n",
      "2:  [0. 0. 0.] 0.0\n",
      "3:  [0. 0. 0.] 0.0\n",
      "4:  [0. 0. 0.] 0.0\n",
      "5:  [0. 0. 0.] 0.0\n",
      "6:  [0. 0. 0.] 0.0\n",
      "7:  [0. 0. 0.] 0.0\n",
      "8:  [0. 0. 0.] 0.0\n",
      "9:  [0. 0. 0.] 0.0\n",
      "10:  [0. 0. 0.] 0.0\n",
      "11:  [0. 0. 0.] 0.0\n",
      "12:  [0. 0. 0.] 0.0\n",
      "13:  [0. 0. 0.] 0.0\n",
      "14:  [0. 0. 0.] 0.0\n",
      "15:  [0. 0. 0.] 0.0\n",
      "16:  [0. 0. 0.] 0.0\n",
      "17:  [0. 0. 0.] 0.0\n",
      "18:  [0. 0. 0.] 0.0\n",
      "19:  [0. 0. 0.] 0.0\n",
      "20:  [0. 0. 0.] 0.0\n",
      "21:  [0. 0. 0.] 0.0\n",
      "22:  [0. 0. 0.] 0.0\n",
      "23:  [0. 0. 0.] 0.0\n",
      "24:  [0. 0. 0.] 0.0\n",
      "25:  [0. 0. 0.] 0.0\n",
      "26:  [0. 0. 0.] 0.0\n",
      "27:  [0. 0. 0.] 0.0\n",
      "28:  [0. 0. 0.] 0.0\n",
      "29:  [0. 0. 0.] 0.0\n",
      "30:  [0. 0. 0.] 0.0\n",
      "31:  [0. 0. 0.] 0.0\n",
      "32:  [0. 0. 0.] 0.0\n",
      "33:  [0. 0. 0.] 0.0\n",
      "34:  [0. 0. 0.] 0.0\n",
      "35:  [0. 0. 0.] 0.0\n",
      "36:  [0. 0. 0.] 0.0\n",
      "37:  [0. 0. 0.] 0.0\n",
      "38:  [0. 0. 0.] 0.0\n",
      "39:  [0. 0. 0.] 0.0\n",
      "40:  [0. 0. 0.] 0.0\n",
      "41:  [0. 0. 0.] 0.0\n",
      "42:  [0. 0. 0.] 0.0\n",
      "43:  [0. 0. 0.] 0.0\n",
      "44:  [0. 0. 0.] 0.0\n",
      "45:  [0. 0. 0.] 0.0\n",
      "46:  [0. 0. 0.] 0.0\n",
      "47:  [0. 0. 0.] 0.0\n",
      "Saving figure Permutation importance: LinearSVM with 48 features\n"
     ]
    },
    {
     "data": {
      "image/png": "[encoded data removed]",
      "text/plain": [
       "<Figure size 640x480 with 1 Axes>"
      ]
     },
     "metadata": {},
     "output_type": "display_data"
    },
    {
     "data": {
      "image/png": "[encoded data removed]",
      "text/plain": [
       "<Figure size 1200x1500 with 1 Axes>"
      ]
     },
     "metadata": {},
     "output_type": "display_data"
    }
   ],
   "source": [
    "r = permutation_importance(model, result[col], result['FDI'], n_repeats=3, random_state=0, n_jobs=-1)\n",
    "importance_dict = {}\n",
    "for index, key in zip(range(len(col)), col):\n",
    "    print(f'{key}: ', r.importances[index], r.importances_mean[index])\n",
    "    importance_dict[key] = r.importances_mean[index]\n",
    "plot_importance(importance_dict)\n",
    "\n",
    "save_importance(importance_dict, \"LinearSVM with 48 features\", size=(8,10))"
   ]
  },
  {
   "cell_type": "code",
   "execution_count": null,
   "id": "stopped-gospel",
   "metadata": {},
   "outputs": [],
   "source": []
  },
  {
   "cell_type": "markdown",
   "id": "young-verification",
   "metadata": {},
   "source": [
    "## all features"
   ]
  },
  {
   "cell_type": "code",
   "execution_count": 20,
   "id": "systematic-hamilton",
   "metadata": {},
   "outputs": [
    {
     "name": "stderr",
     "output_type": "stream",
     "text": [
      "/opt/conda/lib/python3.7/site-packages/sklearn/svm/_base.py:986: ConvergenceWarning: Liblinear failed to converge, increase the number of iterations.\n",
      "  \"the number of iterations.\", ConvergenceWarning)\n",
      "/opt/conda/lib/python3.7/site-packages/sklearn/svm/_base.py:986: ConvergenceWarning: Liblinear failed to converge, increase the number of iterations.\n",
      "  \"the number of iterations.\", ConvergenceWarning)\n",
      "/opt/conda/lib/python3.7/site-packages/sklearn/svm/_base.py:986: ConvergenceWarning: Liblinear failed to converge, increase the number of iterations.\n",
      "  \"the number of iterations.\", ConvergenceWarning)\n"
     ]
    },
    {
     "name": "stdout",
     "output_type": "stream",
     "text": [
      "average_precision_score: 0.011930199430199429\n",
      "average_recall_score: 8.319190709127816e-05\n",
      "average_accuracy_score: 0.9499111581401665\n",
      "average_roc_auc_score: 0.4998679821195074\n",
      "average_f1_score: 0.00016473603362289555\n",
      "Tmax1:  [0. 0. 0.] 0.0\n",
      "Tmax2:  [-4.46578095e-07  0.00000000e+00  0.00000000e+00] -1.4885936513072315e-07\n",
      "Tmin1:  [ 0.00000000e+00 -8.93156191e-07 -8.93156191e-07] -5.954374605228926e-07\n",
      "Cmax1:  [ 0.00000000e+00 -4.46578095e-07 -4.46578095e-07] -2.977187302614463e-07\n",
      "Cmax2:  [-4.46578095e-07  0.00000000e+00  0.00000000e+00] -1.4885936513072315e-07\n",
      "Cmin1:  [ 0.00000000e+00 -4.46578095e-07 -4.46578095e-07] -2.977187302614463e-07\n",
      "overnight:  [0.00187116 0.00186759 0.00188054] 0.001873097391239605\n",
      "breakfast:  [1.78631238e-06 1.78631238e-06 1.78631238e-06] 1.786312381346633e-06\n",
      "daytime:  [0.00148934 0.00149336 0.0014947 ] 0.0014924639946409801\n",
      "evening:  [0. 0. 0.] 0.0\n",
      "mic:  [-4.46578095e-07 -8.93156191e-07  0.00000000e+00] -4.465780953921694e-07\n",
      "meter_dtw:  [8.12772134e-05 8.39566819e-05 8.26169476e-05] 8.261694763866956e-05\n",
      "meter_sdtw:  [0.00019203 0.00019381 0.0001898 ] 0.000191879721632963\n",
      "0:  [6.34140895e-05 6.47538238e-05 6.47538238e-05] 6.4307245729515e-05\n",
      "1:  [1.87562800e-05 1.92028581e-05 1.92028581e-05] 1.905399873462314e-05\n",
      "2:  [3.12604667e-06 3.57262476e-06 3.57262476e-06] 3.423765397562543e-06\n",
      "3:  [1.38439210e-05 1.38439210e-05 1.42904991e-05] 1.3992780320733663e-05\n",
      "4:  [2.23289048e-06 2.67946857e-06 2.23289048e-06] 2.3817498417585035e-06\n",
      "5:  [8.48498381e-06 8.48498381e-06 8.48498381e-06] 8.484983811452018e-06\n",
      "6:  [0. 0. 0.] 0.0\n",
      "7:  [8.48498381e-06 8.48498381e-06 8.48498381e-06] 8.484983811452018e-06\n",
      "8:  [4.01920286e-06 4.01920286e-06 4.01920286e-06] 4.0192028580854355e-06\n",
      "9:  [8.48498381e-06 8.93156191e-06 8.48498381e-06] 8.633843176582742e-06\n",
      "10:  [1.33973429e-06 1.78631238e-06 1.78631238e-06] 1.63745301621591e-06\n",
      "11:  [1.47370771e-05 1.42904991e-05 1.42904991e-05] 1.4439358416088824e-05\n",
      "12:  [4.01920286e-06 4.46578095e-06 4.01920286e-06] 4.1680622231791515e-06\n",
      "13:  [0. 0. 0.] 0.0\n",
      "14:  [0. 0. 0.] 0.0\n",
      "15:  [2.23289048e-06 2.23289048e-06 2.23289048e-06] 2.23289047662778e-06\n",
      "16:  [0. 0. 0.] 0.0\n",
      "17:  [-4.46578095e-07 -4.46578095e-07  0.00000000e+00] -2.977187302614463e-07\n",
      "18:  [ 0.00000000e+00 -4.46578095e-07  0.00000000e+00] -1.4885936513072315e-07\n",
      "19:  [-4.46578095e-07 -4.46578095e-07  0.00000000e+00] -2.977187302614463e-07\n",
      "20:  [-4.46578095e-07 -4.46578095e-07  0.00000000e+00] -2.977187302614463e-07\n",
      "21:  [ 0.00000000e+00 -4.46578095e-07  0.00000000e+00] -1.4885936513072315e-07\n",
      "22:  [0. 0. 0.] 0.0\n",
      "23:  [ 0.00000000e+00 -4.46578095e-07  0.00000000e+00] -1.4885936513072315e-07\n",
      "24:  [0. 0. 0.] 0.0\n",
      "25:  [0. 0. 0.] 0.0\n",
      "26:  [ 0.00000000e+00 -4.46578095e-07  0.00000000e+00] -1.4885936513072315e-07\n",
      "27:  [0. 0. 0.] 0.0\n",
      "28:  [0. 0. 0.] 0.0\n",
      "29:  [0. 0. 0.] 0.0\n",
      "30:  [0. 0. 0.] 0.0\n",
      "31:  [ 0.00000000e+00 -4.46578095e-07  0.00000000e+00] -1.4885936513072315e-07\n",
      "32:  [ 0.00000000e+00 -4.46578095e-07  0.00000000e+00] -1.4885936513072315e-07\n",
      "33:  [ 0.00000000e+00 -4.46578095e-07  0.00000000e+00] -1.4885936513072315e-07\n",
      "34:  [ 0.00000000e+00 -4.46578095e-07  0.00000000e+00] -1.4885936513072315e-07\n",
      "35:  [-4.46578095e-07 -4.46578095e-07  0.00000000e+00] -2.977187302614463e-07\n",
      "36:  [ 0.00000000e+00 -4.46578095e-07  0.00000000e+00] -1.4885936513072315e-07\n",
      "37:  [4.46578095e-07 0.00000000e+00 4.46578095e-07] 2.977187301874314e-07\n",
      "38:  [-4.46578095e-07 -4.46578095e-07  0.00000000e+00] -2.977187302614463e-07\n",
      "39:  [-4.46578095e-07 -4.46578095e-07  0.00000000e+00] -2.977187302614463e-07\n",
      "40:  [ 0.00000000e+00 -4.46578095e-07  0.00000000e+00] -1.4885936513072315e-07\n",
      "41:  [-4.46578095e-07 -4.46578095e-07  0.00000000e+00] -2.977187302614463e-07\n",
      "42:  [-4.46578095e-07 -4.46578095e-07  0.00000000e+00] -2.977187302614463e-07\n",
      "43:  [0. 0. 0.] 0.0\n",
      "44:  [0.00000000e+00 0.00000000e+00 4.46578095e-07] 1.488593650937157e-07\n",
      "45:  [0.00000000e+00 0.00000000e+00 4.46578095e-07] 1.488593650937157e-07\n",
      "46:  [6.69867143e-06 6.69867143e-06 7.14524953e-06] 6.847530795236108e-06\n",
      "47:  [4.01920286e-06 4.46578095e-06 4.46578095e-06] 4.316921588272867e-06\n",
      "Saving figure Permutation importance: LinearSVM with 13 + 48 features\n"
     ]
    },
    {
     "data": {
      "image/png": "[encoded data removed]",
      "text/plain": [
       "<Figure size 640x480 with 1 Axes>"
      ]
     },
     "metadata": {},
     "output_type": "display_data"
    },
    {
     "data": {
      "image/png": "[encoded data removed]",
      "text/plain": [
       "<Figure size 1500x1500 with 1 Axes>"
      ]
     },
     "metadata": {},
     "output_type": "display_data"
    }
   ],
   "source": [
    "# 6:4 and seperate train and test dataset\n",
    "# 13 + 48 features\n",
    "TITLE = \"LinearSVM: 13 + 48 features with 0.4 test data\"\n",
    "col = result.drop(['Day', 'MeterID', 'FDI'], axis=1).columns\n",
    "model, score = train_model(result, col, ['FDI'], return_model=True)\n",
    "\n",
    "r = permutation_importance(model, result[col], result['FDI'], n_repeats=3, random_state=0, n_jobs=-1)\n",
    "importance_dict = {}\n",
    "for index, key in zip(range(len(col)), col):\n",
    "    print(f'{key}: ', r.importances[index], r.importances_mean[index])\n",
    "    importance_dict[key] = r.importances_mean[index]\n",
    "plot_importance(importance_dict)\n",
    "\n",
    "save_importance(importance_dict, \"LinearSVM with 13 + 48 features\", size=(10,10))"
   ]
  },
  {
   "cell_type": "code",
   "execution_count": null,
   "id": "written-deviation",
   "metadata": {},
   "outputs": [],
   "source": []
  },
  {
   "cell_type": "code",
   "execution_count": null,
   "id": "grateful-pasta",
   "metadata": {},
   "outputs": [],
   "source": []
  },
  {
   "cell_type": "code",
   "execution_count": null,
   "id": "treated-period",
   "metadata": {},
   "outputs": [],
   "source": []
  },
  {
   "cell_type": "code",
   "execution_count": null,
   "id": "lined-spending",
   "metadata": {},
   "outputs": [],
   "source": []
  },
  {
   "cell_type": "code",
   "execution_count": null,
   "id": "material-parade",
   "metadata": {},
   "outputs": [],
   "source": []
  },
  {
   "cell_type": "code",
   "execution_count": null,
   "id": "apparent-farmer",
   "metadata": {},
   "outputs": [],
   "source": []
  },
  {
   "cell_type": "code",
   "execution_count": null,
   "id": "smoking-temperature",
   "metadata": {},
   "outputs": [],
   "source": []
  },
  {
   "cell_type": "code",
   "execution_count": null,
   "id": "cross-taxation",
   "metadata": {},
   "outputs": [],
   "source": []
  },
  {
   "cell_type": "code",
   "execution_count": null,
   "id": "expired-lobby",
   "metadata": {},
   "outputs": [],
   "source": []
  },
  {
   "cell_type": "code",
   "execution_count": 19,
   "id": "duplicate-thumbnail",
   "metadata": {},
   "outputs": [
    {
     "name": "stderr",
     "output_type": "stream",
     "text": [
      "/opt/conda/lib/python3.7/site-packages/sklearn/svm/_base.py:986: ConvergenceWarning: Liblinear failed to converge, increase the number of iterations.\n",
      "  \"the number of iterations.\", ConvergenceWarning)\n",
      "/opt/conda/lib/python3.7/site-packages/sklearn/svm/_base.py:986: ConvergenceWarning: Liblinear failed to converge, increase the number of iterations.\n",
      "  \"the number of iterations.\", ConvergenceWarning)\n",
      "/opt/conda/lib/python3.7/site-packages/sklearn/svm/_base.py:986: ConvergenceWarning: Liblinear failed to converge, increase the number of iterations.\n",
      "  \"the number of iterations.\", ConvergenceWarning)\n"
     ]
    },
    {
     "name": "stdout",
     "output_type": "stream",
     "text": [
      "average_precision_score: 0.0842911877394636\n",
      "average_recall_score: 4.99151442547669e-05\n",
      "average_accuracy_score: 0.9497670902593552\n",
      "average_roc_auc_score: 0.49977640878337254\n",
      "average_f1_score: 9.854779640951607e-05\n",
      "\n",
      " Time taken: 0 hours 24 minutes and 7.85 seconds.\n"
     ]
    }
   ],
   "source": [
    "# 6:4 and seperate train and test dataset\n",
    "# 13 features\n",
    "TITLE = \"LinearSVM with 13 features\"\n",
    "col = ['overnight', 'breakfast', 'daytime', 'evening',\n",
    "       'Tmax1', 'Tmax2', 'Tmin1', 'Cmax1', 'Cmax2', 'Cmin1', 'mic',\n",
    "       'meter_dtw', 'meter_sdtw']\n",
    "start_time = timer(None) \n",
    "model, score = train_model(result, col, ['FDI'], return_model=True)\n",
    "timer(start_time)"
   ]
  },
  {
   "cell_type": "code",
   "execution_count": null,
   "id": "ranking-murray",
   "metadata": {},
   "outputs": [],
   "source": [
    "r = permutation_importance(model, result[col], result['FDI'], n_repeats=3, random_state=0, n_jobs=-1)\n",
    "importance_dict = {}\n",
    "for index, key in zip(range(len(col)), col):\n",
    "    print(f'{key}: ', r.importances[index], r.importances_mean[index])\n",
    "    importance_dict[key] = r.importances_mean[index]\n",
    "plot_importance(importance_dict)"
   ]
  },
  {
   "cell_type": "code",
   "execution_count": null,
   "id": "linear-center",
   "metadata": {},
   "outputs": [],
   "source": [
    "save_importance(importance_dict, \"LinearSVM with 13 features\", size=(8,10))"
   ]
  },
  {
   "cell_type": "code",
   "execution_count": null,
   "id": "wireless-district",
   "metadata": {},
   "outputs": [],
   "source": []
  },
  {
   "cell_type": "code",
   "execution_count": null,
   "id": "italian-seafood",
   "metadata": {},
   "outputs": [],
   "source": []
  },
  {
   "cell_type": "code",
   "execution_count": null,
   "id": "automotive-camel",
   "metadata": {},
   "outputs": [],
   "source": []
  },
  {
   "cell_type": "code",
   "execution_count": null,
   "id": "surgical-precipitation",
   "metadata": {},
   "outputs": [],
   "source": []
  },
  {
   "cell_type": "code",
   "execution_count": null,
   "id": "divine-factory",
   "metadata": {},
   "outputs": [],
   "source": []
  },
  {
   "cell_type": "code",
   "execution_count": null,
   "id": "featured-cyprus",
   "metadata": {},
   "outputs": [],
   "source": []
  },
  {
   "cell_type": "code",
   "execution_count": null,
   "id": "banned-minneapolis",
   "metadata": {},
   "outputs": [],
   "source": []
  },
  {
   "cell_type": "code",
   "execution_count": null,
   "id": "adaptive-trash",
   "metadata": {},
   "outputs": [],
   "source": []
  },
  {
   "cell_type": "code",
   "execution_count": null,
   "id": "primary-formation",
   "metadata": {},
   "outputs": [],
   "source": []
  },
  {
   "cell_type": "code",
   "execution_count": null,
   "id": "seven-motion",
   "metadata": {},
   "outputs": [],
   "source": []
  },
  {
   "cell_type": "code",
   "execution_count": null,
   "id": "handy-assault",
   "metadata": {},
   "outputs": [],
   "source": []
  },
  {
   "cell_type": "code",
   "execution_count": null,
   "id": "beneficial-library",
   "metadata": {},
   "outputs": [],
   "source": []
  },
  {
   "cell_type": "code",
   "execution_count": null,
   "id": "electrical-hostel",
   "metadata": {},
   "outputs": [],
   "source": []
  },
  {
   "cell_type": "code",
   "execution_count": null,
   "id": "sound-orlando",
   "metadata": {},
   "outputs": [],
   "source": []
  },
  {
   "cell_type": "code",
   "execution_count": null,
   "id": "electric-worth",
   "metadata": {},
   "outputs": [],
   "source": []
  },
  {
   "cell_type": "code",
   "execution_count": null,
   "id": "known-victorian",
   "metadata": {},
   "outputs": [],
   "source": []
  },
  {
   "cell_type": "code",
   "execution_count": null,
   "id": "accompanied-northeast",
   "metadata": {},
   "outputs": [],
   "source": []
  },
  {
   "cell_type": "code",
   "execution_count": null,
   "id": "magnetic-seafood",
   "metadata": {},
   "outputs": [],
   "source": []
  },
  {
   "cell_type": "code",
   "execution_count": null,
   "id": "threaded-variable",
   "metadata": {},
   "outputs": [],
   "source": []
  },
  {
   "cell_type": "code",
   "execution_count": null,
   "id": "viral-thousand",
   "metadata": {},
   "outputs": [],
   "source": []
  },
  {
   "cell_type": "code",
   "execution_count": null,
   "id": "tested-japan",
   "metadata": {},
   "outputs": [],
   "source": []
  },
  {
   "cell_type": "code",
   "execution_count": 12,
   "id": "infinite-middle",
   "metadata": {},
   "outputs": [
    {
     "name": "stderr",
     "output_type": "stream",
     "text": [
      "/opt/conda/lib/python3.7/site-packages/sklearn/svm/_base.py:986: ConvergenceWarning: Liblinear failed to converge, increase the number of iterations.\n",
      "  \"the number of iterations.\", ConvergenceWarning)\n",
      "/opt/conda/lib/python3.7/site-packages/sklearn/svm/_base.py:986: ConvergenceWarning: Liblinear failed to converge, increase the number of iterations.\n",
      "  \"the number of iterations.\", ConvergenceWarning)\n",
      "/opt/conda/lib/python3.7/site-packages/sklearn/svm/_base.py:986: ConvergenceWarning: Liblinear failed to converge, increase the number of iterations.\n",
      "  \"the number of iterations.\", ConvergenceWarning)\n"
     ]
    },
    {
     "name": "stdout",
     "output_type": "stream",
     "text": [
      "average_precision_score: 0.0\n",
      "average_recall_score: 0.0\n",
      "average_accuracy_score: 0.9501980519372989\n",
      "average_roc_auc_score: 0.49997952358795533\n",
      "average_f1_score: 0.0\n",
      "no origin data\n",
      "Saving figure Permutation importance: LinearSVM: 13 features with 0.4 test data\n"
     ]
    },
    {
     "data": {
      "image/png": "[encoded data removed]",
      "text/plain": [
       "<Figure size 640x480 with 1 Axes>"
      ]
     },
     "metadata": {},
     "output_type": "display_data"
    }
   ],
   "source": [
    "# 6:4 and seperate train and test dataset\n",
    "# 13 features\n",
    "TITLE = \"LinearSVM: 13 features with 0.4 test data\"\n",
    "col = ['overnight', 'breakfast', 'daytime', 'evening',\n",
    "       'Tmax1', 'Tmax2', 'Tmin1', 'Cmax1', 'Cmax2', 'Cmin1', 'mic',\n",
    "       'meter_dtw', 'meter_sdtw']\n",
    "model, score = train_model(result, col, ['FDI'], return_model=True)\n",
    "get_permutation_importance(model, result[col][partition:], result['FDI'][partition:], title= TITLE, save=True)"
   ]
  },
  {
   "cell_type": "code",
   "execution_count": 13,
   "id": "opponent-fluid",
   "metadata": {},
   "outputs": [
    {
     "name": "stderr",
     "output_type": "stream",
     "text": [
      "/opt/conda/lib/python3.7/site-packages/sklearn/svm/_base.py:986: ConvergenceWarning: Liblinear failed to converge, increase the number of iterations.\n",
      "  \"the number of iterations.\", ConvergenceWarning)\n",
      "/opt/conda/lib/python3.7/site-packages/sklearn/svm/_base.py:986: ConvergenceWarning: Liblinear failed to converge, increase the number of iterations.\n",
      "  \"the number of iterations.\", ConvergenceWarning)\n",
      "/opt/conda/lib/python3.7/site-packages/sklearn/svm/_base.py:986: ConvergenceWarning: Liblinear failed to converge, increase the number of iterations.\n",
      "  \"the number of iterations.\", ConvergenceWarning)\n"
     ]
    },
    {
     "name": "stdout",
     "output_type": "stream",
     "text": [
      "average_precision_score: 0.02796674225245654\n",
      "average_recall_score: 0.0012312402249509168\n",
      "average_accuracy_score: 0.9495596821895668\n",
      "average_roc_auc_score: 0.5002270039519683\n",
      "average_f1_score: 0.00235864091285778\n",
      "include origin data\n",
      "Saving figure Permutation importance: LinearSVM: 13 + 48 features with 0.4 test data\n"
     ]
    },
    {
     "data": {
      "image/png": "[encoded data removed]",
      "text/plain": [
       "<Figure size 640x480 with 1 Axes>"
      ]
     },
     "metadata": {},
     "output_type": "display_data"
    }
   ],
   "source": [
    "# 6:4 and seperate train and test dataset\n",
    "# 13 + 48 features\n",
    "TITLE = \"LinearSVM: 13 + 48 features with 0.4 test data\"\n",
    "col = result.drop(['Day', 'MeterID', 'FDI'], axis=1).columns\n",
    "model, score = train_model(result, col, ['FDI'], return_model=True)\n",
    "get_permutation_importance(model, result[col][partition:], result['FDI'][partition:], title= TITLE, origin=True,save=True)"
   ]
  },
  {
   "cell_type": "markdown",
   "id": "banner-athletics",
   "metadata": {},
   "source": [
    "## old(all meter is false)"
   ]
  },
  {
   "cell_type": "code",
   "execution_count": 15,
   "id": "violent-opposition",
   "metadata": {},
   "outputs": [
    {
     "name": "stderr",
     "output_type": "stream",
     "text": [
      "/opt/conda/lib/python3.7/site-packages/sklearn/svm/_base.py:986: ConvergenceWarning: Liblinear failed to converge, increase the number of iterations.\n",
      "  \"the number of iterations.\", ConvergenceWarning)\n",
      "/opt/conda/lib/python3.7/site-packages/sklearn/svm/_base.py:986: ConvergenceWarning: Liblinear failed to converge, increase the number of iterations.\n",
      "  \"the number of iterations.\", ConvergenceWarning)\n",
      "/opt/conda/lib/python3.7/site-packages/sklearn/svm/_base.py:986: ConvergenceWarning: Liblinear failed to converge, increase the number of iterations.\n",
      "  \"the number of iterations.\", ConvergenceWarning)\n"
     ]
    },
    {
     "name": "stdout",
     "output_type": "stream",
     "text": [
      "average_precision_score: 0.03600522836780596\n",
      "average_recall_score: 0.3116202455825097\n",
      "average_accuracy_score: 0.6602883510354672\n",
      "average_roc_auc_score: 0.505222798873494\n",
      "average_f1_score: 0.06172758283305967\n",
      "no origin data\n",
      "Saving figure Permutation importance: LinearSVM: 13 features with 0.4 test data\n"
     ]
    },
    {
     "data": {
      "image/png": "[encoded data removed]",
      "text/plain": [
       "<Figure size 640x480 with 1 Axes>"
      ]
     },
     "metadata": {},
     "output_type": "display_data"
    }
   ],
   "source": [
    "# 6:4 and seperate train and test dataset\n",
    "# 13 features\n",
    "TITLE = \"LinearSVM: 13 features with 0.4 test data\"\n",
    "col = ['overnight', 'breakfast', 'daytime', 'evening',\n",
    "       'Tmax1', 'Tmax2', 'Tmin1', 'Cmax1', 'Cmax2', 'Cmin1', 'mic',\n",
    "       'meter_dtw', 'meter_sdtw']\n",
    "model, score = train_model(result, col, ['FDI'], return_model=True)\n",
    "get_permutation_importance(model, result[col][partition:], result['FDI'][partition:], title= TITLE, save=True)"
   ]
  },
  {
   "cell_type": "code",
   "execution_count": 17,
   "id": "sporting-virus",
   "metadata": {},
   "outputs": [
    {
     "name": "stderr",
     "output_type": "stream",
     "text": [
      "/opt/conda/lib/python3.7/site-packages/sklearn/svm/_base.py:986: ConvergenceWarning: Liblinear failed to converge, increase the number of iterations.\n",
      "  \"the number of iterations.\", ConvergenceWarning)\n",
      "/opt/conda/lib/python3.7/site-packages/sklearn/svm/_base.py:986: ConvergenceWarning: Liblinear failed to converge, increase the number of iterations.\n",
      "  \"the number of iterations.\", ConvergenceWarning)\n",
      "/opt/conda/lib/python3.7/site-packages/sklearn/svm/_base.py:986: ConvergenceWarning: Liblinear failed to converge, increase the number of iterations.\n",
      "  \"the number of iterations.\", ConvergenceWarning)\n"
     ]
    },
    {
     "name": "stdout",
     "output_type": "stream",
     "text": [
      "average_precision_score: 0.01265022137887413\n",
      "average_recall_score: 0.0002495757212738345\n",
      "average_accuracy_score: 0.8997999609195174\n",
      "average_roc_auc_score: 0.4997367632918775\n",
      "average_f1_score: 0.0004894942300867629\n",
      "include origin data\n",
      "Saving figure Permutation importance: LinearSVM: 13 + 48 features with 0.4 test data\n"
     ]
    },
    {
     "data": {
      "image/png": "[encoded data removed]",
      "text/plain": [
       "<Figure size 640x480 with 1 Axes>"
      ]
     },
     "metadata": {},
     "output_type": "display_data"
    }
   ],
   "source": [
    "# 6:4 and seperate train and test dataset\n",
    "# 13 + 48 features\n",
    "TITLE = \"LinearSVM: 13 + 48 features with 0.4 test data\"\n",
    "col = result.drop(['Day', 'MeterID', 'FDI'], axis=1).columns\n",
    "model, score = train_model(result, col, ['FDI'], return_model=True)\n",
    "get_permutation_importance(model, result[col][partition:], result['FDI'][partition:], title= TITLE, origin=True,save=True)"
   ]
  },
  {
   "cell_type": "markdown",
   "id": "greater-warren",
   "metadata": {},
   "source": [
    "## SVM"
   ]
  },
  {
   "cell_type": "code",
   "execution_count": 13,
   "id": "adjacent-lemon",
   "metadata": {},
   "outputs": [],
   "source": [
    "def train_model(df, x_col, y_col, score = False, split_num = 3, return_model=False ):\n",
    "    \n",
    "    X = df[x_col]\n",
    "    Y = df[y_col]\n",
    "\n",
    "    partition = 422*8*530\n",
    "    evaluation = 422*1*530\n",
    "    total = 2239250\n",
    "\n",
    "    round = 1\n",
    "    average_score = {}\n",
    "    average_score[\"precision_score\"] = 0\n",
    "    average_score[\"recall_score\"] = 0\n",
    "    average_score[\"accuracy_score\"] = 0\n",
    "    average_score[\"roc_auc_score\"] = 0\n",
    "    average_score[\"f1_score\"] = 0\n",
    "\n",
    "    X_train = X[:partition+evaluation]\n",
    "    y_train = Y[:partition+evaluation]\n",
    "\n",
    "    sss = StratifiedShuffleSplit(n_splits=split_num, test_size=0.4, random_state=1)\n",
    "    for train_index, test_index in sss.split(X_train, y_train):\n",
    "#         test_index = np.concatenate((np.array(test_index), np.array(X[total-(partition+evaluation): total].index)))\n",
    "        X_train, X_test = X.iloc[train_index], X.iloc[test_index]\n",
    "        Y_train, Y_test = np.array(Y.iloc[train_index]).reshape(-1) , np.array(Y.iloc[test_index]).reshape(-1)\n",
    "\n",
    "        model = SVC()\n",
    "        model.fit(X_train, Y_train)\n",
    "        y_hat = model.predict(X_test)\n",
    "        average_score[\"precision_score\"] += precision_score(Y_test, y_hat)\n",
    "        average_score[\"recall_score\"] += recall_score(Y_test, y_hat)\n",
    "        average_score[\"accuracy_score\"] += accuracy_score(Y_test, y_hat)\n",
    "        average_score[\"roc_auc_score\"] += roc_auc_score(Y_test, y_hat)\n",
    "        average_score[\"f1_score\"] += f1_score(Y_test, y_hat)\n",
    "\n",
    "        if score:\n",
    "            print(\"round: \" + str(round))\n",
    "            print(\"precision score: \" + str(precision_score(Y_test, y_hat)))\n",
    "            print(\"recall_score: \" + str(recall_score(Y_test, y_hat)))\n",
    "            print(\"accuracy_score: \" + str(accuracy_score(Y_test, y_hat)))\n",
    "            print(\"roc_auc_score: \" + str(roc_auc_score(Y_test, y_hat)))\n",
    "            print(\"f1_score: \" + str(f1_score(Y_test, y_hat)))\n",
    "            print()\n",
    "\n",
    "        round += 1\n",
    "    for key, score in average_score.items():\n",
    "        average_score[key] = score / split_num\n",
    "        print(\"average_\" + key + \": \" + str(average_score[key]))\n",
    "    if return_model==True:\n",
    "        return model, average_score\n",
    "    return average_score"
   ]
  },
  {
   "cell_type": "code",
   "execution_count": null,
   "id": "induced-ecology",
   "metadata": {},
   "outputs": [
    {
     "name": "stderr",
     "output_type": "stream",
     "text": [
      "/opt/conda/lib/python3.7/site-packages/sklearn/metrics/_classification.py:1245: UndefinedMetricWarning: Precision is ill-defined and being set to 0.0 due to no predicted samples. Use `zero_division` parameter to control this behavior.\n",
      "  _warn_prf(average, modifier, msg_start, len(result))\n"
     ]
    }
   ],
   "source": [
    "# 6:4 and seperate train and test dataset\n",
    "# 13 features\n",
    "TITLE = \"SVM: 13 features with 0.4 test data\"\n",
    "col = ['overnight', 'breakfast', 'daytime', 'evening',\n",
    "       'Tmax1', 'Tmax2', 'Tmin1', 'Cmax1', 'Cmax2', 'Cmin1', 'mic',\n",
    "       'meter_dtw', 'meter_sdtw']\n",
    "model, score = train_model(result, col, ['FDI'], return_model=True)\n",
    "get_permutation_importance(model, result[col][partition:], result['FDI'][partition:], title= TITLE, save=True)"
   ]
  },
  {
   "cell_type": "code",
   "execution_count": null,
   "id": "faced-cincinnati",
   "metadata": {},
   "outputs": [],
   "source": [
    "model, score"
   ]
  },
  {
   "cell_type": "code",
   "execution_count": null,
   "id": "better-wilson",
   "metadata": {},
   "outputs": [],
   "source": [
    "# 6:4 and seperate train and test dataset\n",
    "# 13 + 48 features\n",
    "TITLE = \"SVM: 13 + 48 features with 0.4 test data\"\n",
    "col = result.drop(['Day', 'MeterID', 'FDI'], axis=1).columns\n",
    "model, score = train_model(result, col, ['FDI'], return_model=True)\n",
    "get_permutation_importance(model, result[col][partition:], result['FDI'][partition:], title= TITLE, origin=True, save=True)"
   ]
  },
  {
   "cell_type": "code",
   "execution_count": null,
   "id": "useful-occasions",
   "metadata": {},
   "outputs": [],
   "source": [
    "1"
   ]
  }
 ],
 "metadata": {
  "environment": {
   "name": "common-cpu.mnightly-2021-02-12-debian-10-test",
   "type": "gcloud",
   "uri": "gcr.io/deeplearning-platform-release/base-cpu:mnightly-2021-02-12-debian-10-test"
  },
  "kernelspec": {
   "display_name": "Python [conda env:root] *",
   "language": "python",
   "name": "conda-root-py"
  },
  "language_info": {
   "codemirror_mode": {
    "name": "ipython",
    "version": 3
   },
   "file_extension": ".py",
   "mimetype": "text/x-python",
   "name": "python",
   "nbconvert_exporter": "python",
   "pygments_lexer": "ipython3",
   "version": "3.7.9"
  }
 },
 "nbformat": 4,
 "nbformat_minor": 5
}
